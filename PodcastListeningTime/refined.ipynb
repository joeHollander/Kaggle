{
 "cells": [
  {
   "cell_type": "code",
   "execution_count": 68,
   "id": "387bb014",
   "metadata": {},
   "outputs": [],
   "source": [
    "# normal imports\n",
    "\n",
    "import numpy as np\n",
    "import pandas as pd\n",
    "import matplotlib.pyplot as plt\n",
    "import seaborn as sns\n",
    "\n",
    "# cleanlab\n",
    "from cleanlab.regression.learn import CleanLearning"
   ]
  },
  {
   "cell_type": "code",
   "execution_count": 69,
   "id": "499a2e1c",
   "metadata": {},
   "outputs": [
    {
     "data": {
      "text/html": [
       "<div>\n",
       "<style scoped>\n",
       "    .dataframe tbody tr th:only-of-type {\n",
       "        vertical-align: middle;\n",
       "    }\n",
       "\n",
       "    .dataframe tbody tr th {\n",
       "        vertical-align: top;\n",
       "    }\n",
       "\n",
       "    .dataframe thead th {\n",
       "        text-align: right;\n",
       "    }\n",
       "</style>\n",
       "<table border=\"1\" class=\"dataframe\">\n",
       "  <thead>\n",
       "    <tr style=\"text-align: right;\">\n",
       "      <th></th>\n",
       "      <th>id</th>\n",
       "      <th>podcast_name</th>\n",
       "      <th>episode_title</th>\n",
       "      <th>episode_length_minutes</th>\n",
       "      <th>genre</th>\n",
       "      <th>host_popularity_percentage</th>\n",
       "      <th>publication_day</th>\n",
       "      <th>publication_time</th>\n",
       "      <th>guest_popularity_percentage</th>\n",
       "      <th>number_of_ads</th>\n",
       "      <th>episode_sentiment</th>\n",
       "      <th>listening_time_minutes</th>\n",
       "    </tr>\n",
       "  </thead>\n",
       "  <tbody>\n",
       "    <tr>\n",
       "      <th>0</th>\n",
       "      <td>0</td>\n",
       "      <td>Mystery Matters</td>\n",
       "      <td>Episode 98</td>\n",
       "      <td>NaN</td>\n",
       "      <td>True Crime</td>\n",
       "      <td>74.81</td>\n",
       "      <td>Thursday</td>\n",
       "      <td>Night</td>\n",
       "      <td>NaN</td>\n",
       "      <td>0.0</td>\n",
       "      <td>Positive</td>\n",
       "      <td>31.41998</td>\n",
       "    </tr>\n",
       "  </tbody>\n",
       "</table>\n",
       "</div>"
      ],
      "text/plain": [
       "   id     podcast_name episode_title  episode_length_minutes       genre  \\\n",
       "0   0  Mystery Matters    Episode 98                     NaN  True Crime   \n",
       "\n",
       "   host_popularity_percentage publication_day publication_time  \\\n",
       "0                       74.81        Thursday            Night   \n",
       "\n",
       "   guest_popularity_percentage  number_of_ads episode_sentiment  \\\n",
       "0                          NaN            0.0          Positive   \n",
       "\n",
       "   listening_time_minutes  \n",
       "0                31.41998  "
      ]
     },
     "execution_count": 69,
     "metadata": {},
     "output_type": "execute_result"
    }
   ],
   "source": [
    "train = pd.read_csv('train.csv')\n",
    "train.columns = train.columns.str.lower()\n",
    "train.head(1)"
   ]
  },
  {
   "cell_type": "code",
   "execution_count": 70,
   "id": "8a70b585",
   "metadata": {},
   "outputs": [],
   "source": [
    "# for kaggle \n",
    "# %load_ext cudf.pandas \n",
    "pd.set_option('display.max_columns', 500)"
   ]
  },
  {
   "cell_type": "code",
   "execution_count": 71,
   "id": "a5aa2a50",
   "metadata": {},
   "outputs": [
    {
     "data": {
      "text/html": [
       "<div>\n",
       "<style scoped>\n",
       "    .dataframe tbody tr th:only-of-type {\n",
       "        vertical-align: middle;\n",
       "    }\n",
       "\n",
       "    .dataframe tbody tr th {\n",
       "        vertical-align: top;\n",
       "    }\n",
       "\n",
       "    .dataframe thead th {\n",
       "        text-align: right;\n",
       "    }\n",
       "</style>\n",
       "<table border=\"1\" class=\"dataframe\">\n",
       "  <thead>\n",
       "    <tr style=\"text-align: right;\">\n",
       "      <th></th>\n",
       "      <th>id</th>\n",
       "      <th>podcast_name</th>\n",
       "      <th>episode_title</th>\n",
       "      <th>episode_length_minutes</th>\n",
       "      <th>genre</th>\n",
       "      <th>host_popularity_percentage</th>\n",
       "      <th>publication_day</th>\n",
       "      <th>publication_time</th>\n",
       "      <th>guest_popularity_percentage</th>\n",
       "      <th>number_of_ads</th>\n",
       "      <th>episode_sentiment</th>\n",
       "    </tr>\n",
       "  </thead>\n",
       "  <tbody>\n",
       "    <tr>\n",
       "      <th>0</th>\n",
       "      <td>750000</td>\n",
       "      <td>Educational Nuggets</td>\n",
       "      <td>Episode 73</td>\n",
       "      <td>78.96</td>\n",
       "      <td>Education</td>\n",
       "      <td>38.11</td>\n",
       "      <td>Saturday</td>\n",
       "      <td>Evening</td>\n",
       "      <td>53.33</td>\n",
       "      <td>1.0</td>\n",
       "      <td>Neutral</td>\n",
       "    </tr>\n",
       "  </tbody>\n",
       "</table>\n",
       "</div>"
      ],
      "text/plain": [
       "       id         podcast_name episode_title  episode_length_minutes  \\\n",
       "0  750000  Educational Nuggets    Episode 73                   78.96   \n",
       "\n",
       "       genre  host_popularity_percentage publication_day publication_time  \\\n",
       "0  Education                       38.11        Saturday          Evening   \n",
       "\n",
       "   guest_popularity_percentage  number_of_ads episode_sentiment  \n",
       "0                        53.33            1.0           Neutral  "
      ]
     },
     "execution_count": 71,
     "metadata": {},
     "output_type": "execute_result"
    }
   ],
   "source": [
    "test = pd.read_csv('test.csv')\n",
    "test.columns = test.columns.str.lower()\n",
    "test.head(1)"
   ]
  },
  {
   "cell_type": "code",
   "execution_count": 72,
   "id": "7ca40f60",
   "metadata": {},
   "outputs": [],
   "source": [
    "y_train = train[\"listening_time_minutes\"]\n",
    "train = train.drop([\"listening_time_minutes\"], axis=1)\n",
    "combined = pd.concat([train, test])"
   ]
  },
  {
   "cell_type": "code",
   "execution_count": 73,
   "id": "b09214a1",
   "metadata": {},
   "outputs": [],
   "source": [
    "# encode day cyclically  \n",
    "days_dict = {\n",
    "    \"Monday\": 0,\n",
    "    \"Tuesday\": 1,\n",
    "    \"Wednesday\": 2,\n",
    "    \"Thursday\": 3,\n",
    "    \"Friday\": 4,\n",
    "    \"Saturday\": 5,\n",
    "    \"Sunday\": 6\n",
    "}\n",
    "def periodic_encode(data, map_dict, num_periods):\n",
    "    if map_dict is not None:    \n",
    "        data = [map_dict[x] for x in data]\n",
    "    return np.cos(2 * np.pi * np.array(data) / num_periods), np.sin(2 * np.pi * np.array(data) / num_periods) \n",
    "\n",
    "combined[\"day_cos\"], combined[\"day_sin\"] = periodic_encode(combined[\"publication_day\"], days_dict, 7) "
   ]
  },
  {
   "cell_type": "code",
   "execution_count": 74,
   "id": "781c22b5",
   "metadata": {},
   "outputs": [],
   "source": [
    "# encode time cyclically\n",
    "time_dict = {\n",
    "    \"Morning\": 9, \n",
    "    \"Afternoon\": 12, \n",
    "    \"Evening\": 18,\n",
    "    \"Night\": 22\n",
    "}\n",
    "\n",
    "combined[\"time_cos\"], combined[\"time_sin\"] = periodic_encode(combined[\"publication_time\"], time_dict, 24)"
   ]
  },
  {
   "cell_type": "code",
   "execution_count": 75,
   "id": "d8abb204",
   "metadata": {},
   "outputs": [],
   "source": [
    "# encode sentiment numerically \n",
    "sentiment_dict = {\n",
    "    \"Negative\": -1, \n",
    "    \"Neutral\" : 0,\n",
    "    \"Positive\": 1\n",
    "}\n",
    "\n",
    "combined[\"sentiment_num\"] = combined[\"episode_sentiment\"].map(sentiment_dict)"
   ]
  },
  {
   "cell_type": "code",
   "execution_count": 76,
   "id": "9dee0879",
   "metadata": {},
   "outputs": [],
   "source": [
    "# encode epsiode title numerically\n",
    "combined[\"episode_title\"] = [int(x[8:]) for x in combined[\"episode_title\"]]"
   ]
  },
  {
   "cell_type": "code",
   "execution_count": 77,
   "id": "5c63c9bf",
   "metadata": {},
   "outputs": [
    {
     "name": "stdout",
     "output_type": "stream",
     "text": [
      "Index(['podcast_name', 'genre', 'publication_day', 'publication_time',\n",
      "       'episode_sentiment'],\n",
      "      dtype='object')\n"
     ]
    }
   ],
   "source": [
    "# get categorical columns\n",
    "cat_cols = combined.select_dtypes(include=['object']).columns\n",
    "print(cat_cols)"
   ]
  },
  {
   "cell_type": "code",
   "execution_count": 78,
   "id": "2e9c20a7",
   "metadata": {},
   "outputs": [],
   "source": [
    "# encode categorical data\n",
    "dummies = pd.get_dummies(train, columns=cat_cols, dtype=int)\n",
    "combined = pd.concat([combined, dummies], axis=1)\n",
    "\n",
    "# drop unnecessary columns\n",
    "combined = combined.drop(columns=cat_cols)"
   ]
  },
  {
   "cell_type": "code",
   "execution_count": null,
   "id": "6d2757d0",
   "metadata": {},
   "outputs": [],
   "source": [
    "# Nan column "
   ]
  },
  {
   "cell_type": "code",
   "execution_count": 79,
   "id": "4c2cf7a8",
   "metadata": {},
   "outputs": [
    {
     "name": "stdout",
     "output_type": "stream",
     "text": [
      "<class 'pandas.core.frame.DataFrame'>\n",
      "Index: 1000000 entries, 0 to 249999\n",
      "Data columns (total 89 columns):\n",
      " #   Column                            Non-Null Count    Dtype  \n",
      "---  ------                            --------------    -----  \n",
      " 0   id                                1000000 non-null  int64  \n",
      " 1   episode_title                     1000000 non-null  int64  \n",
      " 2   episode_length_minutes            884171 non-null   float64\n",
      " 3   host_popularity_percentage        1000000 non-null  float64\n",
      " 4   guest_popularity_percentage       805138 non-null   float64\n",
      " 5   number_of_ads                     999999 non-null   float64\n",
      " 6   day_cos                           1000000 non-null  float64\n",
      " 7   day_sin                           1000000 non-null  float64\n",
      " 8   time_cos                          1000000 non-null  float64\n",
      " 9   time_sin                          1000000 non-null  float64\n",
      " 10  sentiment_num                     1000000 non-null  int64  \n",
      " 11  id                                1000000 non-null  int64  \n",
      " 12  episode_title                     1000000 non-null  object \n",
      " 13  episode_length_minutes            883786 non-null   float64\n",
      " 14  host_popularity_percentage        1000000 non-null  float64\n",
      " 15  guest_popularity_percentage       805180 non-null   float64\n",
      " 16  number_of_ads                     999998 non-null   float64\n",
      " 17  podcast_name_Athlete's Arena      1000000 non-null  int32  \n",
      " 18  podcast_name_Brain Boost          1000000 non-null  int32  \n",
      " 19  podcast_name_Business Briefs      1000000 non-null  int32  \n",
      " 20  podcast_name_Business Insights    1000000 non-null  int32  \n",
      " 21  podcast_name_Comedy Corner        1000000 non-null  int32  \n",
      " 22  podcast_name_Crime Chronicles     1000000 non-null  int32  \n",
      " 23  podcast_name_Criminal Minds       1000000 non-null  int32  \n",
      " 24  podcast_name_Current Affairs      1000000 non-null  int32  \n",
      " 25  podcast_name_Daily Digest         1000000 non-null  int32  \n",
      " 26  podcast_name_Detective Diaries    1000000 non-null  int32  \n",
      " 27  podcast_name_Digital Digest       1000000 non-null  int32  \n",
      " 28  podcast_name_Educational Nuggets  1000000 non-null  int32  \n",
      " 29  podcast_name_Fashion Forward      1000000 non-null  int32  \n",
      " 30  podcast_name_Finance Focus        1000000 non-null  int32  \n",
      " 31  podcast_name_Fitness First        1000000 non-null  int32  \n",
      " 32  podcast_name_Funny Folks          1000000 non-null  int32  \n",
      " 33  podcast_name_Gadget Geek          1000000 non-null  int32  \n",
      " 34  podcast_name_Game Day             1000000 non-null  int32  \n",
      " 35  podcast_name_Global News          1000000 non-null  int32  \n",
      " 36  podcast_name_Health Hour          1000000 non-null  int32  \n",
      " 37  podcast_name_Healthy Living       1000000 non-null  int32  \n",
      " 38  podcast_name_Home & Living        1000000 non-null  int32  \n",
      " 39  podcast_name_Humor Hub            1000000 non-null  int32  \n",
      " 40  podcast_name_Innovators           1000000 non-null  int32  \n",
      " 41  podcast_name_Joke Junction        1000000 non-null  int32  \n",
      " 42  podcast_name_Laugh Line           1000000 non-null  int32  \n",
      " 43  podcast_name_Learning Lab         1000000 non-null  int32  \n",
      " 44  podcast_name_Life Lessons         1000000 non-null  int32  \n",
      " 45  podcast_name_Lifestyle Lounge     1000000 non-null  int32  \n",
      " 46  podcast_name_Market Masters       1000000 non-null  int32  \n",
      " 47  podcast_name_Melody Mix           1000000 non-null  int32  \n",
      " 48  podcast_name_Mind & Body          1000000 non-null  int32  \n",
      " 49  podcast_name_Money Matters        1000000 non-null  int32  \n",
      " 50  podcast_name_Music Matters        1000000 non-null  int32  \n",
      " 51  podcast_name_Mystery Matters      1000000 non-null  int32  \n",
      " 52  podcast_name_News Roundup         1000000 non-null  int32  \n",
      " 53  podcast_name_Sound Waves          1000000 non-null  int32  \n",
      " 54  podcast_name_Sport Spot           1000000 non-null  int32  \n",
      " 55  podcast_name_Sports Central       1000000 non-null  int32  \n",
      " 56  podcast_name_Sports Weekly        1000000 non-null  int32  \n",
      " 57  podcast_name_Study Sessions       1000000 non-null  int32  \n",
      " 58  podcast_name_Style Guide          1000000 non-null  int32  \n",
      " 59  podcast_name_Tech Talks           1000000 non-null  int32  \n",
      " 60  podcast_name_Tech Trends          1000000 non-null  int32  \n",
      " 61  podcast_name_True Crime Stories   1000000 non-null  int32  \n",
      " 62  podcast_name_Tune Time            1000000 non-null  int32  \n",
      " 63  podcast_name_Wellness Wave        1000000 non-null  int32  \n",
      " 64  podcast_name_World Watch          1000000 non-null  int32  \n",
      " 65  genre_Business                    1000000 non-null  int32  \n",
      " 66  genre_Comedy                      1000000 non-null  int32  \n",
      " 67  genre_Education                   1000000 non-null  int32  \n",
      " 68  genre_Health                      1000000 non-null  int32  \n",
      " 69  genre_Lifestyle                   1000000 non-null  int32  \n",
      " 70  genre_Music                       1000000 non-null  int32  \n",
      " 71  genre_News                        1000000 non-null  int32  \n",
      " 72  genre_Sports                      1000000 non-null  int32  \n",
      " 73  genre_Technology                  1000000 non-null  int32  \n",
      " 74  genre_True Crime                  1000000 non-null  int32  \n",
      " 75  publication_day_Friday            1000000 non-null  int32  \n",
      " 76  publication_day_Monday            1000000 non-null  int32  \n",
      " 77  publication_day_Saturday          1000000 non-null  int32  \n",
      " 78  publication_day_Sunday            1000000 non-null  int32  \n",
      " 79  publication_day_Thursday          1000000 non-null  int32  \n",
      " 80  publication_day_Tuesday           1000000 non-null  int32  \n",
      " 81  publication_day_Wednesday         1000000 non-null  int32  \n",
      " 82  publication_time_Afternoon        1000000 non-null  int32  \n",
      " 83  publication_time_Evening          1000000 non-null  int32  \n",
      " 84  publication_time_Morning          1000000 non-null  int32  \n",
      " 85  publication_time_Night            1000000 non-null  int32  \n",
      " 86  episode_sentiment_Negative        1000000 non-null  int32  \n",
      " 87  episode_sentiment_Neutral         1000000 non-null  int32  \n",
      " 88  episode_sentiment_Positive        1000000 non-null  int32  \n",
      "dtypes: float64(12), int32(72), int64(4), object(1)\n",
      "memory usage: 412.0+ MB\n"
     ]
    }
   ],
   "source": [
    "combined.info()"
   ]
  },
  {
   "cell_type": "code",
   "execution_count": null,
   "id": "f2814e38",
   "metadata": {},
   "outputs": [],
   "source": []
  }
 ],
 "metadata": {
  "kernelspec": {
   "display_name": "qfi",
   "language": "python",
   "name": "python3"
  },
  "language_info": {
   "codemirror_mode": {
    "name": "ipython",
    "version": 3
   },
   "file_extension": ".py",
   "mimetype": "text/x-python",
   "name": "python",
   "nbconvert_exporter": "python",
   "pygments_lexer": "ipython3",
   "version": "3.12.4"
  }
 },
 "nbformat": 4,
 "nbformat_minor": 5
}

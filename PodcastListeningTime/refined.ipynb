{
 "cells": [
  {
   "cell_type": "code",
   "execution_count": 3,
   "id": "387bb014",
   "metadata": {},
   "outputs": [],
   "source": [
    "# normal imports\n",
    "\n",
    "import numpy as np\n",
    "import pandas as pd\n",
    "import matplotlib.pyplot as plt\n",
    "import seaborn as sns\n",
    "\n",
    "# cleanlab\n",
    "from cleanlab.regression.learn import CleanLearning"
   ]
  },
  {
   "cell_type": "code",
   "execution_count": 4,
   "id": "499a2e1c",
   "metadata": {},
   "outputs": [
    {
     "data": {
      "text/html": [
       "<div>\n",
       "<style scoped>\n",
       "    .dataframe tbody tr th:only-of-type {\n",
       "        vertical-align: middle;\n",
       "    }\n",
       "\n",
       "    .dataframe tbody tr th {\n",
       "        vertical-align: top;\n",
       "    }\n",
       "\n",
       "    .dataframe thead th {\n",
       "        text-align: right;\n",
       "    }\n",
       "</style>\n",
       "<table border=\"1\" class=\"dataframe\">\n",
       "  <thead>\n",
       "    <tr style=\"text-align: right;\">\n",
       "      <th></th>\n",
       "      <th>id</th>\n",
       "      <th>podcast_name</th>\n",
       "      <th>episode_title</th>\n",
       "      <th>episode_length_minutes</th>\n",
       "      <th>genre</th>\n",
       "      <th>host_popularity_percentage</th>\n",
       "      <th>publication_day</th>\n",
       "      <th>publication_time</th>\n",
       "      <th>guest_popularity_percentage</th>\n",
       "      <th>number_of_ads</th>\n",
       "      <th>episode_sentiment</th>\n",
       "      <th>listening_time_minutes</th>\n",
       "    </tr>\n",
       "  </thead>\n",
       "  <tbody>\n",
       "    <tr>\n",
       "      <th>0</th>\n",
       "      <td>0</td>\n",
       "      <td>Mystery Matters</td>\n",
       "      <td>Episode 98</td>\n",
       "      <td>NaN</td>\n",
       "      <td>True Crime</td>\n",
       "      <td>74.81</td>\n",
       "      <td>Thursday</td>\n",
       "      <td>Night</td>\n",
       "      <td>NaN</td>\n",
       "      <td>0.0</td>\n",
       "      <td>Positive</td>\n",
       "      <td>31.41998</td>\n",
       "    </tr>\n",
       "  </tbody>\n",
       "</table>\n",
       "</div>"
      ],
      "text/plain": [
       "   id     podcast_name episode_title  episode_length_minutes       genre  \\\n",
       "0   0  Mystery Matters    Episode 98                     NaN  True Crime   \n",
       "\n",
       "   host_popularity_percentage publication_day publication_time  \\\n",
       "0                       74.81        Thursday            Night   \n",
       "\n",
       "   guest_popularity_percentage  number_of_ads episode_sentiment  \\\n",
       "0                          NaN            0.0          Positive   \n",
       "\n",
       "   listening_time_minutes  \n",
       "0                31.41998  "
      ]
     },
     "execution_count": 4,
     "metadata": {},
     "output_type": "execute_result"
    }
   ],
   "source": [
    "train_df = pd.read_csv('train.csv')\n",
    "train_df.columns = train_df.columns.str.lower()\n",
    "train_df.head(1)"
   ]
  },
  {
   "cell_type": "code",
   "execution_count": 5,
   "id": "a5aa2a50",
   "metadata": {},
   "outputs": [
    {
     "data": {
      "text/html": [
       "<div>\n",
       "<style scoped>\n",
       "    .dataframe tbody tr th:only-of-type {\n",
       "        vertical-align: middle;\n",
       "    }\n",
       "\n",
       "    .dataframe tbody tr th {\n",
       "        vertical-align: top;\n",
       "    }\n",
       "\n",
       "    .dataframe thead th {\n",
       "        text-align: right;\n",
       "    }\n",
       "</style>\n",
       "<table border=\"1\" class=\"dataframe\">\n",
       "  <thead>\n",
       "    <tr style=\"text-align: right;\">\n",
       "      <th></th>\n",
       "      <th>id</th>\n",
       "      <th>podcast_name</th>\n",
       "      <th>episode_title</th>\n",
       "      <th>episode_length_minutes</th>\n",
       "      <th>genre</th>\n",
       "      <th>host_popularity_percentage</th>\n",
       "      <th>publication_day</th>\n",
       "      <th>publication_time</th>\n",
       "      <th>guest_popularity_percentage</th>\n",
       "      <th>number_of_ads</th>\n",
       "      <th>episode_sentiment</th>\n",
       "    </tr>\n",
       "  </thead>\n",
       "  <tbody>\n",
       "    <tr>\n",
       "      <th>0</th>\n",
       "      <td>750000</td>\n",
       "      <td>Educational Nuggets</td>\n",
       "      <td>Episode 73</td>\n",
       "      <td>78.96</td>\n",
       "      <td>Education</td>\n",
       "      <td>38.11</td>\n",
       "      <td>Saturday</td>\n",
       "      <td>Evening</td>\n",
       "      <td>53.33</td>\n",
       "      <td>1.0</td>\n",
       "      <td>Neutral</td>\n",
       "    </tr>\n",
       "  </tbody>\n",
       "</table>\n",
       "</div>"
      ],
      "text/plain": [
       "       id         podcast_name episode_title  episode_length_minutes  \\\n",
       "0  750000  Educational Nuggets    Episode 73                   78.96   \n",
       "\n",
       "       genre  host_popularity_percentage publication_day publication_time  \\\n",
       "0  Education                       38.11        Saturday          Evening   \n",
       "\n",
       "   guest_popularity_percentage  number_of_ads episode_sentiment  \n",
       "0                        53.33            1.0           Neutral  "
      ]
     },
     "execution_count": 5,
     "metadata": {},
     "output_type": "execute_result"
    }
   ],
   "source": [
    "test_df = pd.read_csv('test.csv')\n",
    "test_df.columns = test_df.columns.str.lower()\n",
    "test_df.head(1)"
   ]
  },
  {
   "cell_type": "code",
   "execution_count": null,
   "id": "b09214a1",
   "metadata": {},
   "outputs": [],
   "source": []
  }
 ],
 "metadata": {
  "kernelspec": {
   "display_name": "qfi",
   "language": "python",
   "name": "python3"
  },
  "language_info": {
   "codemirror_mode": {
    "name": "ipython",
    "version": 3
   },
   "file_extension": ".py",
   "mimetype": "text/x-python",
   "name": "python",
   "nbconvert_exporter": "python",
   "pygments_lexer": "ipython3",
   "version": "3.12.4"
  }
 },
 "nbformat": 4,
 "nbformat_minor": 5
}

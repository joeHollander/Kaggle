{
 "cells": [
  {
   "cell_type": "code",
   "execution_count": 94,
   "metadata": {},
   "outputs": [],
   "source": [
    "import pandas as pd\n",
    "import numpy as np\n",
    "import matplotlib.pyplot as plt\n",
    "import seaborn as sns"
   ]
  },
  {
   "cell_type": "code",
   "execution_count": 95,
   "metadata": {},
   "outputs": [
    {
     "data": {
      "text/html": [
       "<div>\n",
       "<style scoped>\n",
       "    .dataframe tbody tr th:only-of-type {\n",
       "        vertical-align: middle;\n",
       "    }\n",
       "\n",
       "    .dataframe tbody tr th {\n",
       "        vertical-align: top;\n",
       "    }\n",
       "\n",
       "    .dataframe thead th {\n",
       "        text-align: right;\n",
       "    }\n",
       "</style>\n",
       "<table border=\"1\" class=\"dataframe\">\n",
       "  <thead>\n",
       "    <tr style=\"text-align: right;\">\n",
       "      <th></th>\n",
       "      <th>id</th>\n",
       "      <th>podcast_name</th>\n",
       "      <th>episode_title</th>\n",
       "      <th>episode_length_minutes</th>\n",
       "      <th>genre</th>\n",
       "      <th>host_popularity_percentage</th>\n",
       "      <th>publication_day</th>\n",
       "      <th>publication_time</th>\n",
       "      <th>guest_popularity_percentage</th>\n",
       "      <th>number_of_ads</th>\n",
       "      <th>episode_sentiment</th>\n",
       "      <th>listening_time_minutes</th>\n",
       "    </tr>\n",
       "  </thead>\n",
       "  <tbody>\n",
       "    <tr>\n",
       "      <th>0</th>\n",
       "      <td>0</td>\n",
       "      <td>Mystery Matters</td>\n",
       "      <td>Episode 98</td>\n",
       "      <td>NaN</td>\n",
       "      <td>True Crime</td>\n",
       "      <td>74.81</td>\n",
       "      <td>Thursday</td>\n",
       "      <td>Night</td>\n",
       "      <td>NaN</td>\n",
       "      <td>0.0</td>\n",
       "      <td>Positive</td>\n",
       "      <td>31.41998</td>\n",
       "    </tr>\n",
       "  </tbody>\n",
       "</table>\n",
       "</div>"
      ],
      "text/plain": [
       "   id     podcast_name episode_title  episode_length_minutes       genre  \\\n",
       "0   0  Mystery Matters    Episode 98                     NaN  True Crime   \n",
       "\n",
       "   host_popularity_percentage publication_day publication_time  \\\n",
       "0                       74.81        Thursday            Night   \n",
       "\n",
       "   guest_popularity_percentage  number_of_ads episode_sentiment  \\\n",
       "0                          NaN            0.0          Positive   \n",
       "\n",
       "   listening_time_minutes  \n",
       "0                31.41998  "
      ]
     },
     "execution_count": 95,
     "metadata": {},
     "output_type": "execute_result"
    }
   ],
   "source": [
    "train_df = pd.read_csv('train.csv')\n",
    "train_df.columns = train_df.columns.str.lower()\n",
    "train_df.head(1)"
   ]
  },
  {
   "cell_type": "code",
   "execution_count": 96,
   "metadata": {},
   "outputs": [
    {
     "name": "stdout",
     "output_type": "stream",
     "text": [
      "<class 'pandas.core.frame.DataFrame'>\n",
      "RangeIndex: 750000 entries, 0 to 749999\n",
      "Data columns (total 12 columns):\n",
      " #   Column                       Non-Null Count   Dtype  \n",
      "---  ------                       --------------   -----  \n",
      " 0   id                           750000 non-null  int64  \n",
      " 1   podcast_name                 750000 non-null  object \n",
      " 2   episode_title                750000 non-null  object \n",
      " 3   episode_length_minutes       662907 non-null  float64\n",
      " 4   genre                        750000 non-null  object \n",
      " 5   host_popularity_percentage   750000 non-null  float64\n",
      " 6   publication_day              750000 non-null  object \n",
      " 7   publication_time             750000 non-null  object \n",
      " 8   guest_popularity_percentage  603970 non-null  float64\n",
      " 9   number_of_ads                749999 non-null  float64\n",
      " 10  episode_sentiment            750000 non-null  object \n",
      " 11  listening_time_minutes       750000 non-null  float64\n",
      "dtypes: float64(5), int64(1), object(6)\n",
      "memory usage: 68.7+ MB\n"
     ]
    }
   ],
   "source": [
    "train_df.info()"
   ]
  },
  {
   "cell_type": "code",
   "execution_count": 97,
   "metadata": {},
   "outputs": [],
   "source": [
    "from sklearn.model_selection import train_test_split\n",
    "train_df = train_df.dropna()\n",
    "X_train, X_test, y_train, y_test = train_test_split(train_df.drop(\"listening_time_minutes\", axis=1), train_df[\"listening_time_minutes\"], test_size=0.2, random_state=42)"
   ]
  },
  {
   "cell_type": "code",
   "execution_count": 98,
   "metadata": {},
   "outputs": [],
   "source": [
    "days_dict = {\n",
    "    \"Monday\": 0,\n",
    "    \"Tuesday\": 1,\n",
    "    \"Wednesday\": 2,\n",
    "    \"Thursday\": 3,\n",
    "    \"Friday\": 4,\n",
    "    \"Saturday\": 5,\n",
    "    \"Sunday\": 6\n",
    "}\n",
    "\n",
    "sentiment_dict = {\n",
    "    \"Negative\": -1, \n",
    "    \"Neutral\" : 0,\n",
    "    \"Positive\": 1\n",
    "}\n",
    "\n",
    "def periodic_encode(data, max_val):\n",
    "    return np.cos(2 * np.pi * np.array(data) / max_val), np.sin(2 * np.pi * np.array(data) / max_val) \n",
    "\n",
    "def basic_transform(df):\n",
    "    df_copy = df.copy()\n",
    "    df_copy.columns = df.columns.str.lower()\n",
    "    # replace string episode title with int\n",
    "    df_copy[\"episode_title\"] = [int(x[8:]) for x in df[\"episode_title\"]]\n",
    "    # periodically encode day of the week\n",
    "    df_copy[\"day_numerical_cos\"] = periodic_encode([days_dict[x] for x in df[\"publication_day\"]], 6)[0]\n",
    "    df_copy[\"day_numerical_sin\"] = periodic_encode([days_dict[x] for x in df[\"publication_day\"]], 6)[1]\n",
    "    df_copy = df_copy.drop(columns=[\"publication_day\"])\n",
    "    # convert episode sentiment to numerical\n",
    "    df_copy[\"episode_sentiment\"] = [sentiment_dict[x] for x in df[\"episode_sentiment\"]]\n",
    "    # podcast name get dummies\n",
    "    df_copy = pd.get_dummies(df_copy, columns=[\"podcast_name\"], dtype=int)\n",
    "    # genre get dummies\n",
    "    df_copy = pd.get_dummies(df_copy, columns=[\"genre\"], dtype=int)\n",
    "    # time get dummies\n",
    "    df_copy = pd.get_dummies(df_copy, columns=[\"publication_time\"], dtype=int)\n",
    "\n",
    "    return df_copy"
   ]
  },
  {
   "cell_type": "code",
   "execution_count": 99,
   "metadata": {},
   "outputs": [],
   "source": [
    "from sklearn.preprocessing import StandardScaler\n",
    "\n",
    "# y train normalization \n",
    "y_scaler = StandardScaler()\n",
    "y_train = y_scaler.fit_transform(np.array(y_train).reshape(-1, 1))"
   ]
  },
  {
   "cell_type": "code",
   "execution_count": 100,
   "metadata": {},
   "outputs": [
    {
     "name": "stdout",
     "output_type": "stream",
     "text": [
      "<class 'pandas.core.frame.DataFrame'>\n",
      "Index: 431238 entries, 345353 to 170019\n",
      "Data columns (total 71 columns):\n",
      " #   Column                            Non-Null Count   Dtype  \n",
      "---  ------                            --------------   -----  \n",
      " 0   id                                431238 non-null  int64  \n",
      " 1   episode_title                     431238 non-null  int64  \n",
      " 2   episode_length_minutes            431238 non-null  float64\n",
      " 3   host_popularity_percentage        431238 non-null  float64\n",
      " 4   guest_popularity_percentage       431238 non-null  float64\n",
      " 5   number_of_ads                     431238 non-null  float64\n",
      " 6   episode_sentiment                 431238 non-null  int64  \n",
      " 7   day_numerical_cos                 431238 non-null  float64\n",
      " 8   day_numerical_sin                 431238 non-null  float64\n",
      " 9   podcast_name_Athlete's Arena      431238 non-null  int32  \n",
      " 10  podcast_name_Brain Boost          431238 non-null  int32  \n",
      " 11  podcast_name_Business Briefs      431238 non-null  int32  \n",
      " 12  podcast_name_Business Insights    431238 non-null  int32  \n",
      " 13  podcast_name_Comedy Corner        431238 non-null  int32  \n",
      " 14  podcast_name_Crime Chronicles     431238 non-null  int32  \n",
      " 15  podcast_name_Criminal Minds       431238 non-null  int32  \n",
      " 16  podcast_name_Current Affairs      431238 non-null  int32  \n",
      " 17  podcast_name_Daily Digest         431238 non-null  int32  \n",
      " 18  podcast_name_Detective Diaries    431238 non-null  int32  \n",
      " 19  podcast_name_Digital Digest       431238 non-null  int32  \n",
      " 20  podcast_name_Educational Nuggets  431238 non-null  int32  \n",
      " 21  podcast_name_Fashion Forward      431238 non-null  int32  \n",
      " 22  podcast_name_Finance Focus        431238 non-null  int32  \n",
      " 23  podcast_name_Fitness First        431238 non-null  int32  \n",
      " 24  podcast_name_Funny Folks          431238 non-null  int32  \n",
      " 25  podcast_name_Gadget Geek          431238 non-null  int32  \n",
      " 26  podcast_name_Game Day             431238 non-null  int32  \n",
      " 27  podcast_name_Global News          431238 non-null  int32  \n",
      " 28  podcast_name_Health Hour          431238 non-null  int32  \n",
      " 29  podcast_name_Healthy Living       431238 non-null  int32  \n",
      " 30  podcast_name_Home & Living        431238 non-null  int32  \n",
      " 31  podcast_name_Humor Hub            431238 non-null  int32  \n",
      " 32  podcast_name_Innovators           431238 non-null  int32  \n",
      " 33  podcast_name_Joke Junction        431238 non-null  int32  \n",
      " 34  podcast_name_Laugh Line           431238 non-null  int32  \n",
      " 35  podcast_name_Learning Lab         431238 non-null  int32  \n",
      " 36  podcast_name_Life Lessons         431238 non-null  int32  \n",
      " 37  podcast_name_Lifestyle Lounge     431238 non-null  int32  \n",
      " 38  podcast_name_Market Masters       431238 non-null  int32  \n",
      " 39  podcast_name_Melody Mix           431238 non-null  int32  \n",
      " 40  podcast_name_Mind & Body          431238 non-null  int32  \n",
      " 41  podcast_name_Money Matters        431238 non-null  int32  \n",
      " 42  podcast_name_Music Matters        431238 non-null  int32  \n",
      " 43  podcast_name_Mystery Matters      431238 non-null  int32  \n",
      " 44  podcast_name_News Roundup         431238 non-null  int32  \n",
      " 45  podcast_name_Sound Waves          431238 non-null  int32  \n",
      " 46  podcast_name_Sport Spot           431238 non-null  int32  \n",
      " 47  podcast_name_Sports Central       431238 non-null  int32  \n",
      " 48  podcast_name_Sports Weekly        431238 non-null  int32  \n",
      " 49  podcast_name_Study Sessions       431238 non-null  int32  \n",
      " 50  podcast_name_Style Guide          431238 non-null  int32  \n",
      " 51  podcast_name_Tech Talks           431238 non-null  int32  \n",
      " 52  podcast_name_Tech Trends          431238 non-null  int32  \n",
      " 53  podcast_name_True Crime Stories   431238 non-null  int32  \n",
      " 54  podcast_name_Tune Time            431238 non-null  int32  \n",
      " 55  podcast_name_Wellness Wave        431238 non-null  int32  \n",
      " 56  podcast_name_World Watch          431238 non-null  int32  \n",
      " 57  genre_Business                    431238 non-null  int32  \n",
      " 58  genre_Comedy                      431238 non-null  int32  \n",
      " 59  genre_Education                   431238 non-null  int32  \n",
      " 60  genre_Health                      431238 non-null  int32  \n",
      " 61  genre_Lifestyle                   431238 non-null  int32  \n",
      " 62  genre_Music                       431238 non-null  int32  \n",
      " 63  genre_News                        431238 non-null  int32  \n",
      " 64  genre_Sports                      431238 non-null  int32  \n",
      " 65  genre_Technology                  431238 non-null  int32  \n",
      " 66  genre_True Crime                  431238 non-null  int32  \n",
      " 67  publication_time_Afternoon        431238 non-null  int32  \n",
      " 68  publication_time_Evening          431238 non-null  int32  \n",
      " 69  publication_time_Morning          431238 non-null  int32  \n",
      " 70  publication_time_Night            431238 non-null  int32  \n",
      "dtypes: float64(6), int32(62), int64(3)\n",
      "memory usage: 134.9 MB\n"
     ]
    }
   ],
   "source": [
    "X_train = basic_transform(X_train)\n",
    "X_train.info()"
   ]
  },
  {
   "cell_type": "code",
   "execution_count": 115,
   "metadata": {},
   "outputs": [
    {
     "name": "stderr",
     "output_type": "stream",
     "text": [
      "d:\\Users\\semic\\Anaconda3\\envs\\qfi\\Lib\\site-packages\\lightgbm\\basic.py:357: UserWarning: Converting column-vector to 1d array\n",
      "  _log_warning(\"Converting column-vector to 1d array\")\n"
     ]
    },
    {
     "name": "stdout",
     "output_type": "stream",
     "text": [
      "[LightGBM] [Warning] Found whitespace in feature_names, replace with underlines\n",
      "[LightGBM] [Info] Auto-choosing col-wise multi-threading, the overhead of testing was 0.015917 seconds.\n",
      "You can set `force_col_wise=true` to remove the overhead.\n",
      "[LightGBM] [Info] Total Bins 1263\n",
      "[LightGBM] [Info] Number of data points in the train set: 431238, number of used features: 71\n",
      "[LightGBM] [Info] Start training from score -0.000000\n",
      "RMSE: 10.424221545488448\n"
     ]
    }
   ],
   "source": [
    "from lightgbm import LGBMRegressor\n",
    "\n",
    "# Initialize the model with RMSE as the evaluation metric\n",
    "lgbm_model = LGBMRegressor(\n",
    "    random_state=42,\n",
    "    objective='regression',\n",
    "    metric='rmse'  # Set metric to RMSE\n",
    ")\n",
    "\n",
    "# Convert y_train to the correct format if it's a Series\n",
    "if isinstance(y_train, pd.Series):\n",
    "    y_train = y_train.values\n",
    "\n",
    "# Fit the model\n",
    "lgbm_model.fit(\n",
    "    X_train, \n",
    "    y_train,\n",
    "    eval_set=[(X_train, y_train)],  # Optional: add validation set to monitor training\n",
    "    eval_metric='rmse',             # Specify RMSE for evaluation during training                 # Show training progress\n",
    ")\n",
    "\n",
    "# For scoring, ensure X_test is properly transformed and y_test is in the right format\n",
    "X_test_transformed = np.array(basic_transform(X_test))\n",
    "y_test_transformed = y_scaler.transform(y_test.values.reshape(-1, 1) if isinstance(y_test, pd.Series) else y_test.reshape(-1, 1))\n",
    "\n",
    "#\n",
    "# Calculate RMSE explicitly\n",
    "from sklearn.metrics import mean_squared_error\n",
    "import numpy as np\n",
    "y_pred = y_scaler.inverse_transform(lgbm_model.predict(X_test_transformed).reshape(-1, 1))\n",
    "rmse = np.sqrt(mean_squared_error(y_scaler.inverse_transform(y_test_transformed.reshape(-1, 1)), y_pred))\n",
    "print(f\"RMSE: {rmse}\")"
   ]
  },
  {
   "cell_type": "code",
   "execution_count": 116,
   "metadata": {},
   "outputs": [
    {
     "ename": "KeyError",
     "evalue": "'episode_title'",
     "output_type": "error",
     "traceback": [
      "\u001b[1;31m---------------------------------------------------------------------------\u001b[0m",
      "\u001b[1;31mKeyError\u001b[0m                                  Traceback (most recent call last)",
      "File \u001b[1;32md:\\Users\\semic\\Anaconda3\\envs\\qfi\\Lib\\site-packages\\pandas\\core\\indexes\\base.py:3805\u001b[0m, in \u001b[0;36mIndex.get_loc\u001b[1;34m(self, key)\u001b[0m\n\u001b[0;32m   3804\u001b[0m \u001b[38;5;28;01mtry\u001b[39;00m:\n\u001b[1;32m-> 3805\u001b[0m     \u001b[38;5;28;01mreturn\u001b[39;00m \u001b[38;5;28;43mself\u001b[39;49m\u001b[38;5;241;43m.\u001b[39;49m\u001b[43m_engine\u001b[49m\u001b[38;5;241;43m.\u001b[39;49m\u001b[43mget_loc\u001b[49m\u001b[43m(\u001b[49m\u001b[43mcasted_key\u001b[49m\u001b[43m)\u001b[49m\n\u001b[0;32m   3806\u001b[0m \u001b[38;5;28;01mexcept\u001b[39;00m \u001b[38;5;167;01mKeyError\u001b[39;00m \u001b[38;5;28;01mas\u001b[39;00m err:\n",
      "File \u001b[1;32mindex.pyx:167\u001b[0m, in \u001b[0;36mpandas._libs.index.IndexEngine.get_loc\u001b[1;34m()\u001b[0m\n",
      "File \u001b[1;32mindex.pyx:196\u001b[0m, in \u001b[0;36mpandas._libs.index.IndexEngine.get_loc\u001b[1;34m()\u001b[0m\n",
      "File \u001b[1;32mpandas\\\\_libs\\\\hashtable_class_helper.pxi:7081\u001b[0m, in \u001b[0;36mpandas._libs.hashtable.PyObjectHashTable.get_item\u001b[1;34m()\u001b[0m\n",
      "File \u001b[1;32mpandas\\\\_libs\\\\hashtable_class_helper.pxi:7089\u001b[0m, in \u001b[0;36mpandas._libs.hashtable.PyObjectHashTable.get_item\u001b[1;34m()\u001b[0m\n",
      "\u001b[1;31mKeyError\u001b[0m: 'episode_title'",
      "\nThe above exception was the direct cause of the following exception:\n",
      "\u001b[1;31mKeyError\u001b[0m                                  Traceback (most recent call last)",
      "Cell \u001b[1;32mIn[116], line 3\u001b[0m\n\u001b[0;32m      1\u001b[0m test_df \u001b[38;5;241m=\u001b[39m pd\u001b[38;5;241m.\u001b[39mread_csv(\u001b[38;5;124m'\u001b[39m\u001b[38;5;124mtest.csv\u001b[39m\u001b[38;5;124m'\u001b[39m)\n\u001b[0;32m      2\u001b[0m test_df \u001b[38;5;241m=\u001b[39m test_df\u001b[38;5;241m.\u001b[39mdropna()\n\u001b[1;32m----> 3\u001b[0m preds \u001b[38;5;241m=\u001b[39m y_scaler\u001b[38;5;241m.\u001b[39minverse_transform(lgbm_model\u001b[38;5;241m.\u001b[39mpredict(np\u001b[38;5;241m.\u001b[39marray(\u001b[43mbasic_transform\u001b[49m\u001b[43m(\u001b[49m\u001b[43mtest_df\u001b[49m\u001b[43m)\u001b[49m))\u001b[38;5;241m.\u001b[39mreshape(\u001b[38;5;241m-\u001b[39m\u001b[38;5;241m1\u001b[39m, \u001b[38;5;241m1\u001b[39m))\n\u001b[0;32m      4\u001b[0m preds\n",
      "Cell \u001b[1;32mIn[98], line 24\u001b[0m, in \u001b[0;36mbasic_transform\u001b[1;34m(df)\u001b[0m\n\u001b[0;32m     22\u001b[0m df_copy\u001b[38;5;241m.\u001b[39mcolumns \u001b[38;5;241m=\u001b[39m df\u001b[38;5;241m.\u001b[39mcolumns\u001b[38;5;241m.\u001b[39mstr\u001b[38;5;241m.\u001b[39mlower()\n\u001b[0;32m     23\u001b[0m \u001b[38;5;66;03m# replace string episode title with int\u001b[39;00m\n\u001b[1;32m---> 24\u001b[0m df_copy[\u001b[38;5;124m\"\u001b[39m\u001b[38;5;124mepisode_title\u001b[39m\u001b[38;5;124m\"\u001b[39m] \u001b[38;5;241m=\u001b[39m [\u001b[38;5;28mint\u001b[39m(x[\u001b[38;5;241m8\u001b[39m:]) \u001b[38;5;28;01mfor\u001b[39;00m x \u001b[38;5;129;01min\u001b[39;00m \u001b[43mdf\u001b[49m\u001b[43m[\u001b[49m\u001b[38;5;124;43m\"\u001b[39;49m\u001b[38;5;124;43mepisode_title\u001b[39;49m\u001b[38;5;124;43m\"\u001b[39;49m\u001b[43m]\u001b[49m]\n\u001b[0;32m     25\u001b[0m \u001b[38;5;66;03m# periodically encode day of the week\u001b[39;00m\n\u001b[0;32m     26\u001b[0m df_copy[\u001b[38;5;124m\"\u001b[39m\u001b[38;5;124mday_numerical_cos\u001b[39m\u001b[38;5;124m\"\u001b[39m] \u001b[38;5;241m=\u001b[39m periodic_encode([days_dict[x] \u001b[38;5;28;01mfor\u001b[39;00m x \u001b[38;5;129;01min\u001b[39;00m df[\u001b[38;5;124m\"\u001b[39m\u001b[38;5;124mpublication_day\u001b[39m\u001b[38;5;124m\"\u001b[39m]], \u001b[38;5;241m6\u001b[39m)[\u001b[38;5;241m0\u001b[39m]\n",
      "File \u001b[1;32md:\\Users\\semic\\Anaconda3\\envs\\qfi\\Lib\\site-packages\\pandas\\core\\frame.py:4102\u001b[0m, in \u001b[0;36mDataFrame.__getitem__\u001b[1;34m(self, key)\u001b[0m\n\u001b[0;32m   4100\u001b[0m \u001b[38;5;28;01mif\u001b[39;00m \u001b[38;5;28mself\u001b[39m\u001b[38;5;241m.\u001b[39mcolumns\u001b[38;5;241m.\u001b[39mnlevels \u001b[38;5;241m>\u001b[39m \u001b[38;5;241m1\u001b[39m:\n\u001b[0;32m   4101\u001b[0m     \u001b[38;5;28;01mreturn\u001b[39;00m \u001b[38;5;28mself\u001b[39m\u001b[38;5;241m.\u001b[39m_getitem_multilevel(key)\n\u001b[1;32m-> 4102\u001b[0m indexer \u001b[38;5;241m=\u001b[39m \u001b[38;5;28;43mself\u001b[39;49m\u001b[38;5;241;43m.\u001b[39;49m\u001b[43mcolumns\u001b[49m\u001b[38;5;241;43m.\u001b[39;49m\u001b[43mget_loc\u001b[49m\u001b[43m(\u001b[49m\u001b[43mkey\u001b[49m\u001b[43m)\u001b[49m\n\u001b[0;32m   4103\u001b[0m \u001b[38;5;28;01mif\u001b[39;00m is_integer(indexer):\n\u001b[0;32m   4104\u001b[0m     indexer \u001b[38;5;241m=\u001b[39m [indexer]\n",
      "File \u001b[1;32md:\\Users\\semic\\Anaconda3\\envs\\qfi\\Lib\\site-packages\\pandas\\core\\indexes\\base.py:3812\u001b[0m, in \u001b[0;36mIndex.get_loc\u001b[1;34m(self, key)\u001b[0m\n\u001b[0;32m   3807\u001b[0m     \u001b[38;5;28;01mif\u001b[39;00m \u001b[38;5;28misinstance\u001b[39m(casted_key, \u001b[38;5;28mslice\u001b[39m) \u001b[38;5;129;01mor\u001b[39;00m (\n\u001b[0;32m   3808\u001b[0m         \u001b[38;5;28misinstance\u001b[39m(casted_key, abc\u001b[38;5;241m.\u001b[39mIterable)\n\u001b[0;32m   3809\u001b[0m         \u001b[38;5;129;01mand\u001b[39;00m \u001b[38;5;28many\u001b[39m(\u001b[38;5;28misinstance\u001b[39m(x, \u001b[38;5;28mslice\u001b[39m) \u001b[38;5;28;01mfor\u001b[39;00m x \u001b[38;5;129;01min\u001b[39;00m casted_key)\n\u001b[0;32m   3810\u001b[0m     ):\n\u001b[0;32m   3811\u001b[0m         \u001b[38;5;28;01mraise\u001b[39;00m InvalidIndexError(key)\n\u001b[1;32m-> 3812\u001b[0m     \u001b[38;5;28;01mraise\u001b[39;00m \u001b[38;5;167;01mKeyError\u001b[39;00m(key) \u001b[38;5;28;01mfrom\u001b[39;00m \u001b[38;5;21;01merr\u001b[39;00m\n\u001b[0;32m   3813\u001b[0m \u001b[38;5;28;01mexcept\u001b[39;00m \u001b[38;5;167;01mTypeError\u001b[39;00m:\n\u001b[0;32m   3814\u001b[0m     \u001b[38;5;66;03m# If we have a listlike key, _check_indexing_error will raise\u001b[39;00m\n\u001b[0;32m   3815\u001b[0m     \u001b[38;5;66;03m#  InvalidIndexError. Otherwise we fall through and re-raise\u001b[39;00m\n\u001b[0;32m   3816\u001b[0m     \u001b[38;5;66;03m#  the TypeError.\u001b[39;00m\n\u001b[0;32m   3817\u001b[0m     \u001b[38;5;28mself\u001b[39m\u001b[38;5;241m.\u001b[39m_check_indexing_error(key)\n",
      "\u001b[1;31mKeyError\u001b[0m: 'episode_title'"
     ]
    }
   ],
   "source": [
    "test_df = pd.read_csv('test.csv')\n",
    "test_df = test_df.dropna()\n",
    "preds = y_scaler.inverse_transform(lgbm_model.predict(np.array(basic_transform(test_df))).reshape(-1, 1))\n",
    "preds"
   ]
  }
 ],
 "metadata": {
  "kernelspec": {
   "display_name": "qfi",
   "language": "python",
   "name": "python3"
  },
  "language_info": {
   "codemirror_mode": {
    "name": "ipython",
    "version": 3
   },
   "file_extension": ".py",
   "mimetype": "text/x-python",
   "name": "python",
   "nbconvert_exporter": "python",
   "pygments_lexer": "ipython3",
   "version": "3.12.4"
  }
 },
 "nbformat": 4,
 "nbformat_minor": 2
}

{
 "cells": [
  {
   "cell_type": "code",
   "execution_count": 124,
   "metadata": {},
   "outputs": [],
   "source": [
    "import pandas as pd\n",
    "import numpy as np\n",
    "import matplotlib.pyplot as plt\n",
    "import seaborn as sns"
   ]
  },
  {
   "cell_type": "code",
   "execution_count": 125,
   "metadata": {},
   "outputs": [
    {
     "data": {
      "text/html": [
       "<div>\n",
       "<style scoped>\n",
       "    .dataframe tbody tr th:only-of-type {\n",
       "        vertical-align: middle;\n",
       "    }\n",
       "\n",
       "    .dataframe tbody tr th {\n",
       "        vertical-align: top;\n",
       "    }\n",
       "\n",
       "    .dataframe thead th {\n",
       "        text-align: right;\n",
       "    }\n",
       "</style>\n",
       "<table border=\"1\" class=\"dataframe\">\n",
       "  <thead>\n",
       "    <tr style=\"text-align: right;\">\n",
       "      <th></th>\n",
       "      <th>id</th>\n",
       "      <th>podcast_name</th>\n",
       "      <th>episode_title</th>\n",
       "      <th>episode_length_minutes</th>\n",
       "      <th>genre</th>\n",
       "      <th>host_popularity_percentage</th>\n",
       "      <th>publication_day</th>\n",
       "      <th>publication_time</th>\n",
       "      <th>guest_popularity_percentage</th>\n",
       "      <th>number_of_ads</th>\n",
       "      <th>episode_sentiment</th>\n",
       "      <th>listening_time_minutes</th>\n",
       "    </tr>\n",
       "  </thead>\n",
       "  <tbody>\n",
       "    <tr>\n",
       "      <th>0</th>\n",
       "      <td>0</td>\n",
       "      <td>Mystery Matters</td>\n",
       "      <td>Episode 98</td>\n",
       "      <td>NaN</td>\n",
       "      <td>True Crime</td>\n",
       "      <td>74.81</td>\n",
       "      <td>Thursday</td>\n",
       "      <td>Night</td>\n",
       "      <td>NaN</td>\n",
       "      <td>0.0</td>\n",
       "      <td>Positive</td>\n",
       "      <td>31.41998</td>\n",
       "    </tr>\n",
       "  </tbody>\n",
       "</table>\n",
       "</div>"
      ],
      "text/plain": [
       "   id     podcast_name episode_title  episode_length_minutes       genre  \\\n",
       "0   0  Mystery Matters    Episode 98                     NaN  True Crime   \n",
       "\n",
       "   host_popularity_percentage publication_day publication_time  \\\n",
       "0                       74.81        Thursday            Night   \n",
       "\n",
       "   guest_popularity_percentage  number_of_ads episode_sentiment  \\\n",
       "0                          NaN            0.0          Positive   \n",
       "\n",
       "   listening_time_minutes  \n",
       "0                31.41998  "
      ]
     },
     "execution_count": 125,
     "metadata": {},
     "output_type": "execute_result"
    }
   ],
   "source": [
    "train_df = pd.read_csv('train.csv')\n",
    "train_df.columns = train_df.columns.str.lower()\n",
    "train_df.head(1)"
   ]
  },
  {
   "cell_type": "code",
   "execution_count": 126,
   "metadata": {},
   "outputs": [
    {
     "name": "stdout",
     "output_type": "stream",
     "text": [
      "<class 'pandas.core.frame.DataFrame'>\n",
      "RangeIndex: 750000 entries, 0 to 749999\n",
      "Data columns (total 12 columns):\n",
      " #   Column                       Non-Null Count   Dtype  \n",
      "---  ------                       --------------   -----  \n",
      " 0   id                           750000 non-null  int64  \n",
      " 1   podcast_name                 750000 non-null  object \n",
      " 2   episode_title                750000 non-null  object \n",
      " 3   episode_length_minutes       662907 non-null  float64\n",
      " 4   genre                        750000 non-null  object \n",
      " 5   host_popularity_percentage   750000 non-null  float64\n",
      " 6   publication_day              750000 non-null  object \n",
      " 7   publication_time             750000 non-null  object \n",
      " 8   guest_popularity_percentage  603970 non-null  float64\n",
      " 9   number_of_ads                749999 non-null  float64\n",
      " 10  episode_sentiment            750000 non-null  object \n",
      " 11  listening_time_minutes       750000 non-null  float64\n",
      "dtypes: float64(5), int64(1), object(6)\n",
      "memory usage: 68.7+ MB\n"
     ]
    }
   ],
   "source": [
    "train_df.info()"
   ]
  },
  {
   "cell_type": "code",
   "execution_count": 127,
   "metadata": {},
   "outputs": [],
   "source": [
    "from sklearn.model_selection import train_test_split\n",
    "X_train, X_test, y_train, y_test = train_test_split(train_df.drop(\"listening_time_minutes\", axis=1), train_df[\"listening_time_minutes\"], test_size=0.2, random_state=42)"
   ]
  },
  {
   "cell_type": "code",
   "execution_count": 128,
   "metadata": {},
   "outputs": [],
   "source": [
    "days_dict = {\n",
    "    \"Monday\": 0,\n",
    "    \"Tuesday\": 1,\n",
    "    \"Wednesday\": 2,\n",
    "    \"Thursday\": 3,\n",
    "    \"Friday\": 4,\n",
    "    \"Saturday\": 5,\n",
    "    \"Sunday\": 6\n",
    "}\n",
    "\n",
    "sentiment_dict = {\n",
    "    \"Negative\": -1, \n",
    "    \"Neutral\" : 0,\n",
    "    \"Positive\": 1\n",
    "}\n",
    "\n",
    "def periodic_encode(data, max_val):\n",
    "    return np.cos(2 * np.pi * np.array(data) / max_val), np.sin(2 * np.pi * np.array(data) / max_val) \n",
    "\n",
    "def basic_transform(df):\n",
    "    df_copy = df.copy()\n",
    "    df_copy.columns = df.columns.str.lower()\n",
    "    # replace string episode title with int\n",
    "    df_copy[\"episode_title\"] = [int(x[8:]) for x in df[\"episode_title\"]]\n",
    "    # periodically encode day of the week\n",
    "    df_copy[\"day_numerical_cos\"] = periodic_encode([days_dict[x] for x in df[\"publication_day\"]], 6)[0]\n",
    "    df_copy[\"day_numerical_sin\"] = periodic_encode([days_dict[x] for x in df[\"publication_day\"]], 6)[1]\n",
    "    df_copy = df_copy.drop(columns=[\"publication_day\"])\n",
    "    # convert episode sentiment to numerical\n",
    "    df_copy[\"episode_sentiment\"] = [sentiment_dict[x] for x in df[\"episode_sentiment\"]]\n",
    "    # podcast name get dummies\n",
    "    df_copy = pd.get_dummies(df_copy, columns=[\"podcast_name\"], dtype=int)\n",
    "    # genre get dummies\n",
    "    df_copy = pd.get_dummies(df_copy, columns=[\"genre\"], dtype=int)\n",
    "    # time get dummies\n",
    "    df_copy = pd.get_dummies(df_copy, columns=[\"publication_time\"], dtype=int)\n",
    "\n",
    "    return df_copy"
   ]
  },
  {
   "cell_type": "code",
   "execution_count": 129,
   "metadata": {},
   "outputs": [],
   "source": [
    "from sklearn.preprocessing import StandardScaler\n",
    "\n",
    "# y train normalization \n",
    "y_scaler = StandardScaler()\n",
    "y_train = y_scaler.fit_transform(np.array(y_train).reshape(-1, 1))"
   ]
  },
  {
   "cell_type": "code",
   "execution_count": 130,
   "metadata": {},
   "outputs": [
    {
     "name": "stdout",
     "output_type": "stream",
     "text": [
      "<class 'pandas.core.frame.DataFrame'>\n",
      "Index: 600000 entries, 453635 to 121958\n",
      "Data columns (total 71 columns):\n",
      " #   Column                            Non-Null Count   Dtype  \n",
      "---  ------                            --------------   -----  \n",
      " 0   id                                600000 non-null  int64  \n",
      " 1   episode_title                     600000 non-null  int64  \n",
      " 2   episode_length_minutes            530372 non-null  float64\n",
      " 3   host_popularity_percentage        600000 non-null  float64\n",
      " 4   guest_popularity_percentage       483107 non-null  float64\n",
      " 5   number_of_ads                     599999 non-null  float64\n",
      " 6   episode_sentiment                 600000 non-null  int64  \n",
      " 7   day_numerical_cos                 600000 non-null  float64\n",
      " 8   day_numerical_sin                 600000 non-null  float64\n",
      " 9   podcast_name_Athlete's Arena      600000 non-null  int32  \n",
      " 10  podcast_name_Brain Boost          600000 non-null  int32  \n",
      " 11  podcast_name_Business Briefs      600000 non-null  int32  \n",
      " 12  podcast_name_Business Insights    600000 non-null  int32  \n",
      " 13  podcast_name_Comedy Corner        600000 non-null  int32  \n",
      " 14  podcast_name_Crime Chronicles     600000 non-null  int32  \n",
      " 15  podcast_name_Criminal Minds       600000 non-null  int32  \n",
      " 16  podcast_name_Current Affairs      600000 non-null  int32  \n",
      " 17  podcast_name_Daily Digest         600000 non-null  int32  \n",
      " 18  podcast_name_Detective Diaries    600000 non-null  int32  \n",
      " 19  podcast_name_Digital Digest       600000 non-null  int32  \n",
      " 20  podcast_name_Educational Nuggets  600000 non-null  int32  \n",
      " 21  podcast_name_Fashion Forward      600000 non-null  int32  \n",
      " 22  podcast_name_Finance Focus        600000 non-null  int32  \n",
      " 23  podcast_name_Fitness First        600000 non-null  int32  \n",
      " 24  podcast_name_Funny Folks          600000 non-null  int32  \n",
      " 25  podcast_name_Gadget Geek          600000 non-null  int32  \n",
      " 26  podcast_name_Game Day             600000 non-null  int32  \n",
      " 27  podcast_name_Global News          600000 non-null  int32  \n",
      " 28  podcast_name_Health Hour          600000 non-null  int32  \n",
      " 29  podcast_name_Healthy Living       600000 non-null  int32  \n",
      " 30  podcast_name_Home & Living        600000 non-null  int32  \n",
      " 31  podcast_name_Humor Hub            600000 non-null  int32  \n",
      " 32  podcast_name_Innovators           600000 non-null  int32  \n",
      " 33  podcast_name_Joke Junction        600000 non-null  int32  \n",
      " 34  podcast_name_Laugh Line           600000 non-null  int32  \n",
      " 35  podcast_name_Learning Lab         600000 non-null  int32  \n",
      " 36  podcast_name_Life Lessons         600000 non-null  int32  \n",
      " 37  podcast_name_Lifestyle Lounge     600000 non-null  int32  \n",
      " 38  podcast_name_Market Masters       600000 non-null  int32  \n",
      " 39  podcast_name_Melody Mix           600000 non-null  int32  \n",
      " 40  podcast_name_Mind & Body          600000 non-null  int32  \n",
      " 41  podcast_name_Money Matters        600000 non-null  int32  \n",
      " 42  podcast_name_Music Matters        600000 non-null  int32  \n",
      " 43  podcast_name_Mystery Matters      600000 non-null  int32  \n",
      " 44  podcast_name_News Roundup         600000 non-null  int32  \n",
      " 45  podcast_name_Sound Waves          600000 non-null  int32  \n",
      " 46  podcast_name_Sport Spot           600000 non-null  int32  \n",
      " 47  podcast_name_Sports Central       600000 non-null  int32  \n",
      " 48  podcast_name_Sports Weekly        600000 non-null  int32  \n",
      " 49  podcast_name_Study Sessions       600000 non-null  int32  \n",
      " 50  podcast_name_Style Guide          600000 non-null  int32  \n",
      " 51  podcast_name_Tech Talks           600000 non-null  int32  \n",
      " 52  podcast_name_Tech Trends          600000 non-null  int32  \n",
      " 53  podcast_name_True Crime Stories   600000 non-null  int32  \n",
      " 54  podcast_name_Tune Time            600000 non-null  int32  \n",
      " 55  podcast_name_Wellness Wave        600000 non-null  int32  \n",
      " 56  podcast_name_World Watch          600000 non-null  int32  \n",
      " 57  genre_Business                    600000 non-null  int32  \n",
      " 58  genre_Comedy                      600000 non-null  int32  \n",
      " 59  genre_Education                   600000 non-null  int32  \n",
      " 60  genre_Health                      600000 non-null  int32  \n",
      " 61  genre_Lifestyle                   600000 non-null  int32  \n",
      " 62  genre_Music                       600000 non-null  int32  \n",
      " 63  genre_News                        600000 non-null  int32  \n",
      " 64  genre_Sports                      600000 non-null  int32  \n",
      " 65  genre_Technology                  600000 non-null  int32  \n",
      " 66  genre_True Crime                  600000 non-null  int32  \n",
      " 67  publication_time_Afternoon        600000 non-null  int32  \n",
      " 68  publication_time_Evening          600000 non-null  int32  \n",
      " 69  publication_time_Morning          600000 non-null  int32  \n",
      " 70  publication_time_Night            600000 non-null  int32  \n",
      "dtypes: float64(6), int32(62), int64(3)\n",
      "memory usage: 187.7 MB\n"
     ]
    }
   ],
   "source": [
    "X_train = basic_transform(X_train)\n",
    "X_train.info()"
   ]
  },
  {
   "cell_type": "code",
   "execution_count": 132,
   "metadata": {},
   "outputs": [
    {
     "name": "stderr",
     "output_type": "stream",
     "text": [
      "C:\\Users\\semic\\AppData\\Local\\Temp\\ipykernel_8524\\436696276.py:1: FutureWarning: A value is trying to be set on a copy of a DataFrame or Series through chained assignment using an inplace method.\n",
      "The behavior will change in pandas 3.0. This inplace method will never work because the intermediate object on which we are setting values always behaves as a copy.\n",
      "\n",
      "For example, when doing 'df[col].method(value, inplace=True)', try using 'df.method({col: value}, inplace=True)' or df[col] = df[col].method(value) instead, to perform the operation inplace on the original object.\n",
      "\n",
      "\n",
      "  X_train[\"episode_length_minutes\"].fillna(X_train[\"episode_length_minutes\"].median(), inplace=True)\n",
      "C:\\Users\\semic\\AppData\\Local\\Temp\\ipykernel_8524\\436696276.py:2: FutureWarning: A value is trying to be set on a copy of a DataFrame or Series through chained assignment using an inplace method.\n",
      "The behavior will change in pandas 3.0. This inplace method will never work because the intermediate object on which we are setting values always behaves as a copy.\n",
      "\n",
      "For example, when doing 'df[col].method(value, inplace=True)', try using 'df.method({col: value}, inplace=True)' or df[col] = df[col].method(value) instead, to perform the operation inplace on the original object.\n",
      "\n",
      "\n",
      "  X_train[\"number_of_ads\"].fillna(X_train[\"number_of_ads\"].median(), inplace=True)\n",
      "C:\\Users\\semic\\AppData\\Local\\Temp\\ipykernel_8524\\436696276.py:3: FutureWarning: A value is trying to be set on a copy of a DataFrame or Series through chained assignment using an inplace method.\n",
      "The behavior will change in pandas 3.0. This inplace method will never work because the intermediate object on which we are setting values always behaves as a copy.\n",
      "\n",
      "For example, when doing 'df[col].method(value, inplace=True)', try using 'df.method({col: value}, inplace=True)' or df[col] = df[col].method(value) instead, to perform the operation inplace on the original object.\n",
      "\n",
      "\n",
      "  X_train[\"guest_popularity_percentage\"].fillna(X_train[\"guest_popularity_percentage\"].median(), inplace=True)\n"
     ]
    }
   ],
   "source": [
    "X_train[\"episode_length_minutes\"].fillna(X_train[\"episode_length_minutes\"].median(), inplace=True)\n",
    "X_train[\"number_of_ads\"].fillna(X_train[\"number_of_ads\"].median(), inplace=True)\n",
    "X_train[\"guest_popularity_percentage\"].fillna(X_train[\"guest_popularity_percentage\"].median(), inplace=True)"
   ]
  },
  {
   "cell_type": "code",
   "execution_count": 133,
   "metadata": {},
   "outputs": [
    {
     "name": "stderr",
     "output_type": "stream",
     "text": [
      "d:\\Users\\semic\\Anaconda3\\envs\\qfi\\Lib\\site-packages\\lightgbm\\basic.py:357: UserWarning: Converting column-vector to 1d array\n",
      "  _log_warning(\"Converting column-vector to 1d array\")\n"
     ]
    },
    {
     "name": "stdout",
     "output_type": "stream",
     "text": [
      "[LightGBM] [Warning] Found whitespace in feature_names, replace with underlines\n",
      "[LightGBM] [Info] Auto-choosing col-wise multi-threading, the overhead of testing was 0.017417 seconds.\n",
      "You can set `force_col_wise=true` to remove the overhead.\n",
      "[LightGBM] [Info] Total Bins 1264\n",
      "[LightGBM] [Info] Number of data points in the train set: 600000, number of used features: 71\n",
      "[LightGBM] [Info] Start training from score 0.000000\n",
      "RMSE: 19.157224642554244\n"
     ]
    }
   ],
   "source": [
    "from lightgbm import LGBMRegressor\n",
    "\n",
    "# Initialize the model with RMSE as the evaluation metric\n",
    "lgbm_model = LGBMRegressor(\n",
    "    random_state=42,\n",
    "    objective='regression',\n",
    "    metric='rmse'  # Set metric to RMSE\n",
    ")\n",
    "\n",
    "# Convert y_train to the correct format if it's a Series\n",
    "if isinstance(y_train, pd.Series):\n",
    "    y_train = y_train.values\n",
    "\n",
    "# Fit the model\n",
    "lgbm_model.fit(\n",
    "    X_train, \n",
    "    y_train,\n",
    "    eval_set=[(X_train, y_train)],  # Optional: add validation set to monitor training\n",
    "    eval_metric='rmse',             # Specify RMSE for evaluation during training                 # Show training progress\n",
    ")\n",
    "\n",
    "# For scoring, ensure X_test is properly transformed and y_test is in the right format\n",
    "X_test_transformed = np.array(basic_transform(X_test))\n",
    "y_test_transformed = y_scaler.transform(y_test.values.reshape(-1, 1) if isinstance(y_test, pd.Series) else y_test.reshape(-1, 1))\n",
    "\n",
    "#\n",
    "# Calculate RMSE explicitly\n",
    "from sklearn.metrics import mean_squared_error\n",
    "import numpy as np\n",
    "y_pred = y_scaler.inverse_transform(lgbm_model.predict(X_test_transformed).reshape(-1, 1))\n",
    "rmse = np.sqrt(mean_squared_error(y_scaler.inverse_transform(y_test_transformed.reshape(-1, 1)), y_pred))\n",
    "print(f\"RMSE: {rmse}\")"
   ]
  },
  {
   "cell_type": "code",
   "execution_count": 137,
   "metadata": {},
   "outputs": [
    {
     "name": "stdout",
     "output_type": "stream",
     "text": [
      "<class 'pandas.core.frame.DataFrame'>\n",
      "RangeIndex: 250000 entries, 0 to 249999\n",
      "Data columns (total 71 columns):\n",
      " #   Column                            Non-Null Count   Dtype  \n",
      "---  ------                            --------------   -----  \n",
      " 0   id                                250000 non-null  int64  \n",
      " 1   episode_title                     250000 non-null  int64  \n",
      " 2   episode_length_minutes            221264 non-null  float64\n",
      " 3   host_popularity_percentage        250000 non-null  float64\n",
      " 4   guest_popularity_percentage       201168 non-null  float64\n",
      " 5   number_of_ads                     250000 non-null  float64\n",
      " 6   episode_sentiment                 250000 non-null  int64  \n",
      " 7   day_numerical_cos                 250000 non-null  float64\n",
      " 8   day_numerical_sin                 250000 non-null  float64\n",
      " 9   podcast_name_Athlete's Arena      250000 non-null  int32  \n",
      " 10  podcast_name_Brain Boost          250000 non-null  int32  \n",
      " 11  podcast_name_Business Briefs      250000 non-null  int32  \n",
      " 12  podcast_name_Business Insights    250000 non-null  int32  \n",
      " 13  podcast_name_Comedy Corner        250000 non-null  int32  \n",
      " 14  podcast_name_Crime Chronicles     250000 non-null  int32  \n",
      " 15  podcast_name_Criminal Minds       250000 non-null  int32  \n",
      " 16  podcast_name_Current Affairs      250000 non-null  int32  \n",
      " 17  podcast_name_Daily Digest         250000 non-null  int32  \n",
      " 18  podcast_name_Detective Diaries    250000 non-null  int32  \n",
      " 19  podcast_name_Digital Digest       250000 non-null  int32  \n",
      " 20  podcast_name_Educational Nuggets  250000 non-null  int32  \n",
      " 21  podcast_name_Fashion Forward      250000 non-null  int32  \n",
      " 22  podcast_name_Finance Focus        250000 non-null  int32  \n",
      " 23  podcast_name_Fitness First        250000 non-null  int32  \n",
      " 24  podcast_name_Funny Folks          250000 non-null  int32  \n",
      " 25  podcast_name_Gadget Geek          250000 non-null  int32  \n",
      " 26  podcast_name_Game Day             250000 non-null  int32  \n",
      " 27  podcast_name_Global News          250000 non-null  int32  \n",
      " 28  podcast_name_Health Hour          250000 non-null  int32  \n",
      " 29  podcast_name_Healthy Living       250000 non-null  int32  \n",
      " 30  podcast_name_Home & Living        250000 non-null  int32  \n",
      " 31  podcast_name_Humor Hub            250000 non-null  int32  \n",
      " 32  podcast_name_Innovators           250000 non-null  int32  \n",
      " 33  podcast_name_Joke Junction        250000 non-null  int32  \n",
      " 34  podcast_name_Laugh Line           250000 non-null  int32  \n",
      " 35  podcast_name_Learning Lab         250000 non-null  int32  \n",
      " 36  podcast_name_Life Lessons         250000 non-null  int32  \n",
      " 37  podcast_name_Lifestyle Lounge     250000 non-null  int32  \n",
      " 38  podcast_name_Market Masters       250000 non-null  int32  \n",
      " 39  podcast_name_Melody Mix           250000 non-null  int32  \n",
      " 40  podcast_name_Mind & Body          250000 non-null  int32  \n",
      " 41  podcast_name_Money Matters        250000 non-null  int32  \n",
      " 42  podcast_name_Music Matters        250000 non-null  int32  \n",
      " 43  podcast_name_Mystery Matters      250000 non-null  int32  \n",
      " 44  podcast_name_News Roundup         250000 non-null  int32  \n",
      " 45  podcast_name_Sound Waves          250000 non-null  int32  \n",
      " 46  podcast_name_Sport Spot           250000 non-null  int32  \n",
      " 47  podcast_name_Sports Central       250000 non-null  int32  \n",
      " 48  podcast_name_Sports Weekly        250000 non-null  int32  \n",
      " 49  podcast_name_Study Sessions       250000 non-null  int32  \n",
      " 50  podcast_name_Style Guide          250000 non-null  int32  \n",
      " 51  podcast_name_Tech Talks           250000 non-null  int32  \n",
      " 52  podcast_name_Tech Trends          250000 non-null  int32  \n",
      " 53  podcast_name_True Crime Stories   250000 non-null  int32  \n",
      " 54  podcast_name_Tune Time            250000 non-null  int32  \n",
      " 55  podcast_name_Wellness Wave        250000 non-null  int32  \n",
      " 56  podcast_name_World Watch          250000 non-null  int32  \n",
      " 57  genre_Business                    250000 non-null  int32  \n",
      " 58  genre_Comedy                      250000 non-null  int32  \n",
      " 59  genre_Education                   250000 non-null  int32  \n",
      " 60  genre_Health                      250000 non-null  int32  \n",
      " 61  genre_Lifestyle                   250000 non-null  int32  \n",
      " 62  genre_Music                       250000 non-null  int32  \n",
      " 63  genre_News                        250000 non-null  int32  \n",
      " 64  genre_Sports                      250000 non-null  int32  \n",
      " 65  genre_Technology                  250000 non-null  int32  \n",
      " 66  genre_True Crime                  250000 non-null  int32  \n",
      " 67  publication_time_Afternoon        250000 non-null  int32  \n",
      " 68  publication_time_Evening          250000 non-null  int32  \n",
      " 69  publication_time_Morning          250000 non-null  int32  \n",
      " 70  publication_time_Night            250000 non-null  int32  \n",
      "dtypes: float64(6), int32(62), int64(3)\n",
      "memory usage: 76.3 MB\n"
     ]
    }
   ],
   "source": [
    "test_df = pd.read_csv('test.csv')\n",
    "test_df.columns = test_df.columns.str.lower()\n",
    "test_df = basic_transform(test_df)\n",
    "test_df.info()"
   ]
  },
  {
   "cell_type": "code",
   "execution_count": 138,
   "metadata": {},
   "outputs": [
    {
     "name": "stderr",
     "output_type": "stream",
     "text": [
      "C:\\Users\\semic\\AppData\\Local\\Temp\\ipykernel_8524\\268996897.py:1: FutureWarning: A value is trying to be set on a copy of a DataFrame or Series through chained assignment using an inplace method.\n",
      "The behavior will change in pandas 3.0. This inplace method will never work because the intermediate object on which we are setting values always behaves as a copy.\n",
      "\n",
      "For example, when doing 'df[col].method(value, inplace=True)', try using 'df.method({col: value}, inplace=True)' or df[col] = df[col].method(value) instead, to perform the operation inplace on the original object.\n",
      "\n",
      "\n",
      "  X_test[\"episode_length_minutes\"].fillna(X_test[\"episode_length_minutes\"].median(), inplace=True)\n",
      "C:\\Users\\semic\\AppData\\Local\\Temp\\ipykernel_8524\\268996897.py:2: FutureWarning: A value is trying to be set on a copy of a DataFrame or Series through chained assignment using an inplace method.\n",
      "The behavior will change in pandas 3.0. This inplace method will never work because the intermediate object on which we are setting values always behaves as a copy.\n",
      "\n",
      "For example, when doing 'df[col].method(value, inplace=True)', try using 'df.method({col: value}, inplace=True)' or df[col] = df[col].method(value) instead, to perform the operation inplace on the original object.\n",
      "\n",
      "\n",
      "  X_test[\"guest_popularity_percentage\"].fillna(X_test[\"guest_popularity_percentage\"].median(), inplace=True)\n"
     ]
    }
   ],
   "source": [
    "X_test[\"episode_length_minutes\"].fillna(X_test[\"episode_length_minutes\"].median(), inplace=True)\n",
    "X_test[\"guest_popularity_percentage\"].fillna(X_test[\"guest_popularity_percentage\"].median(), inplace=True)"
   ]
  },
  {
   "cell_type": "code",
   "execution_count": 139,
   "metadata": {},
   "outputs": [
    {
     "data": {
      "text/plain": [
       "array([[56.40261259],\n",
       "       [18.08382091],\n",
       "       [49.85246434],\n",
       "       ...,\n",
       "       [ 6.84351809],\n",
       "       [73.68487859],\n",
       "       [57.07473256]])"
      ]
     },
     "execution_count": 139,
     "metadata": {},
     "output_type": "execute_result"
    }
   ],
   "source": [
    "preds = y_scaler.inverse_transform(lgbm_model.predict(np.array(test_df)).reshape(-1, 1))\n",
    "preds"
   ]
  },
  {
   "cell_type": "code",
   "execution_count": 140,
   "metadata": {},
   "outputs": [
    {
     "data": {
      "text/html": [
       "<div>\n",
       "<style scoped>\n",
       "    .dataframe tbody tr th:only-of-type {\n",
       "        vertical-align: middle;\n",
       "    }\n",
       "\n",
       "    .dataframe tbody tr th {\n",
       "        vertical-align: top;\n",
       "    }\n",
       "\n",
       "    .dataframe thead th {\n",
       "        text-align: right;\n",
       "    }\n",
       "</style>\n",
       "<table border=\"1\" class=\"dataframe\">\n",
       "  <thead>\n",
       "    <tr style=\"text-align: right;\">\n",
       "      <th></th>\n",
       "      <th>id</th>\n",
       "      <th>Listening_Time_minutes</th>\n",
       "    </tr>\n",
       "  </thead>\n",
       "  <tbody>\n",
       "    <tr>\n",
       "      <th>0</th>\n",
       "      <td>750000</td>\n",
       "      <td>45.437</td>\n",
       "    </tr>\n",
       "    <tr>\n",
       "      <th>1</th>\n",
       "      <td>750001</td>\n",
       "      <td>45.437</td>\n",
       "    </tr>\n",
       "    <tr>\n",
       "      <th>2</th>\n",
       "      <td>750002</td>\n",
       "      <td>45.437</td>\n",
       "    </tr>\n",
       "    <tr>\n",
       "      <th>3</th>\n",
       "      <td>750003</td>\n",
       "      <td>45.437</td>\n",
       "    </tr>\n",
       "    <tr>\n",
       "      <th>4</th>\n",
       "      <td>750004</td>\n",
       "      <td>45.437</td>\n",
       "    </tr>\n",
       "  </tbody>\n",
       "</table>\n",
       "</div>"
      ],
      "text/plain": [
       "       id  Listening_Time_minutes\n",
       "0  750000                  45.437\n",
       "1  750001                  45.437\n",
       "2  750002                  45.437\n",
       "3  750003                  45.437\n",
       "4  750004                  45.437"
      ]
     },
     "execution_count": 140,
     "metadata": {},
     "output_type": "execute_result"
    }
   ],
   "source": [
    "sample_submission = pd.read_csv('sample_submission.csv')\n",
    "sample_submission.head()"
   ]
  },
  {
   "cell_type": "code",
   "execution_count": 141,
   "metadata": {},
   "outputs": [],
   "source": [
    "sample_submission[\"Listening_Time_minutes\"] = preds\n",
    "sample_submission.to_csv(\"basic_submission.csv\", index=False)"
   ]
  }
 ],
 "metadata": {
  "kernelspec": {
   "display_name": "qfi",
   "language": "python",
   "name": "python3"
  },
  "language_info": {
   "codemirror_mode": {
    "name": "ipython",
    "version": 3
   },
   "file_extension": ".py",
   "mimetype": "text/x-python",
   "name": "python",
   "nbconvert_exporter": "python",
   "pygments_lexer": "ipython3",
   "version": "3.12.4"
  }
 },
 "nbformat": 4,
 "nbformat_minor": 2
}

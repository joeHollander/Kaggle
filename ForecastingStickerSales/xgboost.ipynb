{
 "cells": [
  {
   "cell_type": "code",
   "execution_count": 1,
   "metadata": {},
   "outputs": [],
   "source": [
    "import pandas as pd\n",
    "import numpy as np\n",
    "import matplotlib.pyplot as plt\n",
    "from datetime import datetime\n",
    "from xgboost import XGBRegressor"
   ]
  },
  {
   "cell_type": "code",
   "execution_count": 2,
   "metadata": {},
   "outputs": [],
   "source": [
    "df = pd.read_csv(\"train.csv\", parse_dates=[\"date\"])\n",
    "df = df[df[\"num_sold\"].notna()]"
   ]
  },
  {
   "cell_type": "code",
   "execution_count": 3,
   "metadata": {},
   "outputs": [],
   "source": [
    "df[\"date\"] = (df[\"date\"] - df[\"date\"].min()).dt.days"
   ]
  },
  {
   "cell_type": "code",
   "execution_count": 4,
   "metadata": {},
   "outputs": [],
   "source": [
    "def x_transform(df, scaler, train):\n",
    "    if train:\n",
    "        df[\"date\"] = scaler.fit_transform(df[\"date\"].to_numpy().reshape(-1, 1))\n",
    "    else: \n",
    "        df[\"date\"] = scaler.transform(df[\"date\"].to_numpy().reshape(-1, 1))\n",
    "    df = pd.get_dummies(df, dtype=int)\n",
    "    return df\n",
    "\n",
    "def y_transform(series, scaler, train):\n",
    "    series = np.log(series.to_numpy())\n",
    "    series = series.reshape(-1, 1)\n",
    "    if train:\n",
    "        scaler.fit_transform(series)\n",
    "    else:\n",
    "        scaler.transform(series)\n",
    "    return series\n",
    "\n",
    "def inverse_transform(series, scaler):\n",
    "    series = np.array(series).reshape(-1, 1)\n",
    "    series = scaler.inverse_transform(series)\n",
    "    series = np.exp(series)\n",
    "    return series"
   ]
  },
  {
   "cell_type": "code",
   "execution_count": 5,
   "metadata": {},
   "outputs": [],
   "source": [
    "train = df.sample(frac=0.8, random_state=42)\n",
    "test = df.drop(train.index)\n",
    "X_train, y_train = train.drop([\"num_sold\", \"id\"], axis=1), train[\"num_sold\"]\n",
    "X_test, y_test = test.drop([\"num_sold\", \"id\"], axis=1), test[\"num_sold\"]"
   ]
  },
  {
   "cell_type": "code",
   "execution_count": 6,
   "metadata": {},
   "outputs": [],
   "source": [
    "from sklearn.preprocessing import StandardScaler\n",
    "\n",
    "date_scaler = StandardScaler()\n",
    "X_train = x_transform(X_train, date_scaler, train=True)\n",
    "X_test = x_transform(X_test, date_scaler, train=False)\n",
    "\n",
    "y_scaler = StandardScaler()\n",
    "y_train = y_transform(y_train, y_scaler, train=True)"
   ]
  },
  {
   "cell_type": "code",
   "execution_count": 20,
   "metadata": {},
   "outputs": [],
   "source": [
    "from sklearn.metrics import mean_absolute_percentage_error as mape\n",
    "from sklearn.model_selection import RandomizedSearchCV\n",
    "\n",
    "model = XGBRegressor()\n",
    "\n",
    "param_grid = {\n",
    "    'num_leaves': [20, 31, 50],\n",
    "    'learning_rate': [0.01, 0.05, 0.1],\n",
    "    'n_estimators': [100, 200, 500],\n",
    "    'booster': ['gbtree']\n",
    "}\n",
    "\n",
    "random_search = RandomizedSearchCV(estimator=model,\n",
    "                                   param_distributions=param_grid,\n",
    "                                   scoring=mape,\n",
    "                                   n_iter=50,  # Number of random samples to evaluate\n",
    "                                   cv=5,\n",
    "                                   verbose=2,\n",
    "                                   random_state=42)"
   ]
  },
  {
   "cell_type": "code",
   "execution_count": 21,
   "metadata": {},
   "outputs": [
    {
     "name": "stderr",
     "output_type": "stream",
     "text": [
      "d:\\Users\\semic\\Anaconda3\\envs\\qfi\\Lib\\site-packages\\sklearn\\model_selection\\_search.py:320: UserWarning: The total space of parameters 27 is smaller than n_iter=50. Running 27 iterations. For exhaustive searches, use GridSearchCV.\n",
      "  warnings.warn(\n"
     ]
    },
    {
     "name": "stdout",
     "output_type": "stream",
     "text": [
      "Fitting 5 folds for each of 27 candidates, totalling 135 fits\n"
     ]
    },
    {
     "name": "stderr",
     "output_type": "stream",
     "text": [
      "d:\\Users\\semic\\Anaconda3\\envs\\qfi\\Lib\\site-packages\\sklearn\\model_selection\\_validation.py:982: UserWarning: Scoring failed. The score on this train-test partition for these parameters will be set to nan. Details: \n",
      "Traceback (most recent call last):\n",
      "  File \"d:\\Users\\semic\\Anaconda3\\envs\\qfi\\Lib\\site-packages\\sklearn\\model_selection\\_validation.py\", line 971, in _score\n",
      "    scores = scorer(estimator, X_test, y_test, **score_params)\n",
      "             ^^^^^^^^^^^^^^^^^^^^^^^^^^^^^^^^^^^^^^^^^^^^^^^^^\n",
      "  File \"d:\\Users\\semic\\Anaconda3\\envs\\qfi\\Lib\\site-packages\\sklearn\\utils\\_param_validation.py\", line 191, in wrapper\n",
      "    params = func_sig.bind(*args, **kwargs)\n",
      "             ^^^^^^^^^^^^^^^^^^^^^^^^^^^^^^\n",
      "  File \"d:\\Users\\semic\\Anaconda3\\envs\\qfi\\Lib\\inspect.py\", line 3267, in bind\n",
      "    return self._bind(args, kwargs)\n",
      "           ^^^^^^^^^^^^^^^^^^^^^^^^\n",
      "  File \"d:\\Users\\semic\\Anaconda3\\envs\\qfi\\Lib\\inspect.py\", line 3191, in _bind\n",
      "    raise TypeError(\n",
      "TypeError: too many positional arguments\n",
      "\n",
      "  warnings.warn(\n"
     ]
    },
    {
     "name": "stdout",
     "output_type": "stream",
     "text": [
      "[CV] END booster=gbtree, learning_rate=0.01, n_estimators=100, num_leaves=20; total time=   0.3s\n"
     ]
    },
    {
     "name": "stderr",
     "output_type": "stream",
     "text": [
      "d:\\Users\\semic\\Anaconda3\\envs\\qfi\\Lib\\site-packages\\sklearn\\model_selection\\_validation.py:982: UserWarning: Scoring failed. The score on this train-test partition for these parameters will be set to nan. Details: \n",
      "Traceback (most recent call last):\n",
      "  File \"d:\\Users\\semic\\Anaconda3\\envs\\qfi\\Lib\\site-packages\\sklearn\\model_selection\\_validation.py\", line 971, in _score\n",
      "    scores = scorer(estimator, X_test, y_test, **score_params)\n",
      "             ^^^^^^^^^^^^^^^^^^^^^^^^^^^^^^^^^^^^^^^^^^^^^^^^^\n",
      "  File \"d:\\Users\\semic\\Anaconda3\\envs\\qfi\\Lib\\site-packages\\sklearn\\utils\\_param_validation.py\", line 191, in wrapper\n",
      "    params = func_sig.bind(*args, **kwargs)\n",
      "             ^^^^^^^^^^^^^^^^^^^^^^^^^^^^^^\n",
      "  File \"d:\\Users\\semic\\Anaconda3\\envs\\qfi\\Lib\\inspect.py\", line 3267, in bind\n",
      "    return self._bind(args, kwargs)\n",
      "           ^^^^^^^^^^^^^^^^^^^^^^^^\n",
      "  File \"d:\\Users\\semic\\Anaconda3\\envs\\qfi\\Lib\\inspect.py\", line 3191, in _bind\n",
      "    raise TypeError(\n",
      "TypeError: too many positional arguments\n",
      "\n",
      "  warnings.warn(\n"
     ]
    },
    {
     "name": "stdout",
     "output_type": "stream",
     "text": [
      "[CV] END booster=gbtree, learning_rate=0.01, n_estimators=100, num_leaves=20; total time=   0.3s\n"
     ]
    },
    {
     "name": "stderr",
     "output_type": "stream",
     "text": [
      "d:\\Users\\semic\\Anaconda3\\envs\\qfi\\Lib\\site-packages\\sklearn\\model_selection\\_validation.py:982: UserWarning: Scoring failed. The score on this train-test partition for these parameters will be set to nan. Details: \n",
      "Traceback (most recent call last):\n",
      "  File \"d:\\Users\\semic\\Anaconda3\\envs\\qfi\\Lib\\site-packages\\sklearn\\model_selection\\_validation.py\", line 971, in _score\n",
      "    scores = scorer(estimator, X_test, y_test, **score_params)\n",
      "             ^^^^^^^^^^^^^^^^^^^^^^^^^^^^^^^^^^^^^^^^^^^^^^^^^\n",
      "  File \"d:\\Users\\semic\\Anaconda3\\envs\\qfi\\Lib\\site-packages\\sklearn\\utils\\_param_validation.py\", line 191, in wrapper\n",
      "    params = func_sig.bind(*args, **kwargs)\n",
      "             ^^^^^^^^^^^^^^^^^^^^^^^^^^^^^^\n",
      "  File \"d:\\Users\\semic\\Anaconda3\\envs\\qfi\\Lib\\inspect.py\", line 3267, in bind\n",
      "    return self._bind(args, kwargs)\n",
      "           ^^^^^^^^^^^^^^^^^^^^^^^^\n",
      "  File \"d:\\Users\\semic\\Anaconda3\\envs\\qfi\\Lib\\inspect.py\", line 3191, in _bind\n",
      "    raise TypeError(\n",
      "TypeError: too many positional arguments\n",
      "\n",
      "  warnings.warn(\n"
     ]
    },
    {
     "name": "stdout",
     "output_type": "stream",
     "text": [
      "[CV] END booster=gbtree, learning_rate=0.01, n_estimators=100, num_leaves=20; total time=   0.3s\n"
     ]
    },
    {
     "name": "stderr",
     "output_type": "stream",
     "text": [
      "d:\\Users\\semic\\Anaconda3\\envs\\qfi\\Lib\\site-packages\\sklearn\\model_selection\\_validation.py:982: UserWarning: Scoring failed. The score on this train-test partition for these parameters will be set to nan. Details: \n",
      "Traceback (most recent call last):\n",
      "  File \"d:\\Users\\semic\\Anaconda3\\envs\\qfi\\Lib\\site-packages\\sklearn\\model_selection\\_validation.py\", line 971, in _score\n",
      "    scores = scorer(estimator, X_test, y_test, **score_params)\n",
      "             ^^^^^^^^^^^^^^^^^^^^^^^^^^^^^^^^^^^^^^^^^^^^^^^^^\n",
      "  File \"d:\\Users\\semic\\Anaconda3\\envs\\qfi\\Lib\\site-packages\\sklearn\\utils\\_param_validation.py\", line 191, in wrapper\n",
      "    params = func_sig.bind(*args, **kwargs)\n",
      "             ^^^^^^^^^^^^^^^^^^^^^^^^^^^^^^\n",
      "  File \"d:\\Users\\semic\\Anaconda3\\envs\\qfi\\Lib\\inspect.py\", line 3267, in bind\n",
      "    return self._bind(args, kwargs)\n",
      "           ^^^^^^^^^^^^^^^^^^^^^^^^\n",
      "  File \"d:\\Users\\semic\\Anaconda3\\envs\\qfi\\Lib\\inspect.py\", line 3191, in _bind\n",
      "    raise TypeError(\n",
      "TypeError: too many positional arguments\n",
      "\n",
      "  warnings.warn(\n"
     ]
    },
    {
     "name": "stdout",
     "output_type": "stream",
     "text": [
      "[CV] END booster=gbtree, learning_rate=0.01, n_estimators=100, num_leaves=20; total time=   0.3s\n"
     ]
    },
    {
     "name": "stderr",
     "output_type": "stream",
     "text": [
      "d:\\Users\\semic\\Anaconda3\\envs\\qfi\\Lib\\site-packages\\sklearn\\model_selection\\_validation.py:982: UserWarning: Scoring failed. The score on this train-test partition for these parameters will be set to nan. Details: \n",
      "Traceback (most recent call last):\n",
      "  File \"d:\\Users\\semic\\Anaconda3\\envs\\qfi\\Lib\\site-packages\\sklearn\\model_selection\\_validation.py\", line 971, in _score\n",
      "    scores = scorer(estimator, X_test, y_test, **score_params)\n",
      "             ^^^^^^^^^^^^^^^^^^^^^^^^^^^^^^^^^^^^^^^^^^^^^^^^^\n",
      "  File \"d:\\Users\\semic\\Anaconda3\\envs\\qfi\\Lib\\site-packages\\sklearn\\utils\\_param_validation.py\", line 191, in wrapper\n",
      "    params = func_sig.bind(*args, **kwargs)\n",
      "             ^^^^^^^^^^^^^^^^^^^^^^^^^^^^^^\n",
      "  File \"d:\\Users\\semic\\Anaconda3\\envs\\qfi\\Lib\\inspect.py\", line 3267, in bind\n",
      "    return self._bind(args, kwargs)\n",
      "           ^^^^^^^^^^^^^^^^^^^^^^^^\n",
      "  File \"d:\\Users\\semic\\Anaconda3\\envs\\qfi\\Lib\\inspect.py\", line 3191, in _bind\n",
      "    raise TypeError(\n",
      "TypeError: too many positional arguments\n",
      "\n",
      "  warnings.warn(\n"
     ]
    },
    {
     "name": "stdout",
     "output_type": "stream",
     "text": [
      "[CV] END booster=gbtree, learning_rate=0.01, n_estimators=100, num_leaves=20; total time=   0.3s\n"
     ]
    },
    {
     "name": "stderr",
     "output_type": "stream",
     "text": [
      "d:\\Users\\semic\\Anaconda3\\envs\\qfi\\Lib\\site-packages\\sklearn\\model_selection\\_validation.py:982: UserWarning: Scoring failed. The score on this train-test partition for these parameters will be set to nan. Details: \n",
      "Traceback (most recent call last):\n",
      "  File \"d:\\Users\\semic\\Anaconda3\\envs\\qfi\\Lib\\site-packages\\sklearn\\model_selection\\_validation.py\", line 971, in _score\n",
      "    scores = scorer(estimator, X_test, y_test, **score_params)\n",
      "             ^^^^^^^^^^^^^^^^^^^^^^^^^^^^^^^^^^^^^^^^^^^^^^^^^\n",
      "  File \"d:\\Users\\semic\\Anaconda3\\envs\\qfi\\Lib\\site-packages\\sklearn\\utils\\_param_validation.py\", line 191, in wrapper\n",
      "    params = func_sig.bind(*args, **kwargs)\n",
      "             ^^^^^^^^^^^^^^^^^^^^^^^^^^^^^^\n",
      "  File \"d:\\Users\\semic\\Anaconda3\\envs\\qfi\\Lib\\inspect.py\", line 3267, in bind\n",
      "    return self._bind(args, kwargs)\n",
      "           ^^^^^^^^^^^^^^^^^^^^^^^^\n",
      "  File \"d:\\Users\\semic\\Anaconda3\\envs\\qfi\\Lib\\inspect.py\", line 3191, in _bind\n",
      "    raise TypeError(\n",
      "TypeError: too many positional arguments\n",
      "\n",
      "  warnings.warn(\n"
     ]
    },
    {
     "name": "stdout",
     "output_type": "stream",
     "text": [
      "[CV] END booster=gbtree, learning_rate=0.01, n_estimators=100, num_leaves=31; total time=   0.4s\n"
     ]
    },
    {
     "name": "stderr",
     "output_type": "stream",
     "text": [
      "d:\\Users\\semic\\Anaconda3\\envs\\qfi\\Lib\\site-packages\\sklearn\\model_selection\\_validation.py:982: UserWarning: Scoring failed. The score on this train-test partition for these parameters will be set to nan. Details: \n",
      "Traceback (most recent call last):\n",
      "  File \"d:\\Users\\semic\\Anaconda3\\envs\\qfi\\Lib\\site-packages\\sklearn\\model_selection\\_validation.py\", line 971, in _score\n",
      "    scores = scorer(estimator, X_test, y_test, **score_params)\n",
      "             ^^^^^^^^^^^^^^^^^^^^^^^^^^^^^^^^^^^^^^^^^^^^^^^^^\n",
      "  File \"d:\\Users\\semic\\Anaconda3\\envs\\qfi\\Lib\\site-packages\\sklearn\\utils\\_param_validation.py\", line 191, in wrapper\n",
      "    params = func_sig.bind(*args, **kwargs)\n",
      "             ^^^^^^^^^^^^^^^^^^^^^^^^^^^^^^\n",
      "  File \"d:\\Users\\semic\\Anaconda3\\envs\\qfi\\Lib\\inspect.py\", line 3267, in bind\n",
      "    return self._bind(args, kwargs)\n",
      "           ^^^^^^^^^^^^^^^^^^^^^^^^\n",
      "  File \"d:\\Users\\semic\\Anaconda3\\envs\\qfi\\Lib\\inspect.py\", line 3191, in _bind\n",
      "    raise TypeError(\n",
      "TypeError: too many positional arguments\n",
      "\n",
      "  warnings.warn(\n"
     ]
    },
    {
     "name": "stdout",
     "output_type": "stream",
     "text": [
      "[CV] END booster=gbtree, learning_rate=0.01, n_estimators=100, num_leaves=31; total time=   0.3s\n"
     ]
    },
    {
     "name": "stderr",
     "output_type": "stream",
     "text": [
      "d:\\Users\\semic\\Anaconda3\\envs\\qfi\\Lib\\site-packages\\sklearn\\model_selection\\_validation.py:982: UserWarning: Scoring failed. The score on this train-test partition for these parameters will be set to nan. Details: \n",
      "Traceback (most recent call last):\n",
      "  File \"d:\\Users\\semic\\Anaconda3\\envs\\qfi\\Lib\\site-packages\\sklearn\\model_selection\\_validation.py\", line 971, in _score\n",
      "    scores = scorer(estimator, X_test, y_test, **score_params)\n",
      "             ^^^^^^^^^^^^^^^^^^^^^^^^^^^^^^^^^^^^^^^^^^^^^^^^^\n",
      "  File \"d:\\Users\\semic\\Anaconda3\\envs\\qfi\\Lib\\site-packages\\sklearn\\utils\\_param_validation.py\", line 191, in wrapper\n",
      "    params = func_sig.bind(*args, **kwargs)\n",
      "             ^^^^^^^^^^^^^^^^^^^^^^^^^^^^^^\n",
      "  File \"d:\\Users\\semic\\Anaconda3\\envs\\qfi\\Lib\\inspect.py\", line 3267, in bind\n",
      "    return self._bind(args, kwargs)\n",
      "           ^^^^^^^^^^^^^^^^^^^^^^^^\n",
      "  File \"d:\\Users\\semic\\Anaconda3\\envs\\qfi\\Lib\\inspect.py\", line 3191, in _bind\n",
      "    raise TypeError(\n",
      "TypeError: too many positional arguments\n",
      "\n",
      "  warnings.warn(\n"
     ]
    },
    {
     "name": "stdout",
     "output_type": "stream",
     "text": [
      "[CV] END booster=gbtree, learning_rate=0.01, n_estimators=100, num_leaves=31; total time=   0.3s\n"
     ]
    },
    {
     "name": "stderr",
     "output_type": "stream",
     "text": [
      "d:\\Users\\semic\\Anaconda3\\envs\\qfi\\Lib\\site-packages\\sklearn\\model_selection\\_validation.py:982: UserWarning: Scoring failed. The score on this train-test partition for these parameters will be set to nan. Details: \n",
      "Traceback (most recent call last):\n",
      "  File \"d:\\Users\\semic\\Anaconda3\\envs\\qfi\\Lib\\site-packages\\sklearn\\model_selection\\_validation.py\", line 971, in _score\n",
      "    scores = scorer(estimator, X_test, y_test, **score_params)\n",
      "             ^^^^^^^^^^^^^^^^^^^^^^^^^^^^^^^^^^^^^^^^^^^^^^^^^\n",
      "  File \"d:\\Users\\semic\\Anaconda3\\envs\\qfi\\Lib\\site-packages\\sklearn\\utils\\_param_validation.py\", line 191, in wrapper\n",
      "    params = func_sig.bind(*args, **kwargs)\n",
      "             ^^^^^^^^^^^^^^^^^^^^^^^^^^^^^^\n",
      "  File \"d:\\Users\\semic\\Anaconda3\\envs\\qfi\\Lib\\inspect.py\", line 3267, in bind\n",
      "    return self._bind(args, kwargs)\n",
      "           ^^^^^^^^^^^^^^^^^^^^^^^^\n",
      "  File \"d:\\Users\\semic\\Anaconda3\\envs\\qfi\\Lib\\inspect.py\", line 3191, in _bind\n",
      "    raise TypeError(\n",
      "TypeError: too many positional arguments\n",
      "\n",
      "  warnings.warn(\n"
     ]
    },
    {
     "name": "stdout",
     "output_type": "stream",
     "text": [
      "[CV] END booster=gbtree, learning_rate=0.01, n_estimators=100, num_leaves=31; total time=   0.2s\n"
     ]
    },
    {
     "name": "stderr",
     "output_type": "stream",
     "text": [
      "d:\\Users\\semic\\Anaconda3\\envs\\qfi\\Lib\\site-packages\\sklearn\\model_selection\\_validation.py:982: UserWarning: Scoring failed. The score on this train-test partition for these parameters will be set to nan. Details: \n",
      "Traceback (most recent call last):\n",
      "  File \"d:\\Users\\semic\\Anaconda3\\envs\\qfi\\Lib\\site-packages\\sklearn\\model_selection\\_validation.py\", line 971, in _score\n",
      "    scores = scorer(estimator, X_test, y_test, **score_params)\n",
      "             ^^^^^^^^^^^^^^^^^^^^^^^^^^^^^^^^^^^^^^^^^^^^^^^^^\n",
      "  File \"d:\\Users\\semic\\Anaconda3\\envs\\qfi\\Lib\\site-packages\\sklearn\\utils\\_param_validation.py\", line 191, in wrapper\n",
      "    params = func_sig.bind(*args, **kwargs)\n",
      "             ^^^^^^^^^^^^^^^^^^^^^^^^^^^^^^\n",
      "  File \"d:\\Users\\semic\\Anaconda3\\envs\\qfi\\Lib\\inspect.py\", line 3267, in bind\n",
      "    return self._bind(args, kwargs)\n",
      "           ^^^^^^^^^^^^^^^^^^^^^^^^\n",
      "  File \"d:\\Users\\semic\\Anaconda3\\envs\\qfi\\Lib\\inspect.py\", line 3191, in _bind\n",
      "    raise TypeError(\n",
      "TypeError: too many positional arguments\n",
      "\n",
      "  warnings.warn(\n"
     ]
    },
    {
     "name": "stdout",
     "output_type": "stream",
     "text": [
      "[CV] END booster=gbtree, learning_rate=0.01, n_estimators=100, num_leaves=31; total time=   0.3s\n"
     ]
    },
    {
     "name": "stderr",
     "output_type": "stream",
     "text": [
      "d:\\Users\\semic\\Anaconda3\\envs\\qfi\\Lib\\site-packages\\sklearn\\model_selection\\_validation.py:982: UserWarning: Scoring failed. The score on this train-test partition for these parameters will be set to nan. Details: \n",
      "Traceback (most recent call last):\n",
      "  File \"d:\\Users\\semic\\Anaconda3\\envs\\qfi\\Lib\\site-packages\\sklearn\\model_selection\\_validation.py\", line 971, in _score\n",
      "    scores = scorer(estimator, X_test, y_test, **score_params)\n",
      "             ^^^^^^^^^^^^^^^^^^^^^^^^^^^^^^^^^^^^^^^^^^^^^^^^^\n",
      "  File \"d:\\Users\\semic\\Anaconda3\\envs\\qfi\\Lib\\site-packages\\sklearn\\utils\\_param_validation.py\", line 191, in wrapper\n",
      "    params = func_sig.bind(*args, **kwargs)\n",
      "             ^^^^^^^^^^^^^^^^^^^^^^^^^^^^^^\n",
      "  File \"d:\\Users\\semic\\Anaconda3\\envs\\qfi\\Lib\\inspect.py\", line 3267, in bind\n",
      "    return self._bind(args, kwargs)\n",
      "           ^^^^^^^^^^^^^^^^^^^^^^^^\n",
      "  File \"d:\\Users\\semic\\Anaconda3\\envs\\qfi\\Lib\\inspect.py\", line 3191, in _bind\n",
      "    raise TypeError(\n",
      "TypeError: too many positional arguments\n",
      "\n",
      "  warnings.warn(\n"
     ]
    },
    {
     "name": "stdout",
     "output_type": "stream",
     "text": [
      "[CV] END booster=gbtree, learning_rate=0.01, n_estimators=100, num_leaves=50; total time=   0.3s\n"
     ]
    },
    {
     "name": "stderr",
     "output_type": "stream",
     "text": [
      "d:\\Users\\semic\\Anaconda3\\envs\\qfi\\Lib\\site-packages\\sklearn\\model_selection\\_validation.py:982: UserWarning: Scoring failed. The score on this train-test partition for these parameters will be set to nan. Details: \n",
      "Traceback (most recent call last):\n",
      "  File \"d:\\Users\\semic\\Anaconda3\\envs\\qfi\\Lib\\site-packages\\sklearn\\model_selection\\_validation.py\", line 971, in _score\n",
      "    scores = scorer(estimator, X_test, y_test, **score_params)\n",
      "             ^^^^^^^^^^^^^^^^^^^^^^^^^^^^^^^^^^^^^^^^^^^^^^^^^\n",
      "  File \"d:\\Users\\semic\\Anaconda3\\envs\\qfi\\Lib\\site-packages\\sklearn\\utils\\_param_validation.py\", line 191, in wrapper\n",
      "    params = func_sig.bind(*args, **kwargs)\n",
      "             ^^^^^^^^^^^^^^^^^^^^^^^^^^^^^^\n",
      "  File \"d:\\Users\\semic\\Anaconda3\\envs\\qfi\\Lib\\inspect.py\", line 3267, in bind\n",
      "    return self._bind(args, kwargs)\n",
      "           ^^^^^^^^^^^^^^^^^^^^^^^^\n",
      "  File \"d:\\Users\\semic\\Anaconda3\\envs\\qfi\\Lib\\inspect.py\", line 3191, in _bind\n",
      "    raise TypeError(\n",
      "TypeError: too many positional arguments\n",
      "\n",
      "  warnings.warn(\n"
     ]
    },
    {
     "name": "stdout",
     "output_type": "stream",
     "text": [
      "[CV] END booster=gbtree, learning_rate=0.01, n_estimators=100, num_leaves=50; total time=   0.3s\n"
     ]
    },
    {
     "name": "stderr",
     "output_type": "stream",
     "text": [
      "d:\\Users\\semic\\Anaconda3\\envs\\qfi\\Lib\\site-packages\\sklearn\\model_selection\\_validation.py:982: UserWarning: Scoring failed. The score on this train-test partition for these parameters will be set to nan. Details: \n",
      "Traceback (most recent call last):\n",
      "  File \"d:\\Users\\semic\\Anaconda3\\envs\\qfi\\Lib\\site-packages\\sklearn\\model_selection\\_validation.py\", line 971, in _score\n",
      "    scores = scorer(estimator, X_test, y_test, **score_params)\n",
      "             ^^^^^^^^^^^^^^^^^^^^^^^^^^^^^^^^^^^^^^^^^^^^^^^^^\n",
      "  File \"d:\\Users\\semic\\Anaconda3\\envs\\qfi\\Lib\\site-packages\\sklearn\\utils\\_param_validation.py\", line 191, in wrapper\n",
      "    params = func_sig.bind(*args, **kwargs)\n",
      "             ^^^^^^^^^^^^^^^^^^^^^^^^^^^^^^\n",
      "  File \"d:\\Users\\semic\\Anaconda3\\envs\\qfi\\Lib\\inspect.py\", line 3267, in bind\n",
      "    return self._bind(args, kwargs)\n",
      "           ^^^^^^^^^^^^^^^^^^^^^^^^\n",
      "  File \"d:\\Users\\semic\\Anaconda3\\envs\\qfi\\Lib\\inspect.py\", line 3191, in _bind\n",
      "    raise TypeError(\n",
      "TypeError: too many positional arguments\n",
      "\n",
      "  warnings.warn(\n"
     ]
    },
    {
     "name": "stdout",
     "output_type": "stream",
     "text": [
      "[CV] END booster=gbtree, learning_rate=0.01, n_estimators=100, num_leaves=50; total time=   0.3s\n"
     ]
    },
    {
     "name": "stderr",
     "output_type": "stream",
     "text": [
      "d:\\Users\\semic\\Anaconda3\\envs\\qfi\\Lib\\site-packages\\sklearn\\model_selection\\_validation.py:982: UserWarning: Scoring failed. The score on this train-test partition for these parameters will be set to nan. Details: \n",
      "Traceback (most recent call last):\n",
      "  File \"d:\\Users\\semic\\Anaconda3\\envs\\qfi\\Lib\\site-packages\\sklearn\\model_selection\\_validation.py\", line 971, in _score\n",
      "    scores = scorer(estimator, X_test, y_test, **score_params)\n",
      "             ^^^^^^^^^^^^^^^^^^^^^^^^^^^^^^^^^^^^^^^^^^^^^^^^^\n",
      "  File \"d:\\Users\\semic\\Anaconda3\\envs\\qfi\\Lib\\site-packages\\sklearn\\utils\\_param_validation.py\", line 191, in wrapper\n",
      "    params = func_sig.bind(*args, **kwargs)\n",
      "             ^^^^^^^^^^^^^^^^^^^^^^^^^^^^^^\n",
      "  File \"d:\\Users\\semic\\Anaconda3\\envs\\qfi\\Lib\\inspect.py\", line 3267, in bind\n",
      "    return self._bind(args, kwargs)\n",
      "           ^^^^^^^^^^^^^^^^^^^^^^^^\n",
      "  File \"d:\\Users\\semic\\Anaconda3\\envs\\qfi\\Lib\\inspect.py\", line 3191, in _bind\n",
      "    raise TypeError(\n",
      "TypeError: too many positional arguments\n",
      "\n",
      "  warnings.warn(\n"
     ]
    },
    {
     "name": "stdout",
     "output_type": "stream",
     "text": [
      "[CV] END booster=gbtree, learning_rate=0.01, n_estimators=100, num_leaves=50; total time=   0.3s\n"
     ]
    },
    {
     "name": "stderr",
     "output_type": "stream",
     "text": [
      "d:\\Users\\semic\\Anaconda3\\envs\\qfi\\Lib\\site-packages\\sklearn\\model_selection\\_validation.py:982: UserWarning: Scoring failed. The score on this train-test partition for these parameters will be set to nan. Details: \n",
      "Traceback (most recent call last):\n",
      "  File \"d:\\Users\\semic\\Anaconda3\\envs\\qfi\\Lib\\site-packages\\sklearn\\model_selection\\_validation.py\", line 971, in _score\n",
      "    scores = scorer(estimator, X_test, y_test, **score_params)\n",
      "             ^^^^^^^^^^^^^^^^^^^^^^^^^^^^^^^^^^^^^^^^^^^^^^^^^\n",
      "  File \"d:\\Users\\semic\\Anaconda3\\envs\\qfi\\Lib\\site-packages\\sklearn\\utils\\_param_validation.py\", line 191, in wrapper\n",
      "    params = func_sig.bind(*args, **kwargs)\n",
      "             ^^^^^^^^^^^^^^^^^^^^^^^^^^^^^^\n",
      "  File \"d:\\Users\\semic\\Anaconda3\\envs\\qfi\\Lib\\inspect.py\", line 3267, in bind\n",
      "    return self._bind(args, kwargs)\n",
      "           ^^^^^^^^^^^^^^^^^^^^^^^^\n",
      "  File \"d:\\Users\\semic\\Anaconda3\\envs\\qfi\\Lib\\inspect.py\", line 3191, in _bind\n",
      "    raise TypeError(\n",
      "TypeError: too many positional arguments\n",
      "\n",
      "  warnings.warn(\n"
     ]
    },
    {
     "name": "stdout",
     "output_type": "stream",
     "text": [
      "[CV] END booster=gbtree, learning_rate=0.01, n_estimators=100, num_leaves=50; total time=   0.3s\n"
     ]
    },
    {
     "name": "stderr",
     "output_type": "stream",
     "text": [
      "d:\\Users\\semic\\Anaconda3\\envs\\qfi\\Lib\\site-packages\\sklearn\\model_selection\\_validation.py:982: UserWarning: Scoring failed. The score on this train-test partition for these parameters will be set to nan. Details: \n",
      "Traceback (most recent call last):\n",
      "  File \"d:\\Users\\semic\\Anaconda3\\envs\\qfi\\Lib\\site-packages\\sklearn\\model_selection\\_validation.py\", line 971, in _score\n",
      "    scores = scorer(estimator, X_test, y_test, **score_params)\n",
      "             ^^^^^^^^^^^^^^^^^^^^^^^^^^^^^^^^^^^^^^^^^^^^^^^^^\n",
      "  File \"d:\\Users\\semic\\Anaconda3\\envs\\qfi\\Lib\\site-packages\\sklearn\\utils\\_param_validation.py\", line 191, in wrapper\n",
      "    params = func_sig.bind(*args, **kwargs)\n",
      "             ^^^^^^^^^^^^^^^^^^^^^^^^^^^^^^\n",
      "  File \"d:\\Users\\semic\\Anaconda3\\envs\\qfi\\Lib\\inspect.py\", line 3267, in bind\n",
      "    return self._bind(args, kwargs)\n",
      "           ^^^^^^^^^^^^^^^^^^^^^^^^\n",
      "  File \"d:\\Users\\semic\\Anaconda3\\envs\\qfi\\Lib\\inspect.py\", line 3191, in _bind\n",
      "    raise TypeError(\n",
      "TypeError: too many positional arguments\n",
      "\n",
      "  warnings.warn(\n"
     ]
    },
    {
     "name": "stdout",
     "output_type": "stream",
     "text": [
      "[CV] END booster=gbtree, learning_rate=0.01, n_estimators=200, num_leaves=20; total time=   0.7s\n"
     ]
    },
    {
     "name": "stderr",
     "output_type": "stream",
     "text": [
      "d:\\Users\\semic\\Anaconda3\\envs\\qfi\\Lib\\site-packages\\sklearn\\model_selection\\_validation.py:982: UserWarning: Scoring failed. The score on this train-test partition for these parameters will be set to nan. Details: \n",
      "Traceback (most recent call last):\n",
      "  File \"d:\\Users\\semic\\Anaconda3\\envs\\qfi\\Lib\\site-packages\\sklearn\\model_selection\\_validation.py\", line 971, in _score\n",
      "    scores = scorer(estimator, X_test, y_test, **score_params)\n",
      "             ^^^^^^^^^^^^^^^^^^^^^^^^^^^^^^^^^^^^^^^^^^^^^^^^^\n",
      "  File \"d:\\Users\\semic\\Anaconda3\\envs\\qfi\\Lib\\site-packages\\sklearn\\utils\\_param_validation.py\", line 191, in wrapper\n",
      "    params = func_sig.bind(*args, **kwargs)\n",
      "             ^^^^^^^^^^^^^^^^^^^^^^^^^^^^^^\n",
      "  File \"d:\\Users\\semic\\Anaconda3\\envs\\qfi\\Lib\\inspect.py\", line 3267, in bind\n",
      "    return self._bind(args, kwargs)\n",
      "           ^^^^^^^^^^^^^^^^^^^^^^^^\n",
      "  File \"d:\\Users\\semic\\Anaconda3\\envs\\qfi\\Lib\\inspect.py\", line 3191, in _bind\n",
      "    raise TypeError(\n",
      "TypeError: too many positional arguments\n",
      "\n",
      "  warnings.warn(\n"
     ]
    },
    {
     "name": "stdout",
     "output_type": "stream",
     "text": [
      "[CV] END booster=gbtree, learning_rate=0.01, n_estimators=200, num_leaves=20; total time=   0.7s\n"
     ]
    },
    {
     "name": "stderr",
     "output_type": "stream",
     "text": [
      "d:\\Users\\semic\\Anaconda3\\envs\\qfi\\Lib\\site-packages\\sklearn\\model_selection\\_validation.py:982: UserWarning: Scoring failed. The score on this train-test partition for these parameters will be set to nan. Details: \n",
      "Traceback (most recent call last):\n",
      "  File \"d:\\Users\\semic\\Anaconda3\\envs\\qfi\\Lib\\site-packages\\sklearn\\model_selection\\_validation.py\", line 971, in _score\n",
      "    scores = scorer(estimator, X_test, y_test, **score_params)\n",
      "             ^^^^^^^^^^^^^^^^^^^^^^^^^^^^^^^^^^^^^^^^^^^^^^^^^\n",
      "  File \"d:\\Users\\semic\\Anaconda3\\envs\\qfi\\Lib\\site-packages\\sklearn\\utils\\_param_validation.py\", line 191, in wrapper\n",
      "    params = func_sig.bind(*args, **kwargs)\n",
      "             ^^^^^^^^^^^^^^^^^^^^^^^^^^^^^^\n",
      "  File \"d:\\Users\\semic\\Anaconda3\\envs\\qfi\\Lib\\inspect.py\", line 3267, in bind\n",
      "    return self._bind(args, kwargs)\n",
      "           ^^^^^^^^^^^^^^^^^^^^^^^^\n",
      "  File \"d:\\Users\\semic\\Anaconda3\\envs\\qfi\\Lib\\inspect.py\", line 3191, in _bind\n",
      "    raise TypeError(\n",
      "TypeError: too many positional arguments\n",
      "\n",
      "  warnings.warn(\n"
     ]
    },
    {
     "name": "stdout",
     "output_type": "stream",
     "text": [
      "[CV] END booster=gbtree, learning_rate=0.01, n_estimators=200, num_leaves=20; total time=   0.7s\n"
     ]
    },
    {
     "name": "stderr",
     "output_type": "stream",
     "text": [
      "d:\\Users\\semic\\Anaconda3\\envs\\qfi\\Lib\\site-packages\\sklearn\\model_selection\\_validation.py:982: UserWarning: Scoring failed. The score on this train-test partition for these parameters will be set to nan. Details: \n",
      "Traceback (most recent call last):\n",
      "  File \"d:\\Users\\semic\\Anaconda3\\envs\\qfi\\Lib\\site-packages\\sklearn\\model_selection\\_validation.py\", line 971, in _score\n",
      "    scores = scorer(estimator, X_test, y_test, **score_params)\n",
      "             ^^^^^^^^^^^^^^^^^^^^^^^^^^^^^^^^^^^^^^^^^^^^^^^^^\n",
      "  File \"d:\\Users\\semic\\Anaconda3\\envs\\qfi\\Lib\\site-packages\\sklearn\\utils\\_param_validation.py\", line 191, in wrapper\n",
      "    params = func_sig.bind(*args, **kwargs)\n",
      "             ^^^^^^^^^^^^^^^^^^^^^^^^^^^^^^\n",
      "  File \"d:\\Users\\semic\\Anaconda3\\envs\\qfi\\Lib\\inspect.py\", line 3267, in bind\n",
      "    return self._bind(args, kwargs)\n",
      "           ^^^^^^^^^^^^^^^^^^^^^^^^\n",
      "  File \"d:\\Users\\semic\\Anaconda3\\envs\\qfi\\Lib\\inspect.py\", line 3191, in _bind\n",
      "    raise TypeError(\n",
      "TypeError: too many positional arguments\n",
      "\n",
      "  warnings.warn(\n"
     ]
    },
    {
     "name": "stdout",
     "output_type": "stream",
     "text": [
      "[CV] END booster=gbtree, learning_rate=0.01, n_estimators=200, num_leaves=20; total time=   0.6s\n"
     ]
    },
    {
     "name": "stderr",
     "output_type": "stream",
     "text": [
      "d:\\Users\\semic\\Anaconda3\\envs\\qfi\\Lib\\site-packages\\sklearn\\model_selection\\_validation.py:982: UserWarning: Scoring failed. The score on this train-test partition for these parameters will be set to nan. Details: \n",
      "Traceback (most recent call last):\n",
      "  File \"d:\\Users\\semic\\Anaconda3\\envs\\qfi\\Lib\\site-packages\\sklearn\\model_selection\\_validation.py\", line 971, in _score\n",
      "    scores = scorer(estimator, X_test, y_test, **score_params)\n",
      "             ^^^^^^^^^^^^^^^^^^^^^^^^^^^^^^^^^^^^^^^^^^^^^^^^^\n",
      "  File \"d:\\Users\\semic\\Anaconda3\\envs\\qfi\\Lib\\site-packages\\sklearn\\utils\\_param_validation.py\", line 191, in wrapper\n",
      "    params = func_sig.bind(*args, **kwargs)\n",
      "             ^^^^^^^^^^^^^^^^^^^^^^^^^^^^^^\n",
      "  File \"d:\\Users\\semic\\Anaconda3\\envs\\qfi\\Lib\\inspect.py\", line 3267, in bind\n",
      "    return self._bind(args, kwargs)\n",
      "           ^^^^^^^^^^^^^^^^^^^^^^^^\n",
      "  File \"d:\\Users\\semic\\Anaconda3\\envs\\qfi\\Lib\\inspect.py\", line 3191, in _bind\n",
      "    raise TypeError(\n",
      "TypeError: too many positional arguments\n",
      "\n",
      "  warnings.warn(\n"
     ]
    },
    {
     "name": "stdout",
     "output_type": "stream",
     "text": [
      "[CV] END booster=gbtree, learning_rate=0.01, n_estimators=200, num_leaves=20; total time=   0.7s\n"
     ]
    },
    {
     "name": "stderr",
     "output_type": "stream",
     "text": [
      "d:\\Users\\semic\\Anaconda3\\envs\\qfi\\Lib\\site-packages\\sklearn\\model_selection\\_validation.py:982: UserWarning: Scoring failed. The score on this train-test partition for these parameters will be set to nan. Details: \n",
      "Traceback (most recent call last):\n",
      "  File \"d:\\Users\\semic\\Anaconda3\\envs\\qfi\\Lib\\site-packages\\sklearn\\model_selection\\_validation.py\", line 971, in _score\n",
      "    scores = scorer(estimator, X_test, y_test, **score_params)\n",
      "             ^^^^^^^^^^^^^^^^^^^^^^^^^^^^^^^^^^^^^^^^^^^^^^^^^\n",
      "  File \"d:\\Users\\semic\\Anaconda3\\envs\\qfi\\Lib\\site-packages\\sklearn\\utils\\_param_validation.py\", line 191, in wrapper\n",
      "    params = func_sig.bind(*args, **kwargs)\n",
      "             ^^^^^^^^^^^^^^^^^^^^^^^^^^^^^^\n",
      "  File \"d:\\Users\\semic\\Anaconda3\\envs\\qfi\\Lib\\inspect.py\", line 3267, in bind\n",
      "    return self._bind(args, kwargs)\n",
      "           ^^^^^^^^^^^^^^^^^^^^^^^^\n",
      "  File \"d:\\Users\\semic\\Anaconda3\\envs\\qfi\\Lib\\inspect.py\", line 3191, in _bind\n",
      "    raise TypeError(\n",
      "TypeError: too many positional arguments\n",
      "\n",
      "  warnings.warn(\n"
     ]
    },
    {
     "name": "stdout",
     "output_type": "stream",
     "text": [
      "[CV] END booster=gbtree, learning_rate=0.01, n_estimators=200, num_leaves=31; total time=   0.6s\n"
     ]
    },
    {
     "name": "stderr",
     "output_type": "stream",
     "text": [
      "d:\\Users\\semic\\Anaconda3\\envs\\qfi\\Lib\\site-packages\\sklearn\\model_selection\\_validation.py:982: UserWarning: Scoring failed. The score on this train-test partition for these parameters will be set to nan. Details: \n",
      "Traceback (most recent call last):\n",
      "  File \"d:\\Users\\semic\\Anaconda3\\envs\\qfi\\Lib\\site-packages\\sklearn\\model_selection\\_validation.py\", line 971, in _score\n",
      "    scores = scorer(estimator, X_test, y_test, **score_params)\n",
      "             ^^^^^^^^^^^^^^^^^^^^^^^^^^^^^^^^^^^^^^^^^^^^^^^^^\n",
      "  File \"d:\\Users\\semic\\Anaconda3\\envs\\qfi\\Lib\\site-packages\\sklearn\\utils\\_param_validation.py\", line 191, in wrapper\n",
      "    params = func_sig.bind(*args, **kwargs)\n",
      "             ^^^^^^^^^^^^^^^^^^^^^^^^^^^^^^\n",
      "  File \"d:\\Users\\semic\\Anaconda3\\envs\\qfi\\Lib\\inspect.py\", line 3267, in bind\n",
      "    return self._bind(args, kwargs)\n",
      "           ^^^^^^^^^^^^^^^^^^^^^^^^\n",
      "  File \"d:\\Users\\semic\\Anaconda3\\envs\\qfi\\Lib\\inspect.py\", line 3191, in _bind\n",
      "    raise TypeError(\n",
      "TypeError: too many positional arguments\n",
      "\n",
      "  warnings.warn(\n"
     ]
    },
    {
     "name": "stdout",
     "output_type": "stream",
     "text": [
      "[CV] END booster=gbtree, learning_rate=0.01, n_estimators=200, num_leaves=31; total time=   0.7s\n"
     ]
    },
    {
     "name": "stderr",
     "output_type": "stream",
     "text": [
      "d:\\Users\\semic\\Anaconda3\\envs\\qfi\\Lib\\site-packages\\sklearn\\model_selection\\_validation.py:982: UserWarning: Scoring failed. The score on this train-test partition for these parameters will be set to nan. Details: \n",
      "Traceback (most recent call last):\n",
      "  File \"d:\\Users\\semic\\Anaconda3\\envs\\qfi\\Lib\\site-packages\\sklearn\\model_selection\\_validation.py\", line 971, in _score\n",
      "    scores = scorer(estimator, X_test, y_test, **score_params)\n",
      "             ^^^^^^^^^^^^^^^^^^^^^^^^^^^^^^^^^^^^^^^^^^^^^^^^^\n",
      "  File \"d:\\Users\\semic\\Anaconda3\\envs\\qfi\\Lib\\site-packages\\sklearn\\utils\\_param_validation.py\", line 191, in wrapper\n",
      "    params = func_sig.bind(*args, **kwargs)\n",
      "             ^^^^^^^^^^^^^^^^^^^^^^^^^^^^^^\n",
      "  File \"d:\\Users\\semic\\Anaconda3\\envs\\qfi\\Lib\\inspect.py\", line 3267, in bind\n",
      "    return self._bind(args, kwargs)\n",
      "           ^^^^^^^^^^^^^^^^^^^^^^^^\n",
      "  File \"d:\\Users\\semic\\Anaconda3\\envs\\qfi\\Lib\\inspect.py\", line 3191, in _bind\n",
      "    raise TypeError(\n",
      "TypeError: too many positional arguments\n",
      "\n",
      "  warnings.warn(\n"
     ]
    },
    {
     "name": "stdout",
     "output_type": "stream",
     "text": [
      "[CV] END booster=gbtree, learning_rate=0.01, n_estimators=200, num_leaves=31; total time=   0.6s\n"
     ]
    },
    {
     "name": "stderr",
     "output_type": "stream",
     "text": [
      "d:\\Users\\semic\\Anaconda3\\envs\\qfi\\Lib\\site-packages\\sklearn\\model_selection\\_validation.py:982: UserWarning: Scoring failed. The score on this train-test partition for these parameters will be set to nan. Details: \n",
      "Traceback (most recent call last):\n",
      "  File \"d:\\Users\\semic\\Anaconda3\\envs\\qfi\\Lib\\site-packages\\sklearn\\model_selection\\_validation.py\", line 971, in _score\n",
      "    scores = scorer(estimator, X_test, y_test, **score_params)\n",
      "             ^^^^^^^^^^^^^^^^^^^^^^^^^^^^^^^^^^^^^^^^^^^^^^^^^\n",
      "  File \"d:\\Users\\semic\\Anaconda3\\envs\\qfi\\Lib\\site-packages\\sklearn\\utils\\_param_validation.py\", line 191, in wrapper\n",
      "    params = func_sig.bind(*args, **kwargs)\n",
      "             ^^^^^^^^^^^^^^^^^^^^^^^^^^^^^^\n",
      "  File \"d:\\Users\\semic\\Anaconda3\\envs\\qfi\\Lib\\inspect.py\", line 3267, in bind\n",
      "    return self._bind(args, kwargs)\n",
      "           ^^^^^^^^^^^^^^^^^^^^^^^^\n",
      "  File \"d:\\Users\\semic\\Anaconda3\\envs\\qfi\\Lib\\inspect.py\", line 3191, in _bind\n",
      "    raise TypeError(\n",
      "TypeError: too many positional arguments\n",
      "\n",
      "  warnings.warn(\n"
     ]
    },
    {
     "name": "stdout",
     "output_type": "stream",
     "text": [
      "[CV] END booster=gbtree, learning_rate=0.01, n_estimators=200, num_leaves=31; total time=   0.6s\n"
     ]
    },
    {
     "name": "stderr",
     "output_type": "stream",
     "text": [
      "d:\\Users\\semic\\Anaconda3\\envs\\qfi\\Lib\\site-packages\\sklearn\\model_selection\\_validation.py:982: UserWarning: Scoring failed. The score on this train-test partition for these parameters will be set to nan. Details: \n",
      "Traceback (most recent call last):\n",
      "  File \"d:\\Users\\semic\\Anaconda3\\envs\\qfi\\Lib\\site-packages\\sklearn\\model_selection\\_validation.py\", line 971, in _score\n",
      "    scores = scorer(estimator, X_test, y_test, **score_params)\n",
      "             ^^^^^^^^^^^^^^^^^^^^^^^^^^^^^^^^^^^^^^^^^^^^^^^^^\n",
      "  File \"d:\\Users\\semic\\Anaconda3\\envs\\qfi\\Lib\\site-packages\\sklearn\\utils\\_param_validation.py\", line 191, in wrapper\n",
      "    params = func_sig.bind(*args, **kwargs)\n",
      "             ^^^^^^^^^^^^^^^^^^^^^^^^^^^^^^\n",
      "  File \"d:\\Users\\semic\\Anaconda3\\envs\\qfi\\Lib\\inspect.py\", line 3267, in bind\n",
      "    return self._bind(args, kwargs)\n",
      "           ^^^^^^^^^^^^^^^^^^^^^^^^\n",
      "  File \"d:\\Users\\semic\\Anaconda3\\envs\\qfi\\Lib\\inspect.py\", line 3191, in _bind\n",
      "    raise TypeError(\n",
      "TypeError: too many positional arguments\n",
      "\n",
      "  warnings.warn(\n"
     ]
    },
    {
     "name": "stdout",
     "output_type": "stream",
     "text": [
      "[CV] END booster=gbtree, learning_rate=0.01, n_estimators=200, num_leaves=31; total time=   0.6s\n"
     ]
    },
    {
     "name": "stderr",
     "output_type": "stream",
     "text": [
      "d:\\Users\\semic\\Anaconda3\\envs\\qfi\\Lib\\site-packages\\sklearn\\model_selection\\_validation.py:982: UserWarning: Scoring failed. The score on this train-test partition for these parameters will be set to nan. Details: \n",
      "Traceback (most recent call last):\n",
      "  File \"d:\\Users\\semic\\Anaconda3\\envs\\qfi\\Lib\\site-packages\\sklearn\\model_selection\\_validation.py\", line 971, in _score\n",
      "    scores = scorer(estimator, X_test, y_test, **score_params)\n",
      "             ^^^^^^^^^^^^^^^^^^^^^^^^^^^^^^^^^^^^^^^^^^^^^^^^^\n",
      "  File \"d:\\Users\\semic\\Anaconda3\\envs\\qfi\\Lib\\site-packages\\sklearn\\utils\\_param_validation.py\", line 191, in wrapper\n",
      "    params = func_sig.bind(*args, **kwargs)\n",
      "             ^^^^^^^^^^^^^^^^^^^^^^^^^^^^^^\n",
      "  File \"d:\\Users\\semic\\Anaconda3\\envs\\qfi\\Lib\\inspect.py\", line 3267, in bind\n",
      "    return self._bind(args, kwargs)\n",
      "           ^^^^^^^^^^^^^^^^^^^^^^^^\n",
      "  File \"d:\\Users\\semic\\Anaconda3\\envs\\qfi\\Lib\\inspect.py\", line 3191, in _bind\n",
      "    raise TypeError(\n",
      "TypeError: too many positional arguments\n",
      "\n",
      "  warnings.warn(\n"
     ]
    },
    {
     "name": "stdout",
     "output_type": "stream",
     "text": [
      "[CV] END booster=gbtree, learning_rate=0.01, n_estimators=200, num_leaves=50; total time=   0.6s\n"
     ]
    },
    {
     "name": "stderr",
     "output_type": "stream",
     "text": [
      "d:\\Users\\semic\\Anaconda3\\envs\\qfi\\Lib\\site-packages\\sklearn\\model_selection\\_validation.py:982: UserWarning: Scoring failed. The score on this train-test partition for these parameters will be set to nan. Details: \n",
      "Traceback (most recent call last):\n",
      "  File \"d:\\Users\\semic\\Anaconda3\\envs\\qfi\\Lib\\site-packages\\sklearn\\model_selection\\_validation.py\", line 971, in _score\n",
      "    scores = scorer(estimator, X_test, y_test, **score_params)\n",
      "             ^^^^^^^^^^^^^^^^^^^^^^^^^^^^^^^^^^^^^^^^^^^^^^^^^\n",
      "  File \"d:\\Users\\semic\\Anaconda3\\envs\\qfi\\Lib\\site-packages\\sklearn\\utils\\_param_validation.py\", line 191, in wrapper\n",
      "    params = func_sig.bind(*args, **kwargs)\n",
      "             ^^^^^^^^^^^^^^^^^^^^^^^^^^^^^^\n",
      "  File \"d:\\Users\\semic\\Anaconda3\\envs\\qfi\\Lib\\inspect.py\", line 3267, in bind\n",
      "    return self._bind(args, kwargs)\n",
      "           ^^^^^^^^^^^^^^^^^^^^^^^^\n",
      "  File \"d:\\Users\\semic\\Anaconda3\\envs\\qfi\\Lib\\inspect.py\", line 3191, in _bind\n",
      "    raise TypeError(\n",
      "TypeError: too many positional arguments\n",
      "\n",
      "  warnings.warn(\n"
     ]
    },
    {
     "name": "stdout",
     "output_type": "stream",
     "text": [
      "[CV] END booster=gbtree, learning_rate=0.01, n_estimators=200, num_leaves=50; total time=   0.6s\n"
     ]
    },
    {
     "name": "stderr",
     "output_type": "stream",
     "text": [
      "d:\\Users\\semic\\Anaconda3\\envs\\qfi\\Lib\\site-packages\\sklearn\\model_selection\\_validation.py:982: UserWarning: Scoring failed. The score on this train-test partition for these parameters will be set to nan. Details: \n",
      "Traceback (most recent call last):\n",
      "  File \"d:\\Users\\semic\\Anaconda3\\envs\\qfi\\Lib\\site-packages\\sklearn\\model_selection\\_validation.py\", line 971, in _score\n",
      "    scores = scorer(estimator, X_test, y_test, **score_params)\n",
      "             ^^^^^^^^^^^^^^^^^^^^^^^^^^^^^^^^^^^^^^^^^^^^^^^^^\n",
      "  File \"d:\\Users\\semic\\Anaconda3\\envs\\qfi\\Lib\\site-packages\\sklearn\\utils\\_param_validation.py\", line 191, in wrapper\n",
      "    params = func_sig.bind(*args, **kwargs)\n",
      "             ^^^^^^^^^^^^^^^^^^^^^^^^^^^^^^\n",
      "  File \"d:\\Users\\semic\\Anaconda3\\envs\\qfi\\Lib\\inspect.py\", line 3267, in bind\n",
      "    return self._bind(args, kwargs)\n",
      "           ^^^^^^^^^^^^^^^^^^^^^^^^\n",
      "  File \"d:\\Users\\semic\\Anaconda3\\envs\\qfi\\Lib\\inspect.py\", line 3191, in _bind\n",
      "    raise TypeError(\n",
      "TypeError: too many positional arguments\n",
      "\n",
      "  warnings.warn(\n"
     ]
    },
    {
     "name": "stdout",
     "output_type": "stream",
     "text": [
      "[CV] END booster=gbtree, learning_rate=0.01, n_estimators=200, num_leaves=50; total time=   0.6s\n"
     ]
    },
    {
     "name": "stderr",
     "output_type": "stream",
     "text": [
      "d:\\Users\\semic\\Anaconda3\\envs\\qfi\\Lib\\site-packages\\sklearn\\model_selection\\_validation.py:982: UserWarning: Scoring failed. The score on this train-test partition for these parameters will be set to nan. Details: \n",
      "Traceback (most recent call last):\n",
      "  File \"d:\\Users\\semic\\Anaconda3\\envs\\qfi\\Lib\\site-packages\\sklearn\\model_selection\\_validation.py\", line 971, in _score\n",
      "    scores = scorer(estimator, X_test, y_test, **score_params)\n",
      "             ^^^^^^^^^^^^^^^^^^^^^^^^^^^^^^^^^^^^^^^^^^^^^^^^^\n",
      "  File \"d:\\Users\\semic\\Anaconda3\\envs\\qfi\\Lib\\site-packages\\sklearn\\utils\\_param_validation.py\", line 191, in wrapper\n",
      "    params = func_sig.bind(*args, **kwargs)\n",
      "             ^^^^^^^^^^^^^^^^^^^^^^^^^^^^^^\n",
      "  File \"d:\\Users\\semic\\Anaconda3\\envs\\qfi\\Lib\\inspect.py\", line 3267, in bind\n",
      "    return self._bind(args, kwargs)\n",
      "           ^^^^^^^^^^^^^^^^^^^^^^^^\n",
      "  File \"d:\\Users\\semic\\Anaconda3\\envs\\qfi\\Lib\\inspect.py\", line 3191, in _bind\n",
      "    raise TypeError(\n",
      "TypeError: too many positional arguments\n",
      "\n",
      "  warnings.warn(\n"
     ]
    },
    {
     "name": "stdout",
     "output_type": "stream",
     "text": [
      "[CV] END booster=gbtree, learning_rate=0.01, n_estimators=200, num_leaves=50; total time=   0.6s\n"
     ]
    },
    {
     "name": "stderr",
     "output_type": "stream",
     "text": [
      "d:\\Users\\semic\\Anaconda3\\envs\\qfi\\Lib\\site-packages\\sklearn\\model_selection\\_validation.py:982: UserWarning: Scoring failed. The score on this train-test partition for these parameters will be set to nan. Details: \n",
      "Traceback (most recent call last):\n",
      "  File \"d:\\Users\\semic\\Anaconda3\\envs\\qfi\\Lib\\site-packages\\sklearn\\model_selection\\_validation.py\", line 971, in _score\n",
      "    scores = scorer(estimator, X_test, y_test, **score_params)\n",
      "             ^^^^^^^^^^^^^^^^^^^^^^^^^^^^^^^^^^^^^^^^^^^^^^^^^\n",
      "  File \"d:\\Users\\semic\\Anaconda3\\envs\\qfi\\Lib\\site-packages\\sklearn\\utils\\_param_validation.py\", line 191, in wrapper\n",
      "    params = func_sig.bind(*args, **kwargs)\n",
      "             ^^^^^^^^^^^^^^^^^^^^^^^^^^^^^^\n",
      "  File \"d:\\Users\\semic\\Anaconda3\\envs\\qfi\\Lib\\inspect.py\", line 3267, in bind\n",
      "    return self._bind(args, kwargs)\n",
      "           ^^^^^^^^^^^^^^^^^^^^^^^^\n",
      "  File \"d:\\Users\\semic\\Anaconda3\\envs\\qfi\\Lib\\inspect.py\", line 3191, in _bind\n",
      "    raise TypeError(\n",
      "TypeError: too many positional arguments\n",
      "\n",
      "  warnings.warn(\n"
     ]
    },
    {
     "name": "stdout",
     "output_type": "stream",
     "text": [
      "[CV] END booster=gbtree, learning_rate=0.01, n_estimators=200, num_leaves=50; total time=   0.6s\n"
     ]
    },
    {
     "name": "stderr",
     "output_type": "stream",
     "text": [
      "d:\\Users\\semic\\Anaconda3\\envs\\qfi\\Lib\\site-packages\\sklearn\\model_selection\\_validation.py:982: UserWarning: Scoring failed. The score on this train-test partition for these parameters will be set to nan. Details: \n",
      "Traceback (most recent call last):\n",
      "  File \"d:\\Users\\semic\\Anaconda3\\envs\\qfi\\Lib\\site-packages\\sklearn\\model_selection\\_validation.py\", line 971, in _score\n",
      "    scores = scorer(estimator, X_test, y_test, **score_params)\n",
      "             ^^^^^^^^^^^^^^^^^^^^^^^^^^^^^^^^^^^^^^^^^^^^^^^^^\n",
      "  File \"d:\\Users\\semic\\Anaconda3\\envs\\qfi\\Lib\\site-packages\\sklearn\\utils\\_param_validation.py\", line 191, in wrapper\n",
      "    params = func_sig.bind(*args, **kwargs)\n",
      "             ^^^^^^^^^^^^^^^^^^^^^^^^^^^^^^\n",
      "  File \"d:\\Users\\semic\\Anaconda3\\envs\\qfi\\Lib\\inspect.py\", line 3267, in bind\n",
      "    return self._bind(args, kwargs)\n",
      "           ^^^^^^^^^^^^^^^^^^^^^^^^\n",
      "  File \"d:\\Users\\semic\\Anaconda3\\envs\\qfi\\Lib\\inspect.py\", line 3191, in _bind\n",
      "    raise TypeError(\n",
      "TypeError: too many positional arguments\n",
      "\n",
      "  warnings.warn(\n"
     ]
    },
    {
     "name": "stdout",
     "output_type": "stream",
     "text": [
      "[CV] END booster=gbtree, learning_rate=0.01, n_estimators=500, num_leaves=20; total time=   1.5s\n"
     ]
    },
    {
     "name": "stderr",
     "output_type": "stream",
     "text": [
      "d:\\Users\\semic\\Anaconda3\\envs\\qfi\\Lib\\site-packages\\sklearn\\model_selection\\_validation.py:982: UserWarning: Scoring failed. The score on this train-test partition for these parameters will be set to nan. Details: \n",
      "Traceback (most recent call last):\n",
      "  File \"d:\\Users\\semic\\Anaconda3\\envs\\qfi\\Lib\\site-packages\\sklearn\\model_selection\\_validation.py\", line 971, in _score\n",
      "    scores = scorer(estimator, X_test, y_test, **score_params)\n",
      "             ^^^^^^^^^^^^^^^^^^^^^^^^^^^^^^^^^^^^^^^^^^^^^^^^^\n",
      "  File \"d:\\Users\\semic\\Anaconda3\\envs\\qfi\\Lib\\site-packages\\sklearn\\utils\\_param_validation.py\", line 191, in wrapper\n",
      "    params = func_sig.bind(*args, **kwargs)\n",
      "             ^^^^^^^^^^^^^^^^^^^^^^^^^^^^^^\n",
      "  File \"d:\\Users\\semic\\Anaconda3\\envs\\qfi\\Lib\\inspect.py\", line 3267, in bind\n",
      "    return self._bind(args, kwargs)\n",
      "           ^^^^^^^^^^^^^^^^^^^^^^^^\n",
      "  File \"d:\\Users\\semic\\Anaconda3\\envs\\qfi\\Lib\\inspect.py\", line 3191, in _bind\n",
      "    raise TypeError(\n",
      "TypeError: too many positional arguments\n",
      "\n",
      "  warnings.warn(\n"
     ]
    },
    {
     "name": "stdout",
     "output_type": "stream",
     "text": [
      "[CV] END booster=gbtree, learning_rate=0.01, n_estimators=500, num_leaves=20; total time=   1.6s\n"
     ]
    },
    {
     "name": "stderr",
     "output_type": "stream",
     "text": [
      "d:\\Users\\semic\\Anaconda3\\envs\\qfi\\Lib\\site-packages\\sklearn\\model_selection\\_validation.py:982: UserWarning: Scoring failed. The score on this train-test partition for these parameters will be set to nan. Details: \n",
      "Traceback (most recent call last):\n",
      "  File \"d:\\Users\\semic\\Anaconda3\\envs\\qfi\\Lib\\site-packages\\sklearn\\model_selection\\_validation.py\", line 971, in _score\n",
      "    scores = scorer(estimator, X_test, y_test, **score_params)\n",
      "             ^^^^^^^^^^^^^^^^^^^^^^^^^^^^^^^^^^^^^^^^^^^^^^^^^\n",
      "  File \"d:\\Users\\semic\\Anaconda3\\envs\\qfi\\Lib\\site-packages\\sklearn\\utils\\_param_validation.py\", line 191, in wrapper\n",
      "    params = func_sig.bind(*args, **kwargs)\n",
      "             ^^^^^^^^^^^^^^^^^^^^^^^^^^^^^^\n",
      "  File \"d:\\Users\\semic\\Anaconda3\\envs\\qfi\\Lib\\inspect.py\", line 3267, in bind\n",
      "    return self._bind(args, kwargs)\n",
      "           ^^^^^^^^^^^^^^^^^^^^^^^^\n",
      "  File \"d:\\Users\\semic\\Anaconda3\\envs\\qfi\\Lib\\inspect.py\", line 3191, in _bind\n",
      "    raise TypeError(\n",
      "TypeError: too many positional arguments\n",
      "\n",
      "  warnings.warn(\n"
     ]
    },
    {
     "name": "stdout",
     "output_type": "stream",
     "text": [
      "[CV] END booster=gbtree, learning_rate=0.01, n_estimators=500, num_leaves=20; total time=   1.5s\n"
     ]
    },
    {
     "name": "stderr",
     "output_type": "stream",
     "text": [
      "d:\\Users\\semic\\Anaconda3\\envs\\qfi\\Lib\\site-packages\\sklearn\\model_selection\\_validation.py:982: UserWarning: Scoring failed. The score on this train-test partition for these parameters will be set to nan. Details: \n",
      "Traceback (most recent call last):\n",
      "  File \"d:\\Users\\semic\\Anaconda3\\envs\\qfi\\Lib\\site-packages\\sklearn\\model_selection\\_validation.py\", line 971, in _score\n",
      "    scores = scorer(estimator, X_test, y_test, **score_params)\n",
      "             ^^^^^^^^^^^^^^^^^^^^^^^^^^^^^^^^^^^^^^^^^^^^^^^^^\n",
      "  File \"d:\\Users\\semic\\Anaconda3\\envs\\qfi\\Lib\\site-packages\\sklearn\\utils\\_param_validation.py\", line 191, in wrapper\n",
      "    params = func_sig.bind(*args, **kwargs)\n",
      "             ^^^^^^^^^^^^^^^^^^^^^^^^^^^^^^\n",
      "  File \"d:\\Users\\semic\\Anaconda3\\envs\\qfi\\Lib\\inspect.py\", line 3267, in bind\n",
      "    return self._bind(args, kwargs)\n",
      "           ^^^^^^^^^^^^^^^^^^^^^^^^\n",
      "  File \"d:\\Users\\semic\\Anaconda3\\envs\\qfi\\Lib\\inspect.py\", line 3191, in _bind\n",
      "    raise TypeError(\n",
      "TypeError: too many positional arguments\n",
      "\n",
      "  warnings.warn(\n"
     ]
    },
    {
     "name": "stdout",
     "output_type": "stream",
     "text": [
      "[CV] END booster=gbtree, learning_rate=0.01, n_estimators=500, num_leaves=20; total time=   1.5s\n"
     ]
    },
    {
     "name": "stderr",
     "output_type": "stream",
     "text": [
      "d:\\Users\\semic\\Anaconda3\\envs\\qfi\\Lib\\site-packages\\sklearn\\model_selection\\_validation.py:982: UserWarning: Scoring failed. The score on this train-test partition for these parameters will be set to nan. Details: \n",
      "Traceback (most recent call last):\n",
      "  File \"d:\\Users\\semic\\Anaconda3\\envs\\qfi\\Lib\\site-packages\\sklearn\\model_selection\\_validation.py\", line 971, in _score\n",
      "    scores = scorer(estimator, X_test, y_test, **score_params)\n",
      "             ^^^^^^^^^^^^^^^^^^^^^^^^^^^^^^^^^^^^^^^^^^^^^^^^^\n",
      "  File \"d:\\Users\\semic\\Anaconda3\\envs\\qfi\\Lib\\site-packages\\sklearn\\utils\\_param_validation.py\", line 191, in wrapper\n",
      "    params = func_sig.bind(*args, **kwargs)\n",
      "             ^^^^^^^^^^^^^^^^^^^^^^^^^^^^^^\n",
      "  File \"d:\\Users\\semic\\Anaconda3\\envs\\qfi\\Lib\\inspect.py\", line 3267, in bind\n",
      "    return self._bind(args, kwargs)\n",
      "           ^^^^^^^^^^^^^^^^^^^^^^^^\n",
      "  File \"d:\\Users\\semic\\Anaconda3\\envs\\qfi\\Lib\\inspect.py\", line 3191, in _bind\n",
      "    raise TypeError(\n",
      "TypeError: too many positional arguments\n",
      "\n",
      "  warnings.warn(\n"
     ]
    },
    {
     "name": "stdout",
     "output_type": "stream",
     "text": [
      "[CV] END booster=gbtree, learning_rate=0.01, n_estimators=500, num_leaves=20; total time=   1.5s\n"
     ]
    },
    {
     "name": "stderr",
     "output_type": "stream",
     "text": [
      "d:\\Users\\semic\\Anaconda3\\envs\\qfi\\Lib\\site-packages\\sklearn\\model_selection\\_validation.py:982: UserWarning: Scoring failed. The score on this train-test partition for these parameters will be set to nan. Details: \n",
      "Traceback (most recent call last):\n",
      "  File \"d:\\Users\\semic\\Anaconda3\\envs\\qfi\\Lib\\site-packages\\sklearn\\model_selection\\_validation.py\", line 971, in _score\n",
      "    scores = scorer(estimator, X_test, y_test, **score_params)\n",
      "             ^^^^^^^^^^^^^^^^^^^^^^^^^^^^^^^^^^^^^^^^^^^^^^^^^\n",
      "  File \"d:\\Users\\semic\\Anaconda3\\envs\\qfi\\Lib\\site-packages\\sklearn\\utils\\_param_validation.py\", line 191, in wrapper\n",
      "    params = func_sig.bind(*args, **kwargs)\n",
      "             ^^^^^^^^^^^^^^^^^^^^^^^^^^^^^^\n",
      "  File \"d:\\Users\\semic\\Anaconda3\\envs\\qfi\\Lib\\inspect.py\", line 3267, in bind\n",
      "    return self._bind(args, kwargs)\n",
      "           ^^^^^^^^^^^^^^^^^^^^^^^^\n",
      "  File \"d:\\Users\\semic\\Anaconda3\\envs\\qfi\\Lib\\inspect.py\", line 3191, in _bind\n",
      "    raise TypeError(\n",
      "TypeError: too many positional arguments\n",
      "\n",
      "  warnings.warn(\n"
     ]
    },
    {
     "name": "stdout",
     "output_type": "stream",
     "text": [
      "[CV] END booster=gbtree, learning_rate=0.01, n_estimators=500, num_leaves=31; total time=   1.6s\n"
     ]
    },
    {
     "name": "stderr",
     "output_type": "stream",
     "text": [
      "d:\\Users\\semic\\Anaconda3\\envs\\qfi\\Lib\\site-packages\\sklearn\\model_selection\\_validation.py:982: UserWarning: Scoring failed. The score on this train-test partition for these parameters will be set to nan. Details: \n",
      "Traceback (most recent call last):\n",
      "  File \"d:\\Users\\semic\\Anaconda3\\envs\\qfi\\Lib\\site-packages\\sklearn\\model_selection\\_validation.py\", line 971, in _score\n",
      "    scores = scorer(estimator, X_test, y_test, **score_params)\n",
      "             ^^^^^^^^^^^^^^^^^^^^^^^^^^^^^^^^^^^^^^^^^^^^^^^^^\n",
      "  File \"d:\\Users\\semic\\Anaconda3\\envs\\qfi\\Lib\\site-packages\\sklearn\\utils\\_param_validation.py\", line 191, in wrapper\n",
      "    params = func_sig.bind(*args, **kwargs)\n",
      "             ^^^^^^^^^^^^^^^^^^^^^^^^^^^^^^\n",
      "  File \"d:\\Users\\semic\\Anaconda3\\envs\\qfi\\Lib\\inspect.py\", line 3267, in bind\n",
      "    return self._bind(args, kwargs)\n",
      "           ^^^^^^^^^^^^^^^^^^^^^^^^\n",
      "  File \"d:\\Users\\semic\\Anaconda3\\envs\\qfi\\Lib\\inspect.py\", line 3191, in _bind\n",
      "    raise TypeError(\n",
      "TypeError: too many positional arguments\n",
      "\n",
      "  warnings.warn(\n"
     ]
    },
    {
     "name": "stdout",
     "output_type": "stream",
     "text": [
      "[CV] END booster=gbtree, learning_rate=0.01, n_estimators=500, num_leaves=31; total time=   1.4s\n"
     ]
    },
    {
     "name": "stderr",
     "output_type": "stream",
     "text": [
      "d:\\Users\\semic\\Anaconda3\\envs\\qfi\\Lib\\site-packages\\sklearn\\model_selection\\_validation.py:982: UserWarning: Scoring failed. The score on this train-test partition for these parameters will be set to nan. Details: \n",
      "Traceback (most recent call last):\n",
      "  File \"d:\\Users\\semic\\Anaconda3\\envs\\qfi\\Lib\\site-packages\\sklearn\\model_selection\\_validation.py\", line 971, in _score\n",
      "    scores = scorer(estimator, X_test, y_test, **score_params)\n",
      "             ^^^^^^^^^^^^^^^^^^^^^^^^^^^^^^^^^^^^^^^^^^^^^^^^^\n",
      "  File \"d:\\Users\\semic\\Anaconda3\\envs\\qfi\\Lib\\site-packages\\sklearn\\utils\\_param_validation.py\", line 191, in wrapper\n",
      "    params = func_sig.bind(*args, **kwargs)\n",
      "             ^^^^^^^^^^^^^^^^^^^^^^^^^^^^^^\n",
      "  File \"d:\\Users\\semic\\Anaconda3\\envs\\qfi\\Lib\\inspect.py\", line 3267, in bind\n",
      "    return self._bind(args, kwargs)\n",
      "           ^^^^^^^^^^^^^^^^^^^^^^^^\n",
      "  File \"d:\\Users\\semic\\Anaconda3\\envs\\qfi\\Lib\\inspect.py\", line 3191, in _bind\n",
      "    raise TypeError(\n",
      "TypeError: too many positional arguments\n",
      "\n",
      "  warnings.warn(\n"
     ]
    },
    {
     "name": "stdout",
     "output_type": "stream",
     "text": [
      "[CV] END booster=gbtree, learning_rate=0.01, n_estimators=500, num_leaves=31; total time=   1.5s\n"
     ]
    },
    {
     "name": "stderr",
     "output_type": "stream",
     "text": [
      "d:\\Users\\semic\\Anaconda3\\envs\\qfi\\Lib\\site-packages\\sklearn\\model_selection\\_validation.py:982: UserWarning: Scoring failed. The score on this train-test partition for these parameters will be set to nan. Details: \n",
      "Traceback (most recent call last):\n",
      "  File \"d:\\Users\\semic\\Anaconda3\\envs\\qfi\\Lib\\site-packages\\sklearn\\model_selection\\_validation.py\", line 971, in _score\n",
      "    scores = scorer(estimator, X_test, y_test, **score_params)\n",
      "             ^^^^^^^^^^^^^^^^^^^^^^^^^^^^^^^^^^^^^^^^^^^^^^^^^\n",
      "  File \"d:\\Users\\semic\\Anaconda3\\envs\\qfi\\Lib\\site-packages\\sklearn\\utils\\_param_validation.py\", line 191, in wrapper\n",
      "    params = func_sig.bind(*args, **kwargs)\n",
      "             ^^^^^^^^^^^^^^^^^^^^^^^^^^^^^^\n",
      "  File \"d:\\Users\\semic\\Anaconda3\\envs\\qfi\\Lib\\inspect.py\", line 3267, in bind\n",
      "    return self._bind(args, kwargs)\n",
      "           ^^^^^^^^^^^^^^^^^^^^^^^^\n",
      "  File \"d:\\Users\\semic\\Anaconda3\\envs\\qfi\\Lib\\inspect.py\", line 3191, in _bind\n",
      "    raise TypeError(\n",
      "TypeError: too many positional arguments\n",
      "\n",
      "  warnings.warn(\n"
     ]
    },
    {
     "name": "stdout",
     "output_type": "stream",
     "text": [
      "[CV] END booster=gbtree, learning_rate=0.01, n_estimators=500, num_leaves=31; total time=   1.5s\n"
     ]
    },
    {
     "name": "stderr",
     "output_type": "stream",
     "text": [
      "d:\\Users\\semic\\Anaconda3\\envs\\qfi\\Lib\\site-packages\\sklearn\\model_selection\\_validation.py:982: UserWarning: Scoring failed. The score on this train-test partition for these parameters will be set to nan. Details: \n",
      "Traceback (most recent call last):\n",
      "  File \"d:\\Users\\semic\\Anaconda3\\envs\\qfi\\Lib\\site-packages\\sklearn\\model_selection\\_validation.py\", line 971, in _score\n",
      "    scores = scorer(estimator, X_test, y_test, **score_params)\n",
      "             ^^^^^^^^^^^^^^^^^^^^^^^^^^^^^^^^^^^^^^^^^^^^^^^^^\n",
      "  File \"d:\\Users\\semic\\Anaconda3\\envs\\qfi\\Lib\\site-packages\\sklearn\\utils\\_param_validation.py\", line 191, in wrapper\n",
      "    params = func_sig.bind(*args, **kwargs)\n",
      "             ^^^^^^^^^^^^^^^^^^^^^^^^^^^^^^\n",
      "  File \"d:\\Users\\semic\\Anaconda3\\envs\\qfi\\Lib\\inspect.py\", line 3267, in bind\n",
      "    return self._bind(args, kwargs)\n",
      "           ^^^^^^^^^^^^^^^^^^^^^^^^\n",
      "  File \"d:\\Users\\semic\\Anaconda3\\envs\\qfi\\Lib\\inspect.py\", line 3191, in _bind\n",
      "    raise TypeError(\n",
      "TypeError: too many positional arguments\n",
      "\n",
      "  warnings.warn(\n"
     ]
    },
    {
     "name": "stdout",
     "output_type": "stream",
     "text": [
      "[CV] END booster=gbtree, learning_rate=0.01, n_estimators=500, num_leaves=31; total time=   1.7s\n"
     ]
    },
    {
     "name": "stderr",
     "output_type": "stream",
     "text": [
      "d:\\Users\\semic\\Anaconda3\\envs\\qfi\\Lib\\site-packages\\sklearn\\model_selection\\_validation.py:982: UserWarning: Scoring failed. The score on this train-test partition for these parameters will be set to nan. Details: \n",
      "Traceback (most recent call last):\n",
      "  File \"d:\\Users\\semic\\Anaconda3\\envs\\qfi\\Lib\\site-packages\\sklearn\\model_selection\\_validation.py\", line 971, in _score\n",
      "    scores = scorer(estimator, X_test, y_test, **score_params)\n",
      "             ^^^^^^^^^^^^^^^^^^^^^^^^^^^^^^^^^^^^^^^^^^^^^^^^^\n",
      "  File \"d:\\Users\\semic\\Anaconda3\\envs\\qfi\\Lib\\site-packages\\sklearn\\utils\\_param_validation.py\", line 191, in wrapper\n",
      "    params = func_sig.bind(*args, **kwargs)\n",
      "             ^^^^^^^^^^^^^^^^^^^^^^^^^^^^^^\n",
      "  File \"d:\\Users\\semic\\Anaconda3\\envs\\qfi\\Lib\\inspect.py\", line 3267, in bind\n",
      "    return self._bind(args, kwargs)\n",
      "           ^^^^^^^^^^^^^^^^^^^^^^^^\n",
      "  File \"d:\\Users\\semic\\Anaconda3\\envs\\qfi\\Lib\\inspect.py\", line 3191, in _bind\n",
      "    raise TypeError(\n",
      "TypeError: too many positional arguments\n",
      "\n",
      "  warnings.warn(\n"
     ]
    },
    {
     "name": "stdout",
     "output_type": "stream",
     "text": [
      "[CV] END booster=gbtree, learning_rate=0.01, n_estimators=500, num_leaves=50; total time=   1.5s\n"
     ]
    },
    {
     "name": "stderr",
     "output_type": "stream",
     "text": [
      "d:\\Users\\semic\\Anaconda3\\envs\\qfi\\Lib\\site-packages\\sklearn\\model_selection\\_validation.py:982: UserWarning: Scoring failed. The score on this train-test partition for these parameters will be set to nan. Details: \n",
      "Traceback (most recent call last):\n",
      "  File \"d:\\Users\\semic\\Anaconda3\\envs\\qfi\\Lib\\site-packages\\sklearn\\model_selection\\_validation.py\", line 971, in _score\n",
      "    scores = scorer(estimator, X_test, y_test, **score_params)\n",
      "             ^^^^^^^^^^^^^^^^^^^^^^^^^^^^^^^^^^^^^^^^^^^^^^^^^\n",
      "  File \"d:\\Users\\semic\\Anaconda3\\envs\\qfi\\Lib\\site-packages\\sklearn\\utils\\_param_validation.py\", line 191, in wrapper\n",
      "    params = func_sig.bind(*args, **kwargs)\n",
      "             ^^^^^^^^^^^^^^^^^^^^^^^^^^^^^^\n",
      "  File \"d:\\Users\\semic\\Anaconda3\\envs\\qfi\\Lib\\inspect.py\", line 3267, in bind\n",
      "    return self._bind(args, kwargs)\n",
      "           ^^^^^^^^^^^^^^^^^^^^^^^^\n",
      "  File \"d:\\Users\\semic\\Anaconda3\\envs\\qfi\\Lib\\inspect.py\", line 3191, in _bind\n",
      "    raise TypeError(\n",
      "TypeError: too many positional arguments\n",
      "\n",
      "  warnings.warn(\n"
     ]
    },
    {
     "name": "stdout",
     "output_type": "stream",
     "text": [
      "[CV] END booster=gbtree, learning_rate=0.01, n_estimators=500, num_leaves=50; total time=   1.5s\n"
     ]
    },
    {
     "name": "stderr",
     "output_type": "stream",
     "text": [
      "d:\\Users\\semic\\Anaconda3\\envs\\qfi\\Lib\\site-packages\\sklearn\\model_selection\\_validation.py:982: UserWarning: Scoring failed. The score on this train-test partition for these parameters will be set to nan. Details: \n",
      "Traceback (most recent call last):\n",
      "  File \"d:\\Users\\semic\\Anaconda3\\envs\\qfi\\Lib\\site-packages\\sklearn\\model_selection\\_validation.py\", line 971, in _score\n",
      "    scores = scorer(estimator, X_test, y_test, **score_params)\n",
      "             ^^^^^^^^^^^^^^^^^^^^^^^^^^^^^^^^^^^^^^^^^^^^^^^^^\n",
      "  File \"d:\\Users\\semic\\Anaconda3\\envs\\qfi\\Lib\\site-packages\\sklearn\\utils\\_param_validation.py\", line 191, in wrapper\n",
      "    params = func_sig.bind(*args, **kwargs)\n",
      "             ^^^^^^^^^^^^^^^^^^^^^^^^^^^^^^\n",
      "  File \"d:\\Users\\semic\\Anaconda3\\envs\\qfi\\Lib\\inspect.py\", line 3267, in bind\n",
      "    return self._bind(args, kwargs)\n",
      "           ^^^^^^^^^^^^^^^^^^^^^^^^\n",
      "  File \"d:\\Users\\semic\\Anaconda3\\envs\\qfi\\Lib\\inspect.py\", line 3191, in _bind\n",
      "    raise TypeError(\n",
      "TypeError: too many positional arguments\n",
      "\n",
      "  warnings.warn(\n"
     ]
    },
    {
     "name": "stdout",
     "output_type": "stream",
     "text": [
      "[CV] END booster=gbtree, learning_rate=0.01, n_estimators=500, num_leaves=50; total time=   1.6s\n"
     ]
    },
    {
     "name": "stderr",
     "output_type": "stream",
     "text": [
      "d:\\Users\\semic\\Anaconda3\\envs\\qfi\\Lib\\site-packages\\sklearn\\model_selection\\_validation.py:982: UserWarning: Scoring failed. The score on this train-test partition for these parameters will be set to nan. Details: \n",
      "Traceback (most recent call last):\n",
      "  File \"d:\\Users\\semic\\Anaconda3\\envs\\qfi\\Lib\\site-packages\\sklearn\\model_selection\\_validation.py\", line 971, in _score\n",
      "    scores = scorer(estimator, X_test, y_test, **score_params)\n",
      "             ^^^^^^^^^^^^^^^^^^^^^^^^^^^^^^^^^^^^^^^^^^^^^^^^^\n",
      "  File \"d:\\Users\\semic\\Anaconda3\\envs\\qfi\\Lib\\site-packages\\sklearn\\utils\\_param_validation.py\", line 191, in wrapper\n",
      "    params = func_sig.bind(*args, **kwargs)\n",
      "             ^^^^^^^^^^^^^^^^^^^^^^^^^^^^^^\n",
      "  File \"d:\\Users\\semic\\Anaconda3\\envs\\qfi\\Lib\\inspect.py\", line 3267, in bind\n",
      "    return self._bind(args, kwargs)\n",
      "           ^^^^^^^^^^^^^^^^^^^^^^^^\n",
      "  File \"d:\\Users\\semic\\Anaconda3\\envs\\qfi\\Lib\\inspect.py\", line 3191, in _bind\n",
      "    raise TypeError(\n",
      "TypeError: too many positional arguments\n",
      "\n",
      "  warnings.warn(\n"
     ]
    },
    {
     "name": "stdout",
     "output_type": "stream",
     "text": [
      "[CV] END booster=gbtree, learning_rate=0.01, n_estimators=500, num_leaves=50; total time=   1.5s\n"
     ]
    },
    {
     "name": "stderr",
     "output_type": "stream",
     "text": [
      "d:\\Users\\semic\\Anaconda3\\envs\\qfi\\Lib\\site-packages\\sklearn\\model_selection\\_validation.py:982: UserWarning: Scoring failed. The score on this train-test partition for these parameters will be set to nan. Details: \n",
      "Traceback (most recent call last):\n",
      "  File \"d:\\Users\\semic\\Anaconda3\\envs\\qfi\\Lib\\site-packages\\sklearn\\model_selection\\_validation.py\", line 971, in _score\n",
      "    scores = scorer(estimator, X_test, y_test, **score_params)\n",
      "             ^^^^^^^^^^^^^^^^^^^^^^^^^^^^^^^^^^^^^^^^^^^^^^^^^\n",
      "  File \"d:\\Users\\semic\\Anaconda3\\envs\\qfi\\Lib\\site-packages\\sklearn\\utils\\_param_validation.py\", line 191, in wrapper\n",
      "    params = func_sig.bind(*args, **kwargs)\n",
      "             ^^^^^^^^^^^^^^^^^^^^^^^^^^^^^^\n",
      "  File \"d:\\Users\\semic\\Anaconda3\\envs\\qfi\\Lib\\inspect.py\", line 3267, in bind\n",
      "    return self._bind(args, kwargs)\n",
      "           ^^^^^^^^^^^^^^^^^^^^^^^^\n",
      "  File \"d:\\Users\\semic\\Anaconda3\\envs\\qfi\\Lib\\inspect.py\", line 3191, in _bind\n",
      "    raise TypeError(\n",
      "TypeError: too many positional arguments\n",
      "\n",
      "  warnings.warn(\n"
     ]
    },
    {
     "name": "stdout",
     "output_type": "stream",
     "text": [
      "[CV] END booster=gbtree, learning_rate=0.01, n_estimators=500, num_leaves=50; total time=   1.5s\n"
     ]
    },
    {
     "name": "stderr",
     "output_type": "stream",
     "text": [
      "d:\\Users\\semic\\Anaconda3\\envs\\qfi\\Lib\\site-packages\\sklearn\\model_selection\\_validation.py:982: UserWarning: Scoring failed. The score on this train-test partition for these parameters will be set to nan. Details: \n",
      "Traceback (most recent call last):\n",
      "  File \"d:\\Users\\semic\\Anaconda3\\envs\\qfi\\Lib\\site-packages\\sklearn\\model_selection\\_validation.py\", line 971, in _score\n",
      "    scores = scorer(estimator, X_test, y_test, **score_params)\n",
      "             ^^^^^^^^^^^^^^^^^^^^^^^^^^^^^^^^^^^^^^^^^^^^^^^^^\n",
      "  File \"d:\\Users\\semic\\Anaconda3\\envs\\qfi\\Lib\\site-packages\\sklearn\\utils\\_param_validation.py\", line 191, in wrapper\n",
      "    params = func_sig.bind(*args, **kwargs)\n",
      "             ^^^^^^^^^^^^^^^^^^^^^^^^^^^^^^\n",
      "  File \"d:\\Users\\semic\\Anaconda3\\envs\\qfi\\Lib\\inspect.py\", line 3267, in bind\n",
      "    return self._bind(args, kwargs)\n",
      "           ^^^^^^^^^^^^^^^^^^^^^^^^\n",
      "  File \"d:\\Users\\semic\\Anaconda3\\envs\\qfi\\Lib\\inspect.py\", line 3191, in _bind\n",
      "    raise TypeError(\n",
      "TypeError: too many positional arguments\n",
      "\n",
      "  warnings.warn(\n"
     ]
    },
    {
     "name": "stdout",
     "output_type": "stream",
     "text": [
      "[CV] END booster=gbtree, learning_rate=0.05, n_estimators=100, num_leaves=20; total time=   0.3s\n"
     ]
    },
    {
     "name": "stderr",
     "output_type": "stream",
     "text": [
      "d:\\Users\\semic\\Anaconda3\\envs\\qfi\\Lib\\site-packages\\sklearn\\model_selection\\_validation.py:982: UserWarning: Scoring failed. The score on this train-test partition for these parameters will be set to nan. Details: \n",
      "Traceback (most recent call last):\n",
      "  File \"d:\\Users\\semic\\Anaconda3\\envs\\qfi\\Lib\\site-packages\\sklearn\\model_selection\\_validation.py\", line 971, in _score\n",
      "    scores = scorer(estimator, X_test, y_test, **score_params)\n",
      "             ^^^^^^^^^^^^^^^^^^^^^^^^^^^^^^^^^^^^^^^^^^^^^^^^^\n",
      "  File \"d:\\Users\\semic\\Anaconda3\\envs\\qfi\\Lib\\site-packages\\sklearn\\utils\\_param_validation.py\", line 191, in wrapper\n",
      "    params = func_sig.bind(*args, **kwargs)\n",
      "             ^^^^^^^^^^^^^^^^^^^^^^^^^^^^^^\n",
      "  File \"d:\\Users\\semic\\Anaconda3\\envs\\qfi\\Lib\\inspect.py\", line 3267, in bind\n",
      "    return self._bind(args, kwargs)\n",
      "           ^^^^^^^^^^^^^^^^^^^^^^^^\n",
      "  File \"d:\\Users\\semic\\Anaconda3\\envs\\qfi\\Lib\\inspect.py\", line 3191, in _bind\n",
      "    raise TypeError(\n",
      "TypeError: too many positional arguments\n",
      "\n",
      "  warnings.warn(\n"
     ]
    },
    {
     "name": "stdout",
     "output_type": "stream",
     "text": [
      "[CV] END booster=gbtree, learning_rate=0.05, n_estimators=100, num_leaves=20; total time=   0.3s\n"
     ]
    },
    {
     "name": "stderr",
     "output_type": "stream",
     "text": [
      "d:\\Users\\semic\\Anaconda3\\envs\\qfi\\Lib\\site-packages\\sklearn\\model_selection\\_validation.py:982: UserWarning: Scoring failed. The score on this train-test partition for these parameters will be set to nan. Details: \n",
      "Traceback (most recent call last):\n",
      "  File \"d:\\Users\\semic\\Anaconda3\\envs\\qfi\\Lib\\site-packages\\sklearn\\model_selection\\_validation.py\", line 971, in _score\n",
      "    scores = scorer(estimator, X_test, y_test, **score_params)\n",
      "             ^^^^^^^^^^^^^^^^^^^^^^^^^^^^^^^^^^^^^^^^^^^^^^^^^\n",
      "  File \"d:\\Users\\semic\\Anaconda3\\envs\\qfi\\Lib\\site-packages\\sklearn\\utils\\_param_validation.py\", line 191, in wrapper\n",
      "    params = func_sig.bind(*args, **kwargs)\n",
      "             ^^^^^^^^^^^^^^^^^^^^^^^^^^^^^^\n",
      "  File \"d:\\Users\\semic\\Anaconda3\\envs\\qfi\\Lib\\inspect.py\", line 3267, in bind\n",
      "    return self._bind(args, kwargs)\n",
      "           ^^^^^^^^^^^^^^^^^^^^^^^^\n",
      "  File \"d:\\Users\\semic\\Anaconda3\\envs\\qfi\\Lib\\inspect.py\", line 3191, in _bind\n",
      "    raise TypeError(\n",
      "TypeError: too many positional arguments\n",
      "\n",
      "  warnings.warn(\n"
     ]
    },
    {
     "name": "stdout",
     "output_type": "stream",
     "text": [
      "[CV] END booster=gbtree, learning_rate=0.05, n_estimators=100, num_leaves=20; total time=   0.3s\n"
     ]
    },
    {
     "name": "stderr",
     "output_type": "stream",
     "text": [
      "d:\\Users\\semic\\Anaconda3\\envs\\qfi\\Lib\\site-packages\\sklearn\\model_selection\\_validation.py:982: UserWarning: Scoring failed. The score on this train-test partition for these parameters will be set to nan. Details: \n",
      "Traceback (most recent call last):\n",
      "  File \"d:\\Users\\semic\\Anaconda3\\envs\\qfi\\Lib\\site-packages\\sklearn\\model_selection\\_validation.py\", line 971, in _score\n",
      "    scores = scorer(estimator, X_test, y_test, **score_params)\n",
      "             ^^^^^^^^^^^^^^^^^^^^^^^^^^^^^^^^^^^^^^^^^^^^^^^^^\n",
      "  File \"d:\\Users\\semic\\Anaconda3\\envs\\qfi\\Lib\\site-packages\\sklearn\\utils\\_param_validation.py\", line 191, in wrapper\n",
      "    params = func_sig.bind(*args, **kwargs)\n",
      "             ^^^^^^^^^^^^^^^^^^^^^^^^^^^^^^\n",
      "  File \"d:\\Users\\semic\\Anaconda3\\envs\\qfi\\Lib\\inspect.py\", line 3267, in bind\n",
      "    return self._bind(args, kwargs)\n",
      "           ^^^^^^^^^^^^^^^^^^^^^^^^\n",
      "  File \"d:\\Users\\semic\\Anaconda3\\envs\\qfi\\Lib\\inspect.py\", line 3191, in _bind\n",
      "    raise TypeError(\n",
      "TypeError: too many positional arguments\n",
      "\n",
      "  warnings.warn(\n"
     ]
    },
    {
     "name": "stdout",
     "output_type": "stream",
     "text": [
      "[CV] END booster=gbtree, learning_rate=0.05, n_estimators=100, num_leaves=20; total time=   0.3s\n"
     ]
    },
    {
     "name": "stderr",
     "output_type": "stream",
     "text": [
      "d:\\Users\\semic\\Anaconda3\\envs\\qfi\\Lib\\site-packages\\sklearn\\model_selection\\_validation.py:982: UserWarning: Scoring failed. The score on this train-test partition for these parameters will be set to nan. Details: \n",
      "Traceback (most recent call last):\n",
      "  File \"d:\\Users\\semic\\Anaconda3\\envs\\qfi\\Lib\\site-packages\\sklearn\\model_selection\\_validation.py\", line 971, in _score\n",
      "    scores = scorer(estimator, X_test, y_test, **score_params)\n",
      "             ^^^^^^^^^^^^^^^^^^^^^^^^^^^^^^^^^^^^^^^^^^^^^^^^^\n",
      "  File \"d:\\Users\\semic\\Anaconda3\\envs\\qfi\\Lib\\site-packages\\sklearn\\utils\\_param_validation.py\", line 191, in wrapper\n",
      "    params = func_sig.bind(*args, **kwargs)\n",
      "             ^^^^^^^^^^^^^^^^^^^^^^^^^^^^^^\n",
      "  File \"d:\\Users\\semic\\Anaconda3\\envs\\qfi\\Lib\\inspect.py\", line 3267, in bind\n",
      "    return self._bind(args, kwargs)\n",
      "           ^^^^^^^^^^^^^^^^^^^^^^^^\n",
      "  File \"d:\\Users\\semic\\Anaconda3\\envs\\qfi\\Lib\\inspect.py\", line 3191, in _bind\n",
      "    raise TypeError(\n",
      "TypeError: too many positional arguments\n",
      "\n",
      "  warnings.warn(\n"
     ]
    },
    {
     "name": "stdout",
     "output_type": "stream",
     "text": [
      "[CV] END booster=gbtree, learning_rate=0.05, n_estimators=100, num_leaves=20; total time=   0.3s\n"
     ]
    },
    {
     "name": "stderr",
     "output_type": "stream",
     "text": [
      "d:\\Users\\semic\\Anaconda3\\envs\\qfi\\Lib\\site-packages\\sklearn\\model_selection\\_validation.py:982: UserWarning: Scoring failed. The score on this train-test partition for these parameters will be set to nan. Details: \n",
      "Traceback (most recent call last):\n",
      "  File \"d:\\Users\\semic\\Anaconda3\\envs\\qfi\\Lib\\site-packages\\sklearn\\model_selection\\_validation.py\", line 971, in _score\n",
      "    scores = scorer(estimator, X_test, y_test, **score_params)\n",
      "             ^^^^^^^^^^^^^^^^^^^^^^^^^^^^^^^^^^^^^^^^^^^^^^^^^\n",
      "  File \"d:\\Users\\semic\\Anaconda3\\envs\\qfi\\Lib\\site-packages\\sklearn\\utils\\_param_validation.py\", line 191, in wrapper\n",
      "    params = func_sig.bind(*args, **kwargs)\n",
      "             ^^^^^^^^^^^^^^^^^^^^^^^^^^^^^^\n",
      "  File \"d:\\Users\\semic\\Anaconda3\\envs\\qfi\\Lib\\inspect.py\", line 3267, in bind\n",
      "    return self._bind(args, kwargs)\n",
      "           ^^^^^^^^^^^^^^^^^^^^^^^^\n",
      "  File \"d:\\Users\\semic\\Anaconda3\\envs\\qfi\\Lib\\inspect.py\", line 3191, in _bind\n",
      "    raise TypeError(\n",
      "TypeError: too many positional arguments\n",
      "\n",
      "  warnings.warn(\n"
     ]
    },
    {
     "name": "stdout",
     "output_type": "stream",
     "text": [
      "[CV] END booster=gbtree, learning_rate=0.05, n_estimators=100, num_leaves=31; total time=   0.3s\n"
     ]
    },
    {
     "name": "stderr",
     "output_type": "stream",
     "text": [
      "d:\\Users\\semic\\Anaconda3\\envs\\qfi\\Lib\\site-packages\\sklearn\\model_selection\\_validation.py:982: UserWarning: Scoring failed. The score on this train-test partition for these parameters will be set to nan. Details: \n",
      "Traceback (most recent call last):\n",
      "  File \"d:\\Users\\semic\\Anaconda3\\envs\\qfi\\Lib\\site-packages\\sklearn\\model_selection\\_validation.py\", line 971, in _score\n",
      "    scores = scorer(estimator, X_test, y_test, **score_params)\n",
      "             ^^^^^^^^^^^^^^^^^^^^^^^^^^^^^^^^^^^^^^^^^^^^^^^^^\n",
      "  File \"d:\\Users\\semic\\Anaconda3\\envs\\qfi\\Lib\\site-packages\\sklearn\\utils\\_param_validation.py\", line 191, in wrapper\n",
      "    params = func_sig.bind(*args, **kwargs)\n",
      "             ^^^^^^^^^^^^^^^^^^^^^^^^^^^^^^\n",
      "  File \"d:\\Users\\semic\\Anaconda3\\envs\\qfi\\Lib\\inspect.py\", line 3267, in bind\n",
      "    return self._bind(args, kwargs)\n",
      "           ^^^^^^^^^^^^^^^^^^^^^^^^\n",
      "  File \"d:\\Users\\semic\\Anaconda3\\envs\\qfi\\Lib\\inspect.py\", line 3191, in _bind\n",
      "    raise TypeError(\n",
      "TypeError: too many positional arguments\n",
      "\n",
      "  warnings.warn(\n"
     ]
    },
    {
     "name": "stdout",
     "output_type": "stream",
     "text": [
      "[CV] END booster=gbtree, learning_rate=0.05, n_estimators=100, num_leaves=31; total time=   0.3s\n"
     ]
    },
    {
     "name": "stderr",
     "output_type": "stream",
     "text": [
      "d:\\Users\\semic\\Anaconda3\\envs\\qfi\\Lib\\site-packages\\sklearn\\model_selection\\_validation.py:982: UserWarning: Scoring failed. The score on this train-test partition for these parameters will be set to nan. Details: \n",
      "Traceback (most recent call last):\n",
      "  File \"d:\\Users\\semic\\Anaconda3\\envs\\qfi\\Lib\\site-packages\\sklearn\\model_selection\\_validation.py\", line 971, in _score\n",
      "    scores = scorer(estimator, X_test, y_test, **score_params)\n",
      "             ^^^^^^^^^^^^^^^^^^^^^^^^^^^^^^^^^^^^^^^^^^^^^^^^^\n",
      "  File \"d:\\Users\\semic\\Anaconda3\\envs\\qfi\\Lib\\site-packages\\sklearn\\utils\\_param_validation.py\", line 191, in wrapper\n",
      "    params = func_sig.bind(*args, **kwargs)\n",
      "             ^^^^^^^^^^^^^^^^^^^^^^^^^^^^^^\n",
      "  File \"d:\\Users\\semic\\Anaconda3\\envs\\qfi\\Lib\\inspect.py\", line 3267, in bind\n",
      "    return self._bind(args, kwargs)\n",
      "           ^^^^^^^^^^^^^^^^^^^^^^^^\n",
      "  File \"d:\\Users\\semic\\Anaconda3\\envs\\qfi\\Lib\\inspect.py\", line 3191, in _bind\n",
      "    raise TypeError(\n",
      "TypeError: too many positional arguments\n",
      "\n",
      "  warnings.warn(\n"
     ]
    },
    {
     "name": "stdout",
     "output_type": "stream",
     "text": [
      "[CV] END booster=gbtree, learning_rate=0.05, n_estimators=100, num_leaves=31; total time=   0.3s\n"
     ]
    },
    {
     "name": "stderr",
     "output_type": "stream",
     "text": [
      "d:\\Users\\semic\\Anaconda3\\envs\\qfi\\Lib\\site-packages\\sklearn\\model_selection\\_validation.py:982: UserWarning: Scoring failed. The score on this train-test partition for these parameters will be set to nan. Details: \n",
      "Traceback (most recent call last):\n",
      "  File \"d:\\Users\\semic\\Anaconda3\\envs\\qfi\\Lib\\site-packages\\sklearn\\model_selection\\_validation.py\", line 971, in _score\n",
      "    scores = scorer(estimator, X_test, y_test, **score_params)\n",
      "             ^^^^^^^^^^^^^^^^^^^^^^^^^^^^^^^^^^^^^^^^^^^^^^^^^\n",
      "  File \"d:\\Users\\semic\\Anaconda3\\envs\\qfi\\Lib\\site-packages\\sklearn\\utils\\_param_validation.py\", line 191, in wrapper\n",
      "    params = func_sig.bind(*args, **kwargs)\n",
      "             ^^^^^^^^^^^^^^^^^^^^^^^^^^^^^^\n",
      "  File \"d:\\Users\\semic\\Anaconda3\\envs\\qfi\\Lib\\inspect.py\", line 3267, in bind\n",
      "    return self._bind(args, kwargs)\n",
      "           ^^^^^^^^^^^^^^^^^^^^^^^^\n",
      "  File \"d:\\Users\\semic\\Anaconda3\\envs\\qfi\\Lib\\inspect.py\", line 3191, in _bind\n",
      "    raise TypeError(\n",
      "TypeError: too many positional arguments\n",
      "\n",
      "  warnings.warn(\n"
     ]
    },
    {
     "name": "stdout",
     "output_type": "stream",
     "text": [
      "[CV] END booster=gbtree, learning_rate=0.05, n_estimators=100, num_leaves=31; total time=   0.3s\n"
     ]
    },
    {
     "name": "stderr",
     "output_type": "stream",
     "text": [
      "d:\\Users\\semic\\Anaconda3\\envs\\qfi\\Lib\\site-packages\\sklearn\\model_selection\\_validation.py:982: UserWarning: Scoring failed. The score on this train-test partition for these parameters will be set to nan. Details: \n",
      "Traceback (most recent call last):\n",
      "  File \"d:\\Users\\semic\\Anaconda3\\envs\\qfi\\Lib\\site-packages\\sklearn\\model_selection\\_validation.py\", line 971, in _score\n",
      "    scores = scorer(estimator, X_test, y_test, **score_params)\n",
      "             ^^^^^^^^^^^^^^^^^^^^^^^^^^^^^^^^^^^^^^^^^^^^^^^^^\n",
      "  File \"d:\\Users\\semic\\Anaconda3\\envs\\qfi\\Lib\\site-packages\\sklearn\\utils\\_param_validation.py\", line 191, in wrapper\n",
      "    params = func_sig.bind(*args, **kwargs)\n",
      "             ^^^^^^^^^^^^^^^^^^^^^^^^^^^^^^\n",
      "  File \"d:\\Users\\semic\\Anaconda3\\envs\\qfi\\Lib\\inspect.py\", line 3267, in bind\n",
      "    return self._bind(args, kwargs)\n",
      "           ^^^^^^^^^^^^^^^^^^^^^^^^\n",
      "  File \"d:\\Users\\semic\\Anaconda3\\envs\\qfi\\Lib\\inspect.py\", line 3191, in _bind\n",
      "    raise TypeError(\n",
      "TypeError: too many positional arguments\n",
      "\n",
      "  warnings.warn(\n"
     ]
    },
    {
     "name": "stdout",
     "output_type": "stream",
     "text": [
      "[CV] END booster=gbtree, learning_rate=0.05, n_estimators=100, num_leaves=31; total time=   0.3s\n"
     ]
    },
    {
     "name": "stderr",
     "output_type": "stream",
     "text": [
      "d:\\Users\\semic\\Anaconda3\\envs\\qfi\\Lib\\site-packages\\sklearn\\model_selection\\_validation.py:982: UserWarning: Scoring failed. The score on this train-test partition for these parameters will be set to nan. Details: \n",
      "Traceback (most recent call last):\n",
      "  File \"d:\\Users\\semic\\Anaconda3\\envs\\qfi\\Lib\\site-packages\\sklearn\\model_selection\\_validation.py\", line 971, in _score\n",
      "    scores = scorer(estimator, X_test, y_test, **score_params)\n",
      "             ^^^^^^^^^^^^^^^^^^^^^^^^^^^^^^^^^^^^^^^^^^^^^^^^^\n",
      "  File \"d:\\Users\\semic\\Anaconda3\\envs\\qfi\\Lib\\site-packages\\sklearn\\utils\\_param_validation.py\", line 191, in wrapper\n",
      "    params = func_sig.bind(*args, **kwargs)\n",
      "             ^^^^^^^^^^^^^^^^^^^^^^^^^^^^^^\n",
      "  File \"d:\\Users\\semic\\Anaconda3\\envs\\qfi\\Lib\\inspect.py\", line 3267, in bind\n",
      "    return self._bind(args, kwargs)\n",
      "           ^^^^^^^^^^^^^^^^^^^^^^^^\n",
      "  File \"d:\\Users\\semic\\Anaconda3\\envs\\qfi\\Lib\\inspect.py\", line 3191, in _bind\n",
      "    raise TypeError(\n",
      "TypeError: too many positional arguments\n",
      "\n",
      "  warnings.warn(\n"
     ]
    },
    {
     "name": "stdout",
     "output_type": "stream",
     "text": [
      "[CV] END booster=gbtree, learning_rate=0.05, n_estimators=100, num_leaves=50; total time=   0.3s\n"
     ]
    },
    {
     "name": "stderr",
     "output_type": "stream",
     "text": [
      "d:\\Users\\semic\\Anaconda3\\envs\\qfi\\Lib\\site-packages\\sklearn\\model_selection\\_validation.py:982: UserWarning: Scoring failed. The score on this train-test partition for these parameters will be set to nan. Details: \n",
      "Traceback (most recent call last):\n",
      "  File \"d:\\Users\\semic\\Anaconda3\\envs\\qfi\\Lib\\site-packages\\sklearn\\model_selection\\_validation.py\", line 971, in _score\n",
      "    scores = scorer(estimator, X_test, y_test, **score_params)\n",
      "             ^^^^^^^^^^^^^^^^^^^^^^^^^^^^^^^^^^^^^^^^^^^^^^^^^\n",
      "  File \"d:\\Users\\semic\\Anaconda3\\envs\\qfi\\Lib\\site-packages\\sklearn\\utils\\_param_validation.py\", line 191, in wrapper\n",
      "    params = func_sig.bind(*args, **kwargs)\n",
      "             ^^^^^^^^^^^^^^^^^^^^^^^^^^^^^^\n",
      "  File \"d:\\Users\\semic\\Anaconda3\\envs\\qfi\\Lib\\inspect.py\", line 3267, in bind\n",
      "    return self._bind(args, kwargs)\n",
      "           ^^^^^^^^^^^^^^^^^^^^^^^^\n",
      "  File \"d:\\Users\\semic\\Anaconda3\\envs\\qfi\\Lib\\inspect.py\", line 3191, in _bind\n",
      "    raise TypeError(\n",
      "TypeError: too many positional arguments\n",
      "\n",
      "  warnings.warn(\n"
     ]
    },
    {
     "name": "stdout",
     "output_type": "stream",
     "text": [
      "[CV] END booster=gbtree, learning_rate=0.05, n_estimators=100, num_leaves=50; total time=   0.3s\n"
     ]
    },
    {
     "name": "stderr",
     "output_type": "stream",
     "text": [
      "d:\\Users\\semic\\Anaconda3\\envs\\qfi\\Lib\\site-packages\\sklearn\\model_selection\\_validation.py:982: UserWarning: Scoring failed. The score on this train-test partition for these parameters will be set to nan. Details: \n",
      "Traceback (most recent call last):\n",
      "  File \"d:\\Users\\semic\\Anaconda3\\envs\\qfi\\Lib\\site-packages\\sklearn\\model_selection\\_validation.py\", line 971, in _score\n",
      "    scores = scorer(estimator, X_test, y_test, **score_params)\n",
      "             ^^^^^^^^^^^^^^^^^^^^^^^^^^^^^^^^^^^^^^^^^^^^^^^^^\n",
      "  File \"d:\\Users\\semic\\Anaconda3\\envs\\qfi\\Lib\\site-packages\\sklearn\\utils\\_param_validation.py\", line 191, in wrapper\n",
      "    params = func_sig.bind(*args, **kwargs)\n",
      "             ^^^^^^^^^^^^^^^^^^^^^^^^^^^^^^\n",
      "  File \"d:\\Users\\semic\\Anaconda3\\envs\\qfi\\Lib\\inspect.py\", line 3267, in bind\n",
      "    return self._bind(args, kwargs)\n",
      "           ^^^^^^^^^^^^^^^^^^^^^^^^\n",
      "  File \"d:\\Users\\semic\\Anaconda3\\envs\\qfi\\Lib\\inspect.py\", line 3191, in _bind\n",
      "    raise TypeError(\n",
      "TypeError: too many positional arguments\n",
      "\n",
      "  warnings.warn(\n"
     ]
    },
    {
     "name": "stdout",
     "output_type": "stream",
     "text": [
      "[CV] END booster=gbtree, learning_rate=0.05, n_estimators=100, num_leaves=50; total time=   0.3s\n"
     ]
    },
    {
     "name": "stderr",
     "output_type": "stream",
     "text": [
      "d:\\Users\\semic\\Anaconda3\\envs\\qfi\\Lib\\site-packages\\sklearn\\model_selection\\_validation.py:982: UserWarning: Scoring failed. The score on this train-test partition for these parameters will be set to nan. Details: \n",
      "Traceback (most recent call last):\n",
      "  File \"d:\\Users\\semic\\Anaconda3\\envs\\qfi\\Lib\\site-packages\\sklearn\\model_selection\\_validation.py\", line 971, in _score\n",
      "    scores = scorer(estimator, X_test, y_test, **score_params)\n",
      "             ^^^^^^^^^^^^^^^^^^^^^^^^^^^^^^^^^^^^^^^^^^^^^^^^^\n",
      "  File \"d:\\Users\\semic\\Anaconda3\\envs\\qfi\\Lib\\site-packages\\sklearn\\utils\\_param_validation.py\", line 191, in wrapper\n",
      "    params = func_sig.bind(*args, **kwargs)\n",
      "             ^^^^^^^^^^^^^^^^^^^^^^^^^^^^^^\n",
      "  File \"d:\\Users\\semic\\Anaconda3\\envs\\qfi\\Lib\\inspect.py\", line 3267, in bind\n",
      "    return self._bind(args, kwargs)\n",
      "           ^^^^^^^^^^^^^^^^^^^^^^^^\n",
      "  File \"d:\\Users\\semic\\Anaconda3\\envs\\qfi\\Lib\\inspect.py\", line 3191, in _bind\n",
      "    raise TypeError(\n",
      "TypeError: too many positional arguments\n",
      "\n",
      "  warnings.warn(\n"
     ]
    },
    {
     "name": "stdout",
     "output_type": "stream",
     "text": [
      "[CV] END booster=gbtree, learning_rate=0.05, n_estimators=100, num_leaves=50; total time=   0.3s\n"
     ]
    },
    {
     "name": "stderr",
     "output_type": "stream",
     "text": [
      "d:\\Users\\semic\\Anaconda3\\envs\\qfi\\Lib\\site-packages\\sklearn\\model_selection\\_validation.py:982: UserWarning: Scoring failed. The score on this train-test partition for these parameters will be set to nan. Details: \n",
      "Traceback (most recent call last):\n",
      "  File \"d:\\Users\\semic\\Anaconda3\\envs\\qfi\\Lib\\site-packages\\sklearn\\model_selection\\_validation.py\", line 971, in _score\n",
      "    scores = scorer(estimator, X_test, y_test, **score_params)\n",
      "             ^^^^^^^^^^^^^^^^^^^^^^^^^^^^^^^^^^^^^^^^^^^^^^^^^\n",
      "  File \"d:\\Users\\semic\\Anaconda3\\envs\\qfi\\Lib\\site-packages\\sklearn\\utils\\_param_validation.py\", line 191, in wrapper\n",
      "    params = func_sig.bind(*args, **kwargs)\n",
      "             ^^^^^^^^^^^^^^^^^^^^^^^^^^^^^^\n",
      "  File \"d:\\Users\\semic\\Anaconda3\\envs\\qfi\\Lib\\inspect.py\", line 3267, in bind\n",
      "    return self._bind(args, kwargs)\n",
      "           ^^^^^^^^^^^^^^^^^^^^^^^^\n",
      "  File \"d:\\Users\\semic\\Anaconda3\\envs\\qfi\\Lib\\inspect.py\", line 3191, in _bind\n",
      "    raise TypeError(\n",
      "TypeError: too many positional arguments\n",
      "\n",
      "  warnings.warn(\n"
     ]
    },
    {
     "name": "stdout",
     "output_type": "stream",
     "text": [
      "[CV] END booster=gbtree, learning_rate=0.05, n_estimators=100, num_leaves=50; total time=   0.3s\n"
     ]
    },
    {
     "name": "stderr",
     "output_type": "stream",
     "text": [
      "d:\\Users\\semic\\Anaconda3\\envs\\qfi\\Lib\\site-packages\\sklearn\\model_selection\\_validation.py:982: UserWarning: Scoring failed. The score on this train-test partition for these parameters will be set to nan. Details: \n",
      "Traceback (most recent call last):\n",
      "  File \"d:\\Users\\semic\\Anaconda3\\envs\\qfi\\Lib\\site-packages\\sklearn\\model_selection\\_validation.py\", line 971, in _score\n",
      "    scores = scorer(estimator, X_test, y_test, **score_params)\n",
      "             ^^^^^^^^^^^^^^^^^^^^^^^^^^^^^^^^^^^^^^^^^^^^^^^^^\n",
      "  File \"d:\\Users\\semic\\Anaconda3\\envs\\qfi\\Lib\\site-packages\\sklearn\\utils\\_param_validation.py\", line 191, in wrapper\n",
      "    params = func_sig.bind(*args, **kwargs)\n",
      "             ^^^^^^^^^^^^^^^^^^^^^^^^^^^^^^\n",
      "  File \"d:\\Users\\semic\\Anaconda3\\envs\\qfi\\Lib\\inspect.py\", line 3267, in bind\n",
      "    return self._bind(args, kwargs)\n",
      "           ^^^^^^^^^^^^^^^^^^^^^^^^\n",
      "  File \"d:\\Users\\semic\\Anaconda3\\envs\\qfi\\Lib\\inspect.py\", line 3191, in _bind\n",
      "    raise TypeError(\n",
      "TypeError: too many positional arguments\n",
      "\n",
      "  warnings.warn(\n"
     ]
    },
    {
     "name": "stdout",
     "output_type": "stream",
     "text": [
      "[CV] END booster=gbtree, learning_rate=0.05, n_estimators=200, num_leaves=20; total time=   0.6s\n"
     ]
    },
    {
     "name": "stderr",
     "output_type": "stream",
     "text": [
      "d:\\Users\\semic\\Anaconda3\\envs\\qfi\\Lib\\site-packages\\sklearn\\model_selection\\_validation.py:982: UserWarning: Scoring failed. The score on this train-test partition for these parameters will be set to nan. Details: \n",
      "Traceback (most recent call last):\n",
      "  File \"d:\\Users\\semic\\Anaconda3\\envs\\qfi\\Lib\\site-packages\\sklearn\\model_selection\\_validation.py\", line 971, in _score\n",
      "    scores = scorer(estimator, X_test, y_test, **score_params)\n",
      "             ^^^^^^^^^^^^^^^^^^^^^^^^^^^^^^^^^^^^^^^^^^^^^^^^^\n",
      "  File \"d:\\Users\\semic\\Anaconda3\\envs\\qfi\\Lib\\site-packages\\sklearn\\utils\\_param_validation.py\", line 191, in wrapper\n",
      "    params = func_sig.bind(*args, **kwargs)\n",
      "             ^^^^^^^^^^^^^^^^^^^^^^^^^^^^^^\n",
      "  File \"d:\\Users\\semic\\Anaconda3\\envs\\qfi\\Lib\\inspect.py\", line 3267, in bind\n",
      "    return self._bind(args, kwargs)\n",
      "           ^^^^^^^^^^^^^^^^^^^^^^^^\n",
      "  File \"d:\\Users\\semic\\Anaconda3\\envs\\qfi\\Lib\\inspect.py\", line 3191, in _bind\n",
      "    raise TypeError(\n",
      "TypeError: too many positional arguments\n",
      "\n",
      "  warnings.warn(\n"
     ]
    },
    {
     "name": "stdout",
     "output_type": "stream",
     "text": [
      "[CV] END booster=gbtree, learning_rate=0.05, n_estimators=200, num_leaves=20; total time=   0.7s\n"
     ]
    },
    {
     "name": "stderr",
     "output_type": "stream",
     "text": [
      "d:\\Users\\semic\\Anaconda3\\envs\\qfi\\Lib\\site-packages\\sklearn\\model_selection\\_validation.py:982: UserWarning: Scoring failed. The score on this train-test partition for these parameters will be set to nan. Details: \n",
      "Traceback (most recent call last):\n",
      "  File \"d:\\Users\\semic\\Anaconda3\\envs\\qfi\\Lib\\site-packages\\sklearn\\model_selection\\_validation.py\", line 971, in _score\n",
      "    scores = scorer(estimator, X_test, y_test, **score_params)\n",
      "             ^^^^^^^^^^^^^^^^^^^^^^^^^^^^^^^^^^^^^^^^^^^^^^^^^\n",
      "  File \"d:\\Users\\semic\\Anaconda3\\envs\\qfi\\Lib\\site-packages\\sklearn\\utils\\_param_validation.py\", line 191, in wrapper\n",
      "    params = func_sig.bind(*args, **kwargs)\n",
      "             ^^^^^^^^^^^^^^^^^^^^^^^^^^^^^^\n",
      "  File \"d:\\Users\\semic\\Anaconda3\\envs\\qfi\\Lib\\inspect.py\", line 3267, in bind\n",
      "    return self._bind(args, kwargs)\n",
      "           ^^^^^^^^^^^^^^^^^^^^^^^^\n",
      "  File \"d:\\Users\\semic\\Anaconda3\\envs\\qfi\\Lib\\inspect.py\", line 3191, in _bind\n",
      "    raise TypeError(\n",
      "TypeError: too many positional arguments\n",
      "\n",
      "  warnings.warn(\n"
     ]
    },
    {
     "name": "stdout",
     "output_type": "stream",
     "text": [
      "[CV] END booster=gbtree, learning_rate=0.05, n_estimators=200, num_leaves=20; total time=   0.7s\n"
     ]
    },
    {
     "name": "stderr",
     "output_type": "stream",
     "text": [
      "d:\\Users\\semic\\Anaconda3\\envs\\qfi\\Lib\\site-packages\\sklearn\\model_selection\\_validation.py:982: UserWarning: Scoring failed. The score on this train-test partition for these parameters will be set to nan. Details: \n",
      "Traceback (most recent call last):\n",
      "  File \"d:\\Users\\semic\\Anaconda3\\envs\\qfi\\Lib\\site-packages\\sklearn\\model_selection\\_validation.py\", line 971, in _score\n",
      "    scores = scorer(estimator, X_test, y_test, **score_params)\n",
      "             ^^^^^^^^^^^^^^^^^^^^^^^^^^^^^^^^^^^^^^^^^^^^^^^^^\n",
      "  File \"d:\\Users\\semic\\Anaconda3\\envs\\qfi\\Lib\\site-packages\\sklearn\\utils\\_param_validation.py\", line 191, in wrapper\n",
      "    params = func_sig.bind(*args, **kwargs)\n",
      "             ^^^^^^^^^^^^^^^^^^^^^^^^^^^^^^\n",
      "  File \"d:\\Users\\semic\\Anaconda3\\envs\\qfi\\Lib\\inspect.py\", line 3267, in bind\n",
      "    return self._bind(args, kwargs)\n",
      "           ^^^^^^^^^^^^^^^^^^^^^^^^\n",
      "  File \"d:\\Users\\semic\\Anaconda3\\envs\\qfi\\Lib\\inspect.py\", line 3191, in _bind\n",
      "    raise TypeError(\n",
      "TypeError: too many positional arguments\n",
      "\n",
      "  warnings.warn(\n"
     ]
    },
    {
     "name": "stdout",
     "output_type": "stream",
     "text": [
      "[CV] END booster=gbtree, learning_rate=0.05, n_estimators=200, num_leaves=20; total time=   0.6s\n"
     ]
    },
    {
     "name": "stderr",
     "output_type": "stream",
     "text": [
      "d:\\Users\\semic\\Anaconda3\\envs\\qfi\\Lib\\site-packages\\sklearn\\model_selection\\_validation.py:982: UserWarning: Scoring failed. The score on this train-test partition for these parameters will be set to nan. Details: \n",
      "Traceback (most recent call last):\n",
      "  File \"d:\\Users\\semic\\Anaconda3\\envs\\qfi\\Lib\\site-packages\\sklearn\\model_selection\\_validation.py\", line 971, in _score\n",
      "    scores = scorer(estimator, X_test, y_test, **score_params)\n",
      "             ^^^^^^^^^^^^^^^^^^^^^^^^^^^^^^^^^^^^^^^^^^^^^^^^^\n",
      "  File \"d:\\Users\\semic\\Anaconda3\\envs\\qfi\\Lib\\site-packages\\sklearn\\utils\\_param_validation.py\", line 191, in wrapper\n",
      "    params = func_sig.bind(*args, **kwargs)\n",
      "             ^^^^^^^^^^^^^^^^^^^^^^^^^^^^^^\n",
      "  File \"d:\\Users\\semic\\Anaconda3\\envs\\qfi\\Lib\\inspect.py\", line 3267, in bind\n",
      "    return self._bind(args, kwargs)\n",
      "           ^^^^^^^^^^^^^^^^^^^^^^^^\n",
      "  File \"d:\\Users\\semic\\Anaconda3\\envs\\qfi\\Lib\\inspect.py\", line 3191, in _bind\n",
      "    raise TypeError(\n",
      "TypeError: too many positional arguments\n",
      "\n",
      "  warnings.warn(\n"
     ]
    },
    {
     "name": "stdout",
     "output_type": "stream",
     "text": [
      "[CV] END booster=gbtree, learning_rate=0.05, n_estimators=200, num_leaves=20; total time=   0.8s\n"
     ]
    },
    {
     "name": "stderr",
     "output_type": "stream",
     "text": [
      "d:\\Users\\semic\\Anaconda3\\envs\\qfi\\Lib\\site-packages\\sklearn\\model_selection\\_validation.py:982: UserWarning: Scoring failed. The score on this train-test partition for these parameters will be set to nan. Details: \n",
      "Traceback (most recent call last):\n",
      "  File \"d:\\Users\\semic\\Anaconda3\\envs\\qfi\\Lib\\site-packages\\sklearn\\model_selection\\_validation.py\", line 971, in _score\n",
      "    scores = scorer(estimator, X_test, y_test, **score_params)\n",
      "             ^^^^^^^^^^^^^^^^^^^^^^^^^^^^^^^^^^^^^^^^^^^^^^^^^\n",
      "  File \"d:\\Users\\semic\\Anaconda3\\envs\\qfi\\Lib\\site-packages\\sklearn\\utils\\_param_validation.py\", line 191, in wrapper\n",
      "    params = func_sig.bind(*args, **kwargs)\n",
      "             ^^^^^^^^^^^^^^^^^^^^^^^^^^^^^^\n",
      "  File \"d:\\Users\\semic\\Anaconda3\\envs\\qfi\\Lib\\inspect.py\", line 3267, in bind\n",
      "    return self._bind(args, kwargs)\n",
      "           ^^^^^^^^^^^^^^^^^^^^^^^^\n",
      "  File \"d:\\Users\\semic\\Anaconda3\\envs\\qfi\\Lib\\inspect.py\", line 3191, in _bind\n",
      "    raise TypeError(\n",
      "TypeError: too many positional arguments\n",
      "\n",
      "  warnings.warn(\n"
     ]
    },
    {
     "name": "stdout",
     "output_type": "stream",
     "text": [
      "[CV] END booster=gbtree, learning_rate=0.05, n_estimators=200, num_leaves=31; total time=   0.6s\n"
     ]
    },
    {
     "name": "stderr",
     "output_type": "stream",
     "text": [
      "d:\\Users\\semic\\Anaconda3\\envs\\qfi\\Lib\\site-packages\\sklearn\\model_selection\\_validation.py:982: UserWarning: Scoring failed. The score on this train-test partition for these parameters will be set to nan. Details: \n",
      "Traceback (most recent call last):\n",
      "  File \"d:\\Users\\semic\\Anaconda3\\envs\\qfi\\Lib\\site-packages\\sklearn\\model_selection\\_validation.py\", line 971, in _score\n",
      "    scores = scorer(estimator, X_test, y_test, **score_params)\n",
      "             ^^^^^^^^^^^^^^^^^^^^^^^^^^^^^^^^^^^^^^^^^^^^^^^^^\n",
      "  File \"d:\\Users\\semic\\Anaconda3\\envs\\qfi\\Lib\\site-packages\\sklearn\\utils\\_param_validation.py\", line 191, in wrapper\n",
      "    params = func_sig.bind(*args, **kwargs)\n",
      "             ^^^^^^^^^^^^^^^^^^^^^^^^^^^^^^\n",
      "  File \"d:\\Users\\semic\\Anaconda3\\envs\\qfi\\Lib\\inspect.py\", line 3267, in bind\n",
      "    return self._bind(args, kwargs)\n",
      "           ^^^^^^^^^^^^^^^^^^^^^^^^\n",
      "  File \"d:\\Users\\semic\\Anaconda3\\envs\\qfi\\Lib\\inspect.py\", line 3191, in _bind\n",
      "    raise TypeError(\n",
      "TypeError: too many positional arguments\n",
      "\n",
      "  warnings.warn(\n"
     ]
    },
    {
     "name": "stdout",
     "output_type": "stream",
     "text": [
      "[CV] END booster=gbtree, learning_rate=0.05, n_estimators=200, num_leaves=31; total time=   0.6s\n"
     ]
    },
    {
     "name": "stderr",
     "output_type": "stream",
     "text": [
      "d:\\Users\\semic\\Anaconda3\\envs\\qfi\\Lib\\site-packages\\sklearn\\model_selection\\_validation.py:982: UserWarning: Scoring failed. The score on this train-test partition for these parameters will be set to nan. Details: \n",
      "Traceback (most recent call last):\n",
      "  File \"d:\\Users\\semic\\Anaconda3\\envs\\qfi\\Lib\\site-packages\\sklearn\\model_selection\\_validation.py\", line 971, in _score\n",
      "    scores = scorer(estimator, X_test, y_test, **score_params)\n",
      "             ^^^^^^^^^^^^^^^^^^^^^^^^^^^^^^^^^^^^^^^^^^^^^^^^^\n",
      "  File \"d:\\Users\\semic\\Anaconda3\\envs\\qfi\\Lib\\site-packages\\sklearn\\utils\\_param_validation.py\", line 191, in wrapper\n",
      "    params = func_sig.bind(*args, **kwargs)\n",
      "             ^^^^^^^^^^^^^^^^^^^^^^^^^^^^^^\n",
      "  File \"d:\\Users\\semic\\Anaconda3\\envs\\qfi\\Lib\\inspect.py\", line 3267, in bind\n",
      "    return self._bind(args, kwargs)\n",
      "           ^^^^^^^^^^^^^^^^^^^^^^^^\n",
      "  File \"d:\\Users\\semic\\Anaconda3\\envs\\qfi\\Lib\\inspect.py\", line 3191, in _bind\n",
      "    raise TypeError(\n",
      "TypeError: too many positional arguments\n",
      "\n",
      "  warnings.warn(\n"
     ]
    },
    {
     "name": "stdout",
     "output_type": "stream",
     "text": [
      "[CV] END booster=gbtree, learning_rate=0.05, n_estimators=200, num_leaves=31; total time=   0.6s\n"
     ]
    },
    {
     "name": "stderr",
     "output_type": "stream",
     "text": [
      "d:\\Users\\semic\\Anaconda3\\envs\\qfi\\Lib\\site-packages\\sklearn\\model_selection\\_validation.py:982: UserWarning: Scoring failed. The score on this train-test partition for these parameters will be set to nan. Details: \n",
      "Traceback (most recent call last):\n",
      "  File \"d:\\Users\\semic\\Anaconda3\\envs\\qfi\\Lib\\site-packages\\sklearn\\model_selection\\_validation.py\", line 971, in _score\n",
      "    scores = scorer(estimator, X_test, y_test, **score_params)\n",
      "             ^^^^^^^^^^^^^^^^^^^^^^^^^^^^^^^^^^^^^^^^^^^^^^^^^\n",
      "  File \"d:\\Users\\semic\\Anaconda3\\envs\\qfi\\Lib\\site-packages\\sklearn\\utils\\_param_validation.py\", line 191, in wrapper\n",
      "    params = func_sig.bind(*args, **kwargs)\n",
      "             ^^^^^^^^^^^^^^^^^^^^^^^^^^^^^^\n",
      "  File \"d:\\Users\\semic\\Anaconda3\\envs\\qfi\\Lib\\inspect.py\", line 3267, in bind\n",
      "    return self._bind(args, kwargs)\n",
      "           ^^^^^^^^^^^^^^^^^^^^^^^^\n",
      "  File \"d:\\Users\\semic\\Anaconda3\\envs\\qfi\\Lib\\inspect.py\", line 3191, in _bind\n",
      "    raise TypeError(\n",
      "TypeError: too many positional arguments\n",
      "\n",
      "  warnings.warn(\n"
     ]
    },
    {
     "name": "stdout",
     "output_type": "stream",
     "text": [
      "[CV] END booster=gbtree, learning_rate=0.05, n_estimators=200, num_leaves=31; total time=   0.5s\n"
     ]
    },
    {
     "name": "stderr",
     "output_type": "stream",
     "text": [
      "d:\\Users\\semic\\Anaconda3\\envs\\qfi\\Lib\\site-packages\\sklearn\\model_selection\\_validation.py:982: UserWarning: Scoring failed. The score on this train-test partition for these parameters will be set to nan. Details: \n",
      "Traceback (most recent call last):\n",
      "  File \"d:\\Users\\semic\\Anaconda3\\envs\\qfi\\Lib\\site-packages\\sklearn\\model_selection\\_validation.py\", line 971, in _score\n",
      "    scores = scorer(estimator, X_test, y_test, **score_params)\n",
      "             ^^^^^^^^^^^^^^^^^^^^^^^^^^^^^^^^^^^^^^^^^^^^^^^^^\n",
      "  File \"d:\\Users\\semic\\Anaconda3\\envs\\qfi\\Lib\\site-packages\\sklearn\\utils\\_param_validation.py\", line 191, in wrapper\n",
      "    params = func_sig.bind(*args, **kwargs)\n",
      "             ^^^^^^^^^^^^^^^^^^^^^^^^^^^^^^\n",
      "  File \"d:\\Users\\semic\\Anaconda3\\envs\\qfi\\Lib\\inspect.py\", line 3267, in bind\n",
      "    return self._bind(args, kwargs)\n",
      "           ^^^^^^^^^^^^^^^^^^^^^^^^\n",
      "  File \"d:\\Users\\semic\\Anaconda3\\envs\\qfi\\Lib\\inspect.py\", line 3191, in _bind\n",
      "    raise TypeError(\n",
      "TypeError: too many positional arguments\n",
      "\n",
      "  warnings.warn(\n"
     ]
    },
    {
     "name": "stdout",
     "output_type": "stream",
     "text": [
      "[CV] END booster=gbtree, learning_rate=0.05, n_estimators=200, num_leaves=31; total time=   0.6s\n"
     ]
    },
    {
     "name": "stderr",
     "output_type": "stream",
     "text": [
      "d:\\Users\\semic\\Anaconda3\\envs\\qfi\\Lib\\site-packages\\sklearn\\model_selection\\_validation.py:982: UserWarning: Scoring failed. The score on this train-test partition for these parameters will be set to nan. Details: \n",
      "Traceback (most recent call last):\n",
      "  File \"d:\\Users\\semic\\Anaconda3\\envs\\qfi\\Lib\\site-packages\\sklearn\\model_selection\\_validation.py\", line 971, in _score\n",
      "    scores = scorer(estimator, X_test, y_test, **score_params)\n",
      "             ^^^^^^^^^^^^^^^^^^^^^^^^^^^^^^^^^^^^^^^^^^^^^^^^^\n",
      "  File \"d:\\Users\\semic\\Anaconda3\\envs\\qfi\\Lib\\site-packages\\sklearn\\utils\\_param_validation.py\", line 191, in wrapper\n",
      "    params = func_sig.bind(*args, **kwargs)\n",
      "             ^^^^^^^^^^^^^^^^^^^^^^^^^^^^^^\n",
      "  File \"d:\\Users\\semic\\Anaconda3\\envs\\qfi\\Lib\\inspect.py\", line 3267, in bind\n",
      "    return self._bind(args, kwargs)\n",
      "           ^^^^^^^^^^^^^^^^^^^^^^^^\n",
      "  File \"d:\\Users\\semic\\Anaconda3\\envs\\qfi\\Lib\\inspect.py\", line 3191, in _bind\n",
      "    raise TypeError(\n",
      "TypeError: too many positional arguments\n",
      "\n",
      "  warnings.warn(\n"
     ]
    },
    {
     "name": "stdout",
     "output_type": "stream",
     "text": [
      "[CV] END booster=gbtree, learning_rate=0.05, n_estimators=200, num_leaves=50; total time=   0.5s\n"
     ]
    },
    {
     "name": "stderr",
     "output_type": "stream",
     "text": [
      "d:\\Users\\semic\\Anaconda3\\envs\\qfi\\Lib\\site-packages\\sklearn\\model_selection\\_validation.py:982: UserWarning: Scoring failed. The score on this train-test partition for these parameters will be set to nan. Details: \n",
      "Traceback (most recent call last):\n",
      "  File \"d:\\Users\\semic\\Anaconda3\\envs\\qfi\\Lib\\site-packages\\sklearn\\model_selection\\_validation.py\", line 971, in _score\n",
      "    scores = scorer(estimator, X_test, y_test, **score_params)\n",
      "             ^^^^^^^^^^^^^^^^^^^^^^^^^^^^^^^^^^^^^^^^^^^^^^^^^\n",
      "  File \"d:\\Users\\semic\\Anaconda3\\envs\\qfi\\Lib\\site-packages\\sklearn\\utils\\_param_validation.py\", line 191, in wrapper\n",
      "    params = func_sig.bind(*args, **kwargs)\n",
      "             ^^^^^^^^^^^^^^^^^^^^^^^^^^^^^^\n",
      "  File \"d:\\Users\\semic\\Anaconda3\\envs\\qfi\\Lib\\inspect.py\", line 3267, in bind\n",
      "    return self._bind(args, kwargs)\n",
      "           ^^^^^^^^^^^^^^^^^^^^^^^^\n",
      "  File \"d:\\Users\\semic\\Anaconda3\\envs\\qfi\\Lib\\inspect.py\", line 3191, in _bind\n",
      "    raise TypeError(\n",
      "TypeError: too many positional arguments\n",
      "\n",
      "  warnings.warn(\n"
     ]
    },
    {
     "name": "stdout",
     "output_type": "stream",
     "text": [
      "[CV] END booster=gbtree, learning_rate=0.05, n_estimators=200, num_leaves=50; total time=   0.5s\n"
     ]
    },
    {
     "name": "stderr",
     "output_type": "stream",
     "text": [
      "d:\\Users\\semic\\Anaconda3\\envs\\qfi\\Lib\\site-packages\\sklearn\\model_selection\\_validation.py:982: UserWarning: Scoring failed. The score on this train-test partition for these parameters will be set to nan. Details: \n",
      "Traceback (most recent call last):\n",
      "  File \"d:\\Users\\semic\\Anaconda3\\envs\\qfi\\Lib\\site-packages\\sklearn\\model_selection\\_validation.py\", line 971, in _score\n",
      "    scores = scorer(estimator, X_test, y_test, **score_params)\n",
      "             ^^^^^^^^^^^^^^^^^^^^^^^^^^^^^^^^^^^^^^^^^^^^^^^^^\n",
      "  File \"d:\\Users\\semic\\Anaconda3\\envs\\qfi\\Lib\\site-packages\\sklearn\\utils\\_param_validation.py\", line 191, in wrapper\n",
      "    params = func_sig.bind(*args, **kwargs)\n",
      "             ^^^^^^^^^^^^^^^^^^^^^^^^^^^^^^\n",
      "  File \"d:\\Users\\semic\\Anaconda3\\envs\\qfi\\Lib\\inspect.py\", line 3267, in bind\n",
      "    return self._bind(args, kwargs)\n",
      "           ^^^^^^^^^^^^^^^^^^^^^^^^\n",
      "  File \"d:\\Users\\semic\\Anaconda3\\envs\\qfi\\Lib\\inspect.py\", line 3191, in _bind\n",
      "    raise TypeError(\n",
      "TypeError: too many positional arguments\n",
      "\n",
      "  warnings.warn(\n"
     ]
    },
    {
     "name": "stdout",
     "output_type": "stream",
     "text": [
      "[CV] END booster=gbtree, learning_rate=0.05, n_estimators=200, num_leaves=50; total time=   0.6s\n"
     ]
    },
    {
     "name": "stderr",
     "output_type": "stream",
     "text": [
      "d:\\Users\\semic\\Anaconda3\\envs\\qfi\\Lib\\site-packages\\sklearn\\model_selection\\_validation.py:982: UserWarning: Scoring failed. The score on this train-test partition for these parameters will be set to nan. Details: \n",
      "Traceback (most recent call last):\n",
      "  File \"d:\\Users\\semic\\Anaconda3\\envs\\qfi\\Lib\\site-packages\\sklearn\\model_selection\\_validation.py\", line 971, in _score\n",
      "    scores = scorer(estimator, X_test, y_test, **score_params)\n",
      "             ^^^^^^^^^^^^^^^^^^^^^^^^^^^^^^^^^^^^^^^^^^^^^^^^^\n",
      "  File \"d:\\Users\\semic\\Anaconda3\\envs\\qfi\\Lib\\site-packages\\sklearn\\utils\\_param_validation.py\", line 191, in wrapper\n",
      "    params = func_sig.bind(*args, **kwargs)\n",
      "             ^^^^^^^^^^^^^^^^^^^^^^^^^^^^^^\n",
      "  File \"d:\\Users\\semic\\Anaconda3\\envs\\qfi\\Lib\\inspect.py\", line 3267, in bind\n",
      "    return self._bind(args, kwargs)\n",
      "           ^^^^^^^^^^^^^^^^^^^^^^^^\n",
      "  File \"d:\\Users\\semic\\Anaconda3\\envs\\qfi\\Lib\\inspect.py\", line 3191, in _bind\n",
      "    raise TypeError(\n",
      "TypeError: too many positional arguments\n",
      "\n",
      "  warnings.warn(\n"
     ]
    },
    {
     "name": "stdout",
     "output_type": "stream",
     "text": [
      "[CV] END booster=gbtree, learning_rate=0.05, n_estimators=200, num_leaves=50; total time=   0.5s\n"
     ]
    },
    {
     "name": "stderr",
     "output_type": "stream",
     "text": [
      "d:\\Users\\semic\\Anaconda3\\envs\\qfi\\Lib\\site-packages\\sklearn\\model_selection\\_validation.py:982: UserWarning: Scoring failed. The score on this train-test partition for these parameters will be set to nan. Details: \n",
      "Traceback (most recent call last):\n",
      "  File \"d:\\Users\\semic\\Anaconda3\\envs\\qfi\\Lib\\site-packages\\sklearn\\model_selection\\_validation.py\", line 971, in _score\n",
      "    scores = scorer(estimator, X_test, y_test, **score_params)\n",
      "             ^^^^^^^^^^^^^^^^^^^^^^^^^^^^^^^^^^^^^^^^^^^^^^^^^\n",
      "  File \"d:\\Users\\semic\\Anaconda3\\envs\\qfi\\Lib\\site-packages\\sklearn\\utils\\_param_validation.py\", line 191, in wrapper\n",
      "    params = func_sig.bind(*args, **kwargs)\n",
      "             ^^^^^^^^^^^^^^^^^^^^^^^^^^^^^^\n",
      "  File \"d:\\Users\\semic\\Anaconda3\\envs\\qfi\\Lib\\inspect.py\", line 3267, in bind\n",
      "    return self._bind(args, kwargs)\n",
      "           ^^^^^^^^^^^^^^^^^^^^^^^^\n",
      "  File \"d:\\Users\\semic\\Anaconda3\\envs\\qfi\\Lib\\inspect.py\", line 3191, in _bind\n",
      "    raise TypeError(\n",
      "TypeError: too many positional arguments\n",
      "\n",
      "  warnings.warn(\n"
     ]
    },
    {
     "name": "stdout",
     "output_type": "stream",
     "text": [
      "[CV] END booster=gbtree, learning_rate=0.05, n_estimators=200, num_leaves=50; total time=   0.6s\n"
     ]
    },
    {
     "name": "stderr",
     "output_type": "stream",
     "text": [
      "d:\\Users\\semic\\Anaconda3\\envs\\qfi\\Lib\\site-packages\\sklearn\\model_selection\\_validation.py:982: UserWarning: Scoring failed. The score on this train-test partition for these parameters will be set to nan. Details: \n",
      "Traceback (most recent call last):\n",
      "  File \"d:\\Users\\semic\\Anaconda3\\envs\\qfi\\Lib\\site-packages\\sklearn\\model_selection\\_validation.py\", line 971, in _score\n",
      "    scores = scorer(estimator, X_test, y_test, **score_params)\n",
      "             ^^^^^^^^^^^^^^^^^^^^^^^^^^^^^^^^^^^^^^^^^^^^^^^^^\n",
      "  File \"d:\\Users\\semic\\Anaconda3\\envs\\qfi\\Lib\\site-packages\\sklearn\\utils\\_param_validation.py\", line 191, in wrapper\n",
      "    params = func_sig.bind(*args, **kwargs)\n",
      "             ^^^^^^^^^^^^^^^^^^^^^^^^^^^^^^\n",
      "  File \"d:\\Users\\semic\\Anaconda3\\envs\\qfi\\Lib\\inspect.py\", line 3267, in bind\n",
      "    return self._bind(args, kwargs)\n",
      "           ^^^^^^^^^^^^^^^^^^^^^^^^\n",
      "  File \"d:\\Users\\semic\\Anaconda3\\envs\\qfi\\Lib\\inspect.py\", line 3191, in _bind\n",
      "    raise TypeError(\n",
      "TypeError: too many positional arguments\n",
      "\n",
      "  warnings.warn(\n"
     ]
    },
    {
     "name": "stdout",
     "output_type": "stream",
     "text": [
      "[CV] END booster=gbtree, learning_rate=0.05, n_estimators=500, num_leaves=20; total time=   1.6s\n"
     ]
    },
    {
     "name": "stderr",
     "output_type": "stream",
     "text": [
      "d:\\Users\\semic\\Anaconda3\\envs\\qfi\\Lib\\site-packages\\sklearn\\model_selection\\_validation.py:982: UserWarning: Scoring failed. The score on this train-test partition for these parameters will be set to nan. Details: \n",
      "Traceback (most recent call last):\n",
      "  File \"d:\\Users\\semic\\Anaconda3\\envs\\qfi\\Lib\\site-packages\\sklearn\\model_selection\\_validation.py\", line 971, in _score\n",
      "    scores = scorer(estimator, X_test, y_test, **score_params)\n",
      "             ^^^^^^^^^^^^^^^^^^^^^^^^^^^^^^^^^^^^^^^^^^^^^^^^^\n",
      "  File \"d:\\Users\\semic\\Anaconda3\\envs\\qfi\\Lib\\site-packages\\sklearn\\utils\\_param_validation.py\", line 191, in wrapper\n",
      "    params = func_sig.bind(*args, **kwargs)\n",
      "             ^^^^^^^^^^^^^^^^^^^^^^^^^^^^^^\n",
      "  File \"d:\\Users\\semic\\Anaconda3\\envs\\qfi\\Lib\\inspect.py\", line 3267, in bind\n",
      "    return self._bind(args, kwargs)\n",
      "           ^^^^^^^^^^^^^^^^^^^^^^^^\n",
      "  File \"d:\\Users\\semic\\Anaconda3\\envs\\qfi\\Lib\\inspect.py\", line 3191, in _bind\n",
      "    raise TypeError(\n",
      "TypeError: too many positional arguments\n",
      "\n",
      "  warnings.warn(\n"
     ]
    },
    {
     "name": "stdout",
     "output_type": "stream",
     "text": [
      "[CV] END booster=gbtree, learning_rate=0.05, n_estimators=500, num_leaves=20; total time=   1.4s\n"
     ]
    },
    {
     "name": "stderr",
     "output_type": "stream",
     "text": [
      "d:\\Users\\semic\\Anaconda3\\envs\\qfi\\Lib\\site-packages\\sklearn\\model_selection\\_validation.py:982: UserWarning: Scoring failed. The score on this train-test partition for these parameters will be set to nan. Details: \n",
      "Traceback (most recent call last):\n",
      "  File \"d:\\Users\\semic\\Anaconda3\\envs\\qfi\\Lib\\site-packages\\sklearn\\model_selection\\_validation.py\", line 971, in _score\n",
      "    scores = scorer(estimator, X_test, y_test, **score_params)\n",
      "             ^^^^^^^^^^^^^^^^^^^^^^^^^^^^^^^^^^^^^^^^^^^^^^^^^\n",
      "  File \"d:\\Users\\semic\\Anaconda3\\envs\\qfi\\Lib\\site-packages\\sklearn\\utils\\_param_validation.py\", line 191, in wrapper\n",
      "    params = func_sig.bind(*args, **kwargs)\n",
      "             ^^^^^^^^^^^^^^^^^^^^^^^^^^^^^^\n",
      "  File \"d:\\Users\\semic\\Anaconda3\\envs\\qfi\\Lib\\inspect.py\", line 3267, in bind\n",
      "    return self._bind(args, kwargs)\n",
      "           ^^^^^^^^^^^^^^^^^^^^^^^^\n",
      "  File \"d:\\Users\\semic\\Anaconda3\\envs\\qfi\\Lib\\inspect.py\", line 3191, in _bind\n",
      "    raise TypeError(\n",
      "TypeError: too many positional arguments\n",
      "\n",
      "  warnings.warn(\n"
     ]
    },
    {
     "name": "stdout",
     "output_type": "stream",
     "text": [
      "[CV] END booster=gbtree, learning_rate=0.05, n_estimators=500, num_leaves=20; total time=   1.6s\n"
     ]
    },
    {
     "name": "stderr",
     "output_type": "stream",
     "text": [
      "d:\\Users\\semic\\Anaconda3\\envs\\qfi\\Lib\\site-packages\\sklearn\\model_selection\\_validation.py:982: UserWarning: Scoring failed. The score on this train-test partition for these parameters will be set to nan. Details: \n",
      "Traceback (most recent call last):\n",
      "  File \"d:\\Users\\semic\\Anaconda3\\envs\\qfi\\Lib\\site-packages\\sklearn\\model_selection\\_validation.py\", line 971, in _score\n",
      "    scores = scorer(estimator, X_test, y_test, **score_params)\n",
      "             ^^^^^^^^^^^^^^^^^^^^^^^^^^^^^^^^^^^^^^^^^^^^^^^^^\n",
      "  File \"d:\\Users\\semic\\Anaconda3\\envs\\qfi\\Lib\\site-packages\\sklearn\\utils\\_param_validation.py\", line 191, in wrapper\n",
      "    params = func_sig.bind(*args, **kwargs)\n",
      "             ^^^^^^^^^^^^^^^^^^^^^^^^^^^^^^\n",
      "  File \"d:\\Users\\semic\\Anaconda3\\envs\\qfi\\Lib\\inspect.py\", line 3267, in bind\n",
      "    return self._bind(args, kwargs)\n",
      "           ^^^^^^^^^^^^^^^^^^^^^^^^\n",
      "  File \"d:\\Users\\semic\\Anaconda3\\envs\\qfi\\Lib\\inspect.py\", line 3191, in _bind\n",
      "    raise TypeError(\n",
      "TypeError: too many positional arguments\n",
      "\n",
      "  warnings.warn(\n"
     ]
    },
    {
     "name": "stdout",
     "output_type": "stream",
     "text": [
      "[CV] END booster=gbtree, learning_rate=0.05, n_estimators=500, num_leaves=20; total time=   1.6s\n"
     ]
    },
    {
     "name": "stderr",
     "output_type": "stream",
     "text": [
      "d:\\Users\\semic\\Anaconda3\\envs\\qfi\\Lib\\site-packages\\sklearn\\model_selection\\_validation.py:982: UserWarning: Scoring failed. The score on this train-test partition for these parameters will be set to nan. Details: \n",
      "Traceback (most recent call last):\n",
      "  File \"d:\\Users\\semic\\Anaconda3\\envs\\qfi\\Lib\\site-packages\\sklearn\\model_selection\\_validation.py\", line 971, in _score\n",
      "    scores = scorer(estimator, X_test, y_test, **score_params)\n",
      "             ^^^^^^^^^^^^^^^^^^^^^^^^^^^^^^^^^^^^^^^^^^^^^^^^^\n",
      "  File \"d:\\Users\\semic\\Anaconda3\\envs\\qfi\\Lib\\site-packages\\sklearn\\utils\\_param_validation.py\", line 191, in wrapper\n",
      "    params = func_sig.bind(*args, **kwargs)\n",
      "             ^^^^^^^^^^^^^^^^^^^^^^^^^^^^^^\n",
      "  File \"d:\\Users\\semic\\Anaconda3\\envs\\qfi\\Lib\\inspect.py\", line 3267, in bind\n",
      "    return self._bind(args, kwargs)\n",
      "           ^^^^^^^^^^^^^^^^^^^^^^^^\n",
      "  File \"d:\\Users\\semic\\Anaconda3\\envs\\qfi\\Lib\\inspect.py\", line 3191, in _bind\n",
      "    raise TypeError(\n",
      "TypeError: too many positional arguments\n",
      "\n",
      "  warnings.warn(\n"
     ]
    },
    {
     "name": "stdout",
     "output_type": "stream",
     "text": [
      "[CV] END booster=gbtree, learning_rate=0.05, n_estimators=500, num_leaves=20; total time=   1.4s\n"
     ]
    },
    {
     "name": "stderr",
     "output_type": "stream",
     "text": [
      "d:\\Users\\semic\\Anaconda3\\envs\\qfi\\Lib\\site-packages\\sklearn\\model_selection\\_validation.py:982: UserWarning: Scoring failed. The score on this train-test partition for these parameters will be set to nan. Details: \n",
      "Traceback (most recent call last):\n",
      "  File \"d:\\Users\\semic\\Anaconda3\\envs\\qfi\\Lib\\site-packages\\sklearn\\model_selection\\_validation.py\", line 971, in _score\n",
      "    scores = scorer(estimator, X_test, y_test, **score_params)\n",
      "             ^^^^^^^^^^^^^^^^^^^^^^^^^^^^^^^^^^^^^^^^^^^^^^^^^\n",
      "  File \"d:\\Users\\semic\\Anaconda3\\envs\\qfi\\Lib\\site-packages\\sklearn\\utils\\_param_validation.py\", line 191, in wrapper\n",
      "    params = func_sig.bind(*args, **kwargs)\n",
      "             ^^^^^^^^^^^^^^^^^^^^^^^^^^^^^^\n",
      "  File \"d:\\Users\\semic\\Anaconda3\\envs\\qfi\\Lib\\inspect.py\", line 3267, in bind\n",
      "    return self._bind(args, kwargs)\n",
      "           ^^^^^^^^^^^^^^^^^^^^^^^^\n",
      "  File \"d:\\Users\\semic\\Anaconda3\\envs\\qfi\\Lib\\inspect.py\", line 3191, in _bind\n",
      "    raise TypeError(\n",
      "TypeError: too many positional arguments\n",
      "\n",
      "  warnings.warn(\n"
     ]
    },
    {
     "name": "stdout",
     "output_type": "stream",
     "text": [
      "[CV] END booster=gbtree, learning_rate=0.05, n_estimators=500, num_leaves=31; total time=   1.3s\n"
     ]
    },
    {
     "name": "stderr",
     "output_type": "stream",
     "text": [
      "d:\\Users\\semic\\Anaconda3\\envs\\qfi\\Lib\\site-packages\\sklearn\\model_selection\\_validation.py:982: UserWarning: Scoring failed. The score on this train-test partition for these parameters will be set to nan. Details: \n",
      "Traceback (most recent call last):\n",
      "  File \"d:\\Users\\semic\\Anaconda3\\envs\\qfi\\Lib\\site-packages\\sklearn\\model_selection\\_validation.py\", line 971, in _score\n",
      "    scores = scorer(estimator, X_test, y_test, **score_params)\n",
      "             ^^^^^^^^^^^^^^^^^^^^^^^^^^^^^^^^^^^^^^^^^^^^^^^^^\n",
      "  File \"d:\\Users\\semic\\Anaconda3\\envs\\qfi\\Lib\\site-packages\\sklearn\\utils\\_param_validation.py\", line 191, in wrapper\n",
      "    params = func_sig.bind(*args, **kwargs)\n",
      "             ^^^^^^^^^^^^^^^^^^^^^^^^^^^^^^\n",
      "  File \"d:\\Users\\semic\\Anaconda3\\envs\\qfi\\Lib\\inspect.py\", line 3267, in bind\n",
      "    return self._bind(args, kwargs)\n",
      "           ^^^^^^^^^^^^^^^^^^^^^^^^\n",
      "  File \"d:\\Users\\semic\\Anaconda3\\envs\\qfi\\Lib\\inspect.py\", line 3191, in _bind\n",
      "    raise TypeError(\n",
      "TypeError: too many positional arguments\n",
      "\n",
      "  warnings.warn(\n"
     ]
    },
    {
     "name": "stdout",
     "output_type": "stream",
     "text": [
      "[CV] END booster=gbtree, learning_rate=0.05, n_estimators=500, num_leaves=31; total time=   1.5s\n"
     ]
    },
    {
     "name": "stderr",
     "output_type": "stream",
     "text": [
      "d:\\Users\\semic\\Anaconda3\\envs\\qfi\\Lib\\site-packages\\sklearn\\model_selection\\_validation.py:982: UserWarning: Scoring failed. The score on this train-test partition for these parameters will be set to nan. Details: \n",
      "Traceback (most recent call last):\n",
      "  File \"d:\\Users\\semic\\Anaconda3\\envs\\qfi\\Lib\\site-packages\\sklearn\\model_selection\\_validation.py\", line 971, in _score\n",
      "    scores = scorer(estimator, X_test, y_test, **score_params)\n",
      "             ^^^^^^^^^^^^^^^^^^^^^^^^^^^^^^^^^^^^^^^^^^^^^^^^^\n",
      "  File \"d:\\Users\\semic\\Anaconda3\\envs\\qfi\\Lib\\site-packages\\sklearn\\utils\\_param_validation.py\", line 191, in wrapper\n",
      "    params = func_sig.bind(*args, **kwargs)\n",
      "             ^^^^^^^^^^^^^^^^^^^^^^^^^^^^^^\n",
      "  File \"d:\\Users\\semic\\Anaconda3\\envs\\qfi\\Lib\\inspect.py\", line 3267, in bind\n",
      "    return self._bind(args, kwargs)\n",
      "           ^^^^^^^^^^^^^^^^^^^^^^^^\n",
      "  File \"d:\\Users\\semic\\Anaconda3\\envs\\qfi\\Lib\\inspect.py\", line 3191, in _bind\n",
      "    raise TypeError(\n",
      "TypeError: too many positional arguments\n",
      "\n",
      "  warnings.warn(\n"
     ]
    },
    {
     "name": "stdout",
     "output_type": "stream",
     "text": [
      "[CV] END booster=gbtree, learning_rate=0.05, n_estimators=500, num_leaves=31; total time=   1.4s\n"
     ]
    },
    {
     "name": "stderr",
     "output_type": "stream",
     "text": [
      "d:\\Users\\semic\\Anaconda3\\envs\\qfi\\Lib\\site-packages\\sklearn\\model_selection\\_validation.py:982: UserWarning: Scoring failed. The score on this train-test partition for these parameters will be set to nan. Details: \n",
      "Traceback (most recent call last):\n",
      "  File \"d:\\Users\\semic\\Anaconda3\\envs\\qfi\\Lib\\site-packages\\sklearn\\model_selection\\_validation.py\", line 971, in _score\n",
      "    scores = scorer(estimator, X_test, y_test, **score_params)\n",
      "             ^^^^^^^^^^^^^^^^^^^^^^^^^^^^^^^^^^^^^^^^^^^^^^^^^\n",
      "  File \"d:\\Users\\semic\\Anaconda3\\envs\\qfi\\Lib\\site-packages\\sklearn\\utils\\_param_validation.py\", line 191, in wrapper\n",
      "    params = func_sig.bind(*args, **kwargs)\n",
      "             ^^^^^^^^^^^^^^^^^^^^^^^^^^^^^^\n",
      "  File \"d:\\Users\\semic\\Anaconda3\\envs\\qfi\\Lib\\inspect.py\", line 3267, in bind\n",
      "    return self._bind(args, kwargs)\n",
      "           ^^^^^^^^^^^^^^^^^^^^^^^^\n",
      "  File \"d:\\Users\\semic\\Anaconda3\\envs\\qfi\\Lib\\inspect.py\", line 3191, in _bind\n",
      "    raise TypeError(\n",
      "TypeError: too many positional arguments\n",
      "\n",
      "  warnings.warn(\n"
     ]
    },
    {
     "name": "stdout",
     "output_type": "stream",
     "text": [
      "[CV] END booster=gbtree, learning_rate=0.05, n_estimators=500, num_leaves=31; total time=   1.5s\n"
     ]
    },
    {
     "name": "stderr",
     "output_type": "stream",
     "text": [
      "d:\\Users\\semic\\Anaconda3\\envs\\qfi\\Lib\\site-packages\\sklearn\\model_selection\\_validation.py:982: UserWarning: Scoring failed. The score on this train-test partition for these parameters will be set to nan. Details: \n",
      "Traceback (most recent call last):\n",
      "  File \"d:\\Users\\semic\\Anaconda3\\envs\\qfi\\Lib\\site-packages\\sklearn\\model_selection\\_validation.py\", line 971, in _score\n",
      "    scores = scorer(estimator, X_test, y_test, **score_params)\n",
      "             ^^^^^^^^^^^^^^^^^^^^^^^^^^^^^^^^^^^^^^^^^^^^^^^^^\n",
      "  File \"d:\\Users\\semic\\Anaconda3\\envs\\qfi\\Lib\\site-packages\\sklearn\\utils\\_param_validation.py\", line 191, in wrapper\n",
      "    params = func_sig.bind(*args, **kwargs)\n",
      "             ^^^^^^^^^^^^^^^^^^^^^^^^^^^^^^\n",
      "  File \"d:\\Users\\semic\\Anaconda3\\envs\\qfi\\Lib\\inspect.py\", line 3267, in bind\n",
      "    return self._bind(args, kwargs)\n",
      "           ^^^^^^^^^^^^^^^^^^^^^^^^\n",
      "  File \"d:\\Users\\semic\\Anaconda3\\envs\\qfi\\Lib\\inspect.py\", line 3191, in _bind\n",
      "    raise TypeError(\n",
      "TypeError: too many positional arguments\n",
      "\n",
      "  warnings.warn(\n"
     ]
    },
    {
     "name": "stdout",
     "output_type": "stream",
     "text": [
      "[CV] END booster=gbtree, learning_rate=0.05, n_estimators=500, num_leaves=31; total time=   1.4s\n"
     ]
    },
    {
     "name": "stderr",
     "output_type": "stream",
     "text": [
      "d:\\Users\\semic\\Anaconda3\\envs\\qfi\\Lib\\site-packages\\sklearn\\model_selection\\_validation.py:982: UserWarning: Scoring failed. The score on this train-test partition for these parameters will be set to nan. Details: \n",
      "Traceback (most recent call last):\n",
      "  File \"d:\\Users\\semic\\Anaconda3\\envs\\qfi\\Lib\\site-packages\\sklearn\\model_selection\\_validation.py\", line 971, in _score\n",
      "    scores = scorer(estimator, X_test, y_test, **score_params)\n",
      "             ^^^^^^^^^^^^^^^^^^^^^^^^^^^^^^^^^^^^^^^^^^^^^^^^^\n",
      "  File \"d:\\Users\\semic\\Anaconda3\\envs\\qfi\\Lib\\site-packages\\sklearn\\utils\\_param_validation.py\", line 191, in wrapper\n",
      "    params = func_sig.bind(*args, **kwargs)\n",
      "             ^^^^^^^^^^^^^^^^^^^^^^^^^^^^^^\n",
      "  File \"d:\\Users\\semic\\Anaconda3\\envs\\qfi\\Lib\\inspect.py\", line 3267, in bind\n",
      "    return self._bind(args, kwargs)\n",
      "           ^^^^^^^^^^^^^^^^^^^^^^^^\n",
      "  File \"d:\\Users\\semic\\Anaconda3\\envs\\qfi\\Lib\\inspect.py\", line 3191, in _bind\n",
      "    raise TypeError(\n",
      "TypeError: too many positional arguments\n",
      "\n",
      "  warnings.warn(\n"
     ]
    },
    {
     "name": "stdout",
     "output_type": "stream",
     "text": [
      "[CV] END booster=gbtree, learning_rate=0.05, n_estimators=500, num_leaves=50; total time=   1.3s\n"
     ]
    },
    {
     "name": "stderr",
     "output_type": "stream",
     "text": [
      "d:\\Users\\semic\\Anaconda3\\envs\\qfi\\Lib\\site-packages\\sklearn\\model_selection\\_validation.py:982: UserWarning: Scoring failed. The score on this train-test partition for these parameters will be set to nan. Details: \n",
      "Traceback (most recent call last):\n",
      "  File \"d:\\Users\\semic\\Anaconda3\\envs\\qfi\\Lib\\site-packages\\sklearn\\model_selection\\_validation.py\", line 971, in _score\n",
      "    scores = scorer(estimator, X_test, y_test, **score_params)\n",
      "             ^^^^^^^^^^^^^^^^^^^^^^^^^^^^^^^^^^^^^^^^^^^^^^^^^\n",
      "  File \"d:\\Users\\semic\\Anaconda3\\envs\\qfi\\Lib\\site-packages\\sklearn\\utils\\_param_validation.py\", line 191, in wrapper\n",
      "    params = func_sig.bind(*args, **kwargs)\n",
      "             ^^^^^^^^^^^^^^^^^^^^^^^^^^^^^^\n",
      "  File \"d:\\Users\\semic\\Anaconda3\\envs\\qfi\\Lib\\inspect.py\", line 3267, in bind\n",
      "    return self._bind(args, kwargs)\n",
      "           ^^^^^^^^^^^^^^^^^^^^^^^^\n",
      "  File \"d:\\Users\\semic\\Anaconda3\\envs\\qfi\\Lib\\inspect.py\", line 3191, in _bind\n",
      "    raise TypeError(\n",
      "TypeError: too many positional arguments\n",
      "\n",
      "  warnings.warn(\n"
     ]
    },
    {
     "name": "stdout",
     "output_type": "stream",
     "text": [
      "[CV] END booster=gbtree, learning_rate=0.05, n_estimators=500, num_leaves=50; total time=   1.5s\n"
     ]
    },
    {
     "name": "stderr",
     "output_type": "stream",
     "text": [
      "d:\\Users\\semic\\Anaconda3\\envs\\qfi\\Lib\\site-packages\\sklearn\\model_selection\\_validation.py:982: UserWarning: Scoring failed. The score on this train-test partition for these parameters will be set to nan. Details: \n",
      "Traceback (most recent call last):\n",
      "  File \"d:\\Users\\semic\\Anaconda3\\envs\\qfi\\Lib\\site-packages\\sklearn\\model_selection\\_validation.py\", line 971, in _score\n",
      "    scores = scorer(estimator, X_test, y_test, **score_params)\n",
      "             ^^^^^^^^^^^^^^^^^^^^^^^^^^^^^^^^^^^^^^^^^^^^^^^^^\n",
      "  File \"d:\\Users\\semic\\Anaconda3\\envs\\qfi\\Lib\\site-packages\\sklearn\\utils\\_param_validation.py\", line 191, in wrapper\n",
      "    params = func_sig.bind(*args, **kwargs)\n",
      "             ^^^^^^^^^^^^^^^^^^^^^^^^^^^^^^\n",
      "  File \"d:\\Users\\semic\\Anaconda3\\envs\\qfi\\Lib\\inspect.py\", line 3267, in bind\n",
      "    return self._bind(args, kwargs)\n",
      "           ^^^^^^^^^^^^^^^^^^^^^^^^\n",
      "  File \"d:\\Users\\semic\\Anaconda3\\envs\\qfi\\Lib\\inspect.py\", line 3191, in _bind\n",
      "    raise TypeError(\n",
      "TypeError: too many positional arguments\n",
      "\n",
      "  warnings.warn(\n"
     ]
    },
    {
     "name": "stdout",
     "output_type": "stream",
     "text": [
      "[CV] END booster=gbtree, learning_rate=0.05, n_estimators=500, num_leaves=50; total time=   1.5s\n"
     ]
    },
    {
     "name": "stderr",
     "output_type": "stream",
     "text": [
      "d:\\Users\\semic\\Anaconda3\\envs\\qfi\\Lib\\site-packages\\sklearn\\model_selection\\_validation.py:982: UserWarning: Scoring failed. The score on this train-test partition for these parameters will be set to nan. Details: \n",
      "Traceback (most recent call last):\n",
      "  File \"d:\\Users\\semic\\Anaconda3\\envs\\qfi\\Lib\\site-packages\\sklearn\\model_selection\\_validation.py\", line 971, in _score\n",
      "    scores = scorer(estimator, X_test, y_test, **score_params)\n",
      "             ^^^^^^^^^^^^^^^^^^^^^^^^^^^^^^^^^^^^^^^^^^^^^^^^^\n",
      "  File \"d:\\Users\\semic\\Anaconda3\\envs\\qfi\\Lib\\site-packages\\sklearn\\utils\\_param_validation.py\", line 191, in wrapper\n",
      "    params = func_sig.bind(*args, **kwargs)\n",
      "             ^^^^^^^^^^^^^^^^^^^^^^^^^^^^^^\n",
      "  File \"d:\\Users\\semic\\Anaconda3\\envs\\qfi\\Lib\\inspect.py\", line 3267, in bind\n",
      "    return self._bind(args, kwargs)\n",
      "           ^^^^^^^^^^^^^^^^^^^^^^^^\n",
      "  File \"d:\\Users\\semic\\Anaconda3\\envs\\qfi\\Lib\\inspect.py\", line 3191, in _bind\n",
      "    raise TypeError(\n",
      "TypeError: too many positional arguments\n",
      "\n",
      "  warnings.warn(\n"
     ]
    },
    {
     "name": "stdout",
     "output_type": "stream",
     "text": [
      "[CV] END booster=gbtree, learning_rate=0.05, n_estimators=500, num_leaves=50; total time=   1.3s\n"
     ]
    },
    {
     "name": "stderr",
     "output_type": "stream",
     "text": [
      "d:\\Users\\semic\\Anaconda3\\envs\\qfi\\Lib\\site-packages\\sklearn\\model_selection\\_validation.py:982: UserWarning: Scoring failed. The score on this train-test partition for these parameters will be set to nan. Details: \n",
      "Traceback (most recent call last):\n",
      "  File \"d:\\Users\\semic\\Anaconda3\\envs\\qfi\\Lib\\site-packages\\sklearn\\model_selection\\_validation.py\", line 971, in _score\n",
      "    scores = scorer(estimator, X_test, y_test, **score_params)\n",
      "             ^^^^^^^^^^^^^^^^^^^^^^^^^^^^^^^^^^^^^^^^^^^^^^^^^\n",
      "  File \"d:\\Users\\semic\\Anaconda3\\envs\\qfi\\Lib\\site-packages\\sklearn\\utils\\_param_validation.py\", line 191, in wrapper\n",
      "    params = func_sig.bind(*args, **kwargs)\n",
      "             ^^^^^^^^^^^^^^^^^^^^^^^^^^^^^^\n",
      "  File \"d:\\Users\\semic\\Anaconda3\\envs\\qfi\\Lib\\inspect.py\", line 3267, in bind\n",
      "    return self._bind(args, kwargs)\n",
      "           ^^^^^^^^^^^^^^^^^^^^^^^^\n",
      "  File \"d:\\Users\\semic\\Anaconda3\\envs\\qfi\\Lib\\inspect.py\", line 3191, in _bind\n",
      "    raise TypeError(\n",
      "TypeError: too many positional arguments\n",
      "\n",
      "  warnings.warn(\n"
     ]
    },
    {
     "name": "stdout",
     "output_type": "stream",
     "text": [
      "[CV] END booster=gbtree, learning_rate=0.05, n_estimators=500, num_leaves=50; total time=   1.4s\n"
     ]
    },
    {
     "name": "stderr",
     "output_type": "stream",
     "text": [
      "d:\\Users\\semic\\Anaconda3\\envs\\qfi\\Lib\\site-packages\\sklearn\\model_selection\\_validation.py:982: UserWarning: Scoring failed. The score on this train-test partition for these parameters will be set to nan. Details: \n",
      "Traceback (most recent call last):\n",
      "  File \"d:\\Users\\semic\\Anaconda3\\envs\\qfi\\Lib\\site-packages\\sklearn\\model_selection\\_validation.py\", line 971, in _score\n",
      "    scores = scorer(estimator, X_test, y_test, **score_params)\n",
      "             ^^^^^^^^^^^^^^^^^^^^^^^^^^^^^^^^^^^^^^^^^^^^^^^^^\n",
      "  File \"d:\\Users\\semic\\Anaconda3\\envs\\qfi\\Lib\\site-packages\\sklearn\\utils\\_param_validation.py\", line 191, in wrapper\n",
      "    params = func_sig.bind(*args, **kwargs)\n",
      "             ^^^^^^^^^^^^^^^^^^^^^^^^^^^^^^\n",
      "  File \"d:\\Users\\semic\\Anaconda3\\envs\\qfi\\Lib\\inspect.py\", line 3267, in bind\n",
      "    return self._bind(args, kwargs)\n",
      "           ^^^^^^^^^^^^^^^^^^^^^^^^\n",
      "  File \"d:\\Users\\semic\\Anaconda3\\envs\\qfi\\Lib\\inspect.py\", line 3191, in _bind\n",
      "    raise TypeError(\n",
      "TypeError: too many positional arguments\n",
      "\n",
      "  warnings.warn(\n"
     ]
    },
    {
     "name": "stdout",
     "output_type": "stream",
     "text": [
      "[CV] END booster=gbtree, learning_rate=0.1, n_estimators=100, num_leaves=20; total time=   0.3s\n"
     ]
    },
    {
     "name": "stderr",
     "output_type": "stream",
     "text": [
      "d:\\Users\\semic\\Anaconda3\\envs\\qfi\\Lib\\site-packages\\sklearn\\model_selection\\_validation.py:982: UserWarning: Scoring failed. The score on this train-test partition for these parameters will be set to nan. Details: \n",
      "Traceback (most recent call last):\n",
      "  File \"d:\\Users\\semic\\Anaconda3\\envs\\qfi\\Lib\\site-packages\\sklearn\\model_selection\\_validation.py\", line 971, in _score\n",
      "    scores = scorer(estimator, X_test, y_test, **score_params)\n",
      "             ^^^^^^^^^^^^^^^^^^^^^^^^^^^^^^^^^^^^^^^^^^^^^^^^^\n",
      "  File \"d:\\Users\\semic\\Anaconda3\\envs\\qfi\\Lib\\site-packages\\sklearn\\utils\\_param_validation.py\", line 191, in wrapper\n",
      "    params = func_sig.bind(*args, **kwargs)\n",
      "             ^^^^^^^^^^^^^^^^^^^^^^^^^^^^^^\n",
      "  File \"d:\\Users\\semic\\Anaconda3\\envs\\qfi\\Lib\\inspect.py\", line 3267, in bind\n",
      "    return self._bind(args, kwargs)\n",
      "           ^^^^^^^^^^^^^^^^^^^^^^^^\n",
      "  File \"d:\\Users\\semic\\Anaconda3\\envs\\qfi\\Lib\\inspect.py\", line 3191, in _bind\n",
      "    raise TypeError(\n",
      "TypeError: too many positional arguments\n",
      "\n",
      "  warnings.warn(\n"
     ]
    },
    {
     "name": "stdout",
     "output_type": "stream",
     "text": [
      "[CV] END booster=gbtree, learning_rate=0.1, n_estimators=100, num_leaves=20; total time=   0.2s\n"
     ]
    },
    {
     "name": "stderr",
     "output_type": "stream",
     "text": [
      "d:\\Users\\semic\\Anaconda3\\envs\\qfi\\Lib\\site-packages\\sklearn\\model_selection\\_validation.py:982: UserWarning: Scoring failed. The score on this train-test partition for these parameters will be set to nan. Details: \n",
      "Traceback (most recent call last):\n",
      "  File \"d:\\Users\\semic\\Anaconda3\\envs\\qfi\\Lib\\site-packages\\sklearn\\model_selection\\_validation.py\", line 971, in _score\n",
      "    scores = scorer(estimator, X_test, y_test, **score_params)\n",
      "             ^^^^^^^^^^^^^^^^^^^^^^^^^^^^^^^^^^^^^^^^^^^^^^^^^\n",
      "  File \"d:\\Users\\semic\\Anaconda3\\envs\\qfi\\Lib\\site-packages\\sklearn\\utils\\_param_validation.py\", line 191, in wrapper\n",
      "    params = func_sig.bind(*args, **kwargs)\n",
      "             ^^^^^^^^^^^^^^^^^^^^^^^^^^^^^^\n",
      "  File \"d:\\Users\\semic\\Anaconda3\\envs\\qfi\\Lib\\inspect.py\", line 3267, in bind\n",
      "    return self._bind(args, kwargs)\n",
      "           ^^^^^^^^^^^^^^^^^^^^^^^^\n",
      "  File \"d:\\Users\\semic\\Anaconda3\\envs\\qfi\\Lib\\inspect.py\", line 3191, in _bind\n",
      "    raise TypeError(\n",
      "TypeError: too many positional arguments\n",
      "\n",
      "  warnings.warn(\n"
     ]
    },
    {
     "name": "stdout",
     "output_type": "stream",
     "text": [
      "[CV] END booster=gbtree, learning_rate=0.1, n_estimators=100, num_leaves=20; total time=   0.2s\n"
     ]
    },
    {
     "name": "stderr",
     "output_type": "stream",
     "text": [
      "d:\\Users\\semic\\Anaconda3\\envs\\qfi\\Lib\\site-packages\\sklearn\\model_selection\\_validation.py:982: UserWarning: Scoring failed. The score on this train-test partition for these parameters will be set to nan. Details: \n",
      "Traceback (most recent call last):\n",
      "  File \"d:\\Users\\semic\\Anaconda3\\envs\\qfi\\Lib\\site-packages\\sklearn\\model_selection\\_validation.py\", line 971, in _score\n",
      "    scores = scorer(estimator, X_test, y_test, **score_params)\n",
      "             ^^^^^^^^^^^^^^^^^^^^^^^^^^^^^^^^^^^^^^^^^^^^^^^^^\n",
      "  File \"d:\\Users\\semic\\Anaconda3\\envs\\qfi\\Lib\\site-packages\\sklearn\\utils\\_param_validation.py\", line 191, in wrapper\n",
      "    params = func_sig.bind(*args, **kwargs)\n",
      "             ^^^^^^^^^^^^^^^^^^^^^^^^^^^^^^\n",
      "  File \"d:\\Users\\semic\\Anaconda3\\envs\\qfi\\Lib\\inspect.py\", line 3267, in bind\n",
      "    return self._bind(args, kwargs)\n",
      "           ^^^^^^^^^^^^^^^^^^^^^^^^\n",
      "  File \"d:\\Users\\semic\\Anaconda3\\envs\\qfi\\Lib\\inspect.py\", line 3191, in _bind\n",
      "    raise TypeError(\n",
      "TypeError: too many positional arguments\n",
      "\n",
      "  warnings.warn(\n"
     ]
    },
    {
     "name": "stdout",
     "output_type": "stream",
     "text": [
      "[CV] END booster=gbtree, learning_rate=0.1, n_estimators=100, num_leaves=20; total time=   0.3s\n"
     ]
    },
    {
     "name": "stderr",
     "output_type": "stream",
     "text": [
      "d:\\Users\\semic\\Anaconda3\\envs\\qfi\\Lib\\site-packages\\sklearn\\model_selection\\_validation.py:982: UserWarning: Scoring failed. The score on this train-test partition for these parameters will be set to nan. Details: \n",
      "Traceback (most recent call last):\n",
      "  File \"d:\\Users\\semic\\Anaconda3\\envs\\qfi\\Lib\\site-packages\\sklearn\\model_selection\\_validation.py\", line 971, in _score\n",
      "    scores = scorer(estimator, X_test, y_test, **score_params)\n",
      "             ^^^^^^^^^^^^^^^^^^^^^^^^^^^^^^^^^^^^^^^^^^^^^^^^^\n",
      "  File \"d:\\Users\\semic\\Anaconda3\\envs\\qfi\\Lib\\site-packages\\sklearn\\utils\\_param_validation.py\", line 191, in wrapper\n",
      "    params = func_sig.bind(*args, **kwargs)\n",
      "             ^^^^^^^^^^^^^^^^^^^^^^^^^^^^^^\n",
      "  File \"d:\\Users\\semic\\Anaconda3\\envs\\qfi\\Lib\\inspect.py\", line 3267, in bind\n",
      "    return self._bind(args, kwargs)\n",
      "           ^^^^^^^^^^^^^^^^^^^^^^^^\n",
      "  File \"d:\\Users\\semic\\Anaconda3\\envs\\qfi\\Lib\\inspect.py\", line 3191, in _bind\n",
      "    raise TypeError(\n",
      "TypeError: too many positional arguments\n",
      "\n",
      "  warnings.warn(\n"
     ]
    },
    {
     "name": "stdout",
     "output_type": "stream",
     "text": [
      "[CV] END booster=gbtree, learning_rate=0.1, n_estimators=100, num_leaves=20; total time=   0.3s\n"
     ]
    },
    {
     "name": "stderr",
     "output_type": "stream",
     "text": [
      "d:\\Users\\semic\\Anaconda3\\envs\\qfi\\Lib\\site-packages\\sklearn\\model_selection\\_validation.py:982: UserWarning: Scoring failed. The score on this train-test partition for these parameters will be set to nan. Details: \n",
      "Traceback (most recent call last):\n",
      "  File \"d:\\Users\\semic\\Anaconda3\\envs\\qfi\\Lib\\site-packages\\sklearn\\model_selection\\_validation.py\", line 971, in _score\n",
      "    scores = scorer(estimator, X_test, y_test, **score_params)\n",
      "             ^^^^^^^^^^^^^^^^^^^^^^^^^^^^^^^^^^^^^^^^^^^^^^^^^\n",
      "  File \"d:\\Users\\semic\\Anaconda3\\envs\\qfi\\Lib\\site-packages\\sklearn\\utils\\_param_validation.py\", line 191, in wrapper\n",
      "    params = func_sig.bind(*args, **kwargs)\n",
      "             ^^^^^^^^^^^^^^^^^^^^^^^^^^^^^^\n",
      "  File \"d:\\Users\\semic\\Anaconda3\\envs\\qfi\\Lib\\inspect.py\", line 3267, in bind\n",
      "    return self._bind(args, kwargs)\n",
      "           ^^^^^^^^^^^^^^^^^^^^^^^^\n",
      "  File \"d:\\Users\\semic\\Anaconda3\\envs\\qfi\\Lib\\inspect.py\", line 3191, in _bind\n",
      "    raise TypeError(\n",
      "TypeError: too many positional arguments\n",
      "\n",
      "  warnings.warn(\n"
     ]
    },
    {
     "name": "stdout",
     "output_type": "stream",
     "text": [
      "[CV] END booster=gbtree, learning_rate=0.1, n_estimators=100, num_leaves=31; total time=   0.3s\n"
     ]
    },
    {
     "name": "stderr",
     "output_type": "stream",
     "text": [
      "d:\\Users\\semic\\Anaconda3\\envs\\qfi\\Lib\\site-packages\\sklearn\\model_selection\\_validation.py:982: UserWarning: Scoring failed. The score on this train-test partition for these parameters will be set to nan. Details: \n",
      "Traceback (most recent call last):\n",
      "  File \"d:\\Users\\semic\\Anaconda3\\envs\\qfi\\Lib\\site-packages\\sklearn\\model_selection\\_validation.py\", line 971, in _score\n",
      "    scores = scorer(estimator, X_test, y_test, **score_params)\n",
      "             ^^^^^^^^^^^^^^^^^^^^^^^^^^^^^^^^^^^^^^^^^^^^^^^^^\n",
      "  File \"d:\\Users\\semic\\Anaconda3\\envs\\qfi\\Lib\\site-packages\\sklearn\\utils\\_param_validation.py\", line 191, in wrapper\n",
      "    params = func_sig.bind(*args, **kwargs)\n",
      "             ^^^^^^^^^^^^^^^^^^^^^^^^^^^^^^\n",
      "  File \"d:\\Users\\semic\\Anaconda3\\envs\\qfi\\Lib\\inspect.py\", line 3267, in bind\n",
      "    return self._bind(args, kwargs)\n",
      "           ^^^^^^^^^^^^^^^^^^^^^^^^\n",
      "  File \"d:\\Users\\semic\\Anaconda3\\envs\\qfi\\Lib\\inspect.py\", line 3191, in _bind\n",
      "    raise TypeError(\n",
      "TypeError: too many positional arguments\n",
      "\n",
      "  warnings.warn(\n"
     ]
    },
    {
     "name": "stdout",
     "output_type": "stream",
     "text": [
      "[CV] END booster=gbtree, learning_rate=0.1, n_estimators=100, num_leaves=31; total time=   0.3s\n"
     ]
    },
    {
     "name": "stderr",
     "output_type": "stream",
     "text": [
      "d:\\Users\\semic\\Anaconda3\\envs\\qfi\\Lib\\site-packages\\sklearn\\model_selection\\_validation.py:982: UserWarning: Scoring failed. The score on this train-test partition for these parameters will be set to nan. Details: \n",
      "Traceback (most recent call last):\n",
      "  File \"d:\\Users\\semic\\Anaconda3\\envs\\qfi\\Lib\\site-packages\\sklearn\\model_selection\\_validation.py\", line 971, in _score\n",
      "    scores = scorer(estimator, X_test, y_test, **score_params)\n",
      "             ^^^^^^^^^^^^^^^^^^^^^^^^^^^^^^^^^^^^^^^^^^^^^^^^^\n",
      "  File \"d:\\Users\\semic\\Anaconda3\\envs\\qfi\\Lib\\site-packages\\sklearn\\utils\\_param_validation.py\", line 191, in wrapper\n",
      "    params = func_sig.bind(*args, **kwargs)\n",
      "             ^^^^^^^^^^^^^^^^^^^^^^^^^^^^^^\n",
      "  File \"d:\\Users\\semic\\Anaconda3\\envs\\qfi\\Lib\\inspect.py\", line 3267, in bind\n",
      "    return self._bind(args, kwargs)\n",
      "           ^^^^^^^^^^^^^^^^^^^^^^^^\n",
      "  File \"d:\\Users\\semic\\Anaconda3\\envs\\qfi\\Lib\\inspect.py\", line 3191, in _bind\n",
      "    raise TypeError(\n",
      "TypeError: too many positional arguments\n",
      "\n",
      "  warnings.warn(\n"
     ]
    },
    {
     "name": "stdout",
     "output_type": "stream",
     "text": [
      "[CV] END booster=gbtree, learning_rate=0.1, n_estimators=100, num_leaves=31; total time=   0.3s\n"
     ]
    },
    {
     "name": "stderr",
     "output_type": "stream",
     "text": [
      "d:\\Users\\semic\\Anaconda3\\envs\\qfi\\Lib\\site-packages\\sklearn\\model_selection\\_validation.py:982: UserWarning: Scoring failed. The score on this train-test partition for these parameters will be set to nan. Details: \n",
      "Traceback (most recent call last):\n",
      "  File \"d:\\Users\\semic\\Anaconda3\\envs\\qfi\\Lib\\site-packages\\sklearn\\model_selection\\_validation.py\", line 971, in _score\n",
      "    scores = scorer(estimator, X_test, y_test, **score_params)\n",
      "             ^^^^^^^^^^^^^^^^^^^^^^^^^^^^^^^^^^^^^^^^^^^^^^^^^\n",
      "  File \"d:\\Users\\semic\\Anaconda3\\envs\\qfi\\Lib\\site-packages\\sklearn\\utils\\_param_validation.py\", line 191, in wrapper\n",
      "    params = func_sig.bind(*args, **kwargs)\n",
      "             ^^^^^^^^^^^^^^^^^^^^^^^^^^^^^^\n",
      "  File \"d:\\Users\\semic\\Anaconda3\\envs\\qfi\\Lib\\inspect.py\", line 3267, in bind\n",
      "    return self._bind(args, kwargs)\n",
      "           ^^^^^^^^^^^^^^^^^^^^^^^^\n",
      "  File \"d:\\Users\\semic\\Anaconda3\\envs\\qfi\\Lib\\inspect.py\", line 3191, in _bind\n",
      "    raise TypeError(\n",
      "TypeError: too many positional arguments\n",
      "\n",
      "  warnings.warn(\n"
     ]
    },
    {
     "name": "stdout",
     "output_type": "stream",
     "text": [
      "[CV] END booster=gbtree, learning_rate=0.1, n_estimators=100, num_leaves=31; total time=   0.3s\n"
     ]
    },
    {
     "name": "stderr",
     "output_type": "stream",
     "text": [
      "d:\\Users\\semic\\Anaconda3\\envs\\qfi\\Lib\\site-packages\\sklearn\\model_selection\\_validation.py:982: UserWarning: Scoring failed. The score on this train-test partition for these parameters will be set to nan. Details: \n",
      "Traceback (most recent call last):\n",
      "  File \"d:\\Users\\semic\\Anaconda3\\envs\\qfi\\Lib\\site-packages\\sklearn\\model_selection\\_validation.py\", line 971, in _score\n",
      "    scores = scorer(estimator, X_test, y_test, **score_params)\n",
      "             ^^^^^^^^^^^^^^^^^^^^^^^^^^^^^^^^^^^^^^^^^^^^^^^^^\n",
      "  File \"d:\\Users\\semic\\Anaconda3\\envs\\qfi\\Lib\\site-packages\\sklearn\\utils\\_param_validation.py\", line 191, in wrapper\n",
      "    params = func_sig.bind(*args, **kwargs)\n",
      "             ^^^^^^^^^^^^^^^^^^^^^^^^^^^^^^\n",
      "  File \"d:\\Users\\semic\\Anaconda3\\envs\\qfi\\Lib\\inspect.py\", line 3267, in bind\n",
      "    return self._bind(args, kwargs)\n",
      "           ^^^^^^^^^^^^^^^^^^^^^^^^\n",
      "  File \"d:\\Users\\semic\\Anaconda3\\envs\\qfi\\Lib\\inspect.py\", line 3191, in _bind\n",
      "    raise TypeError(\n",
      "TypeError: too many positional arguments\n",
      "\n",
      "  warnings.warn(\n"
     ]
    },
    {
     "name": "stdout",
     "output_type": "stream",
     "text": [
      "[CV] END booster=gbtree, learning_rate=0.1, n_estimators=100, num_leaves=31; total time=   0.4s\n"
     ]
    },
    {
     "name": "stderr",
     "output_type": "stream",
     "text": [
      "d:\\Users\\semic\\Anaconda3\\envs\\qfi\\Lib\\site-packages\\sklearn\\model_selection\\_validation.py:982: UserWarning: Scoring failed. The score on this train-test partition for these parameters will be set to nan. Details: \n",
      "Traceback (most recent call last):\n",
      "  File \"d:\\Users\\semic\\Anaconda3\\envs\\qfi\\Lib\\site-packages\\sklearn\\model_selection\\_validation.py\", line 971, in _score\n",
      "    scores = scorer(estimator, X_test, y_test, **score_params)\n",
      "             ^^^^^^^^^^^^^^^^^^^^^^^^^^^^^^^^^^^^^^^^^^^^^^^^^\n",
      "  File \"d:\\Users\\semic\\Anaconda3\\envs\\qfi\\Lib\\site-packages\\sklearn\\utils\\_param_validation.py\", line 191, in wrapper\n",
      "    params = func_sig.bind(*args, **kwargs)\n",
      "             ^^^^^^^^^^^^^^^^^^^^^^^^^^^^^^\n",
      "  File \"d:\\Users\\semic\\Anaconda3\\envs\\qfi\\Lib\\inspect.py\", line 3267, in bind\n",
      "    return self._bind(args, kwargs)\n",
      "           ^^^^^^^^^^^^^^^^^^^^^^^^\n",
      "  File \"d:\\Users\\semic\\Anaconda3\\envs\\qfi\\Lib\\inspect.py\", line 3191, in _bind\n",
      "    raise TypeError(\n",
      "TypeError: too many positional arguments\n",
      "\n",
      "  warnings.warn(\n"
     ]
    },
    {
     "name": "stdout",
     "output_type": "stream",
     "text": [
      "[CV] END booster=gbtree, learning_rate=0.1, n_estimators=100, num_leaves=50; total time=   0.4s\n"
     ]
    },
    {
     "name": "stderr",
     "output_type": "stream",
     "text": [
      "d:\\Users\\semic\\Anaconda3\\envs\\qfi\\Lib\\site-packages\\sklearn\\model_selection\\_validation.py:982: UserWarning: Scoring failed. The score on this train-test partition for these parameters will be set to nan. Details: \n",
      "Traceback (most recent call last):\n",
      "  File \"d:\\Users\\semic\\Anaconda3\\envs\\qfi\\Lib\\site-packages\\sklearn\\model_selection\\_validation.py\", line 971, in _score\n",
      "    scores = scorer(estimator, X_test, y_test, **score_params)\n",
      "             ^^^^^^^^^^^^^^^^^^^^^^^^^^^^^^^^^^^^^^^^^^^^^^^^^\n",
      "  File \"d:\\Users\\semic\\Anaconda3\\envs\\qfi\\Lib\\site-packages\\sklearn\\utils\\_param_validation.py\", line 191, in wrapper\n",
      "    params = func_sig.bind(*args, **kwargs)\n",
      "             ^^^^^^^^^^^^^^^^^^^^^^^^^^^^^^\n",
      "  File \"d:\\Users\\semic\\Anaconda3\\envs\\qfi\\Lib\\inspect.py\", line 3267, in bind\n",
      "    return self._bind(args, kwargs)\n",
      "           ^^^^^^^^^^^^^^^^^^^^^^^^\n",
      "  File \"d:\\Users\\semic\\Anaconda3\\envs\\qfi\\Lib\\inspect.py\", line 3191, in _bind\n",
      "    raise TypeError(\n",
      "TypeError: too many positional arguments\n",
      "\n",
      "  warnings.warn(\n"
     ]
    },
    {
     "name": "stdout",
     "output_type": "stream",
     "text": [
      "[CV] END booster=gbtree, learning_rate=0.1, n_estimators=100, num_leaves=50; total time=   0.3s\n"
     ]
    },
    {
     "name": "stderr",
     "output_type": "stream",
     "text": [
      "d:\\Users\\semic\\Anaconda3\\envs\\qfi\\Lib\\site-packages\\sklearn\\model_selection\\_validation.py:982: UserWarning: Scoring failed. The score on this train-test partition for these parameters will be set to nan. Details: \n",
      "Traceback (most recent call last):\n",
      "  File \"d:\\Users\\semic\\Anaconda3\\envs\\qfi\\Lib\\site-packages\\sklearn\\model_selection\\_validation.py\", line 971, in _score\n",
      "    scores = scorer(estimator, X_test, y_test, **score_params)\n",
      "             ^^^^^^^^^^^^^^^^^^^^^^^^^^^^^^^^^^^^^^^^^^^^^^^^^\n",
      "  File \"d:\\Users\\semic\\Anaconda3\\envs\\qfi\\Lib\\site-packages\\sklearn\\utils\\_param_validation.py\", line 191, in wrapper\n",
      "    params = func_sig.bind(*args, **kwargs)\n",
      "             ^^^^^^^^^^^^^^^^^^^^^^^^^^^^^^\n",
      "  File \"d:\\Users\\semic\\Anaconda3\\envs\\qfi\\Lib\\inspect.py\", line 3267, in bind\n",
      "    return self._bind(args, kwargs)\n",
      "           ^^^^^^^^^^^^^^^^^^^^^^^^\n",
      "  File \"d:\\Users\\semic\\Anaconda3\\envs\\qfi\\Lib\\inspect.py\", line 3191, in _bind\n",
      "    raise TypeError(\n",
      "TypeError: too many positional arguments\n",
      "\n",
      "  warnings.warn(\n"
     ]
    },
    {
     "name": "stdout",
     "output_type": "stream",
     "text": [
      "[CV] END booster=gbtree, learning_rate=0.1, n_estimators=100, num_leaves=50; total time=   0.3s\n"
     ]
    },
    {
     "name": "stderr",
     "output_type": "stream",
     "text": [
      "d:\\Users\\semic\\Anaconda3\\envs\\qfi\\Lib\\site-packages\\sklearn\\model_selection\\_validation.py:982: UserWarning: Scoring failed. The score on this train-test partition for these parameters will be set to nan. Details: \n",
      "Traceback (most recent call last):\n",
      "  File \"d:\\Users\\semic\\Anaconda3\\envs\\qfi\\Lib\\site-packages\\sklearn\\model_selection\\_validation.py\", line 971, in _score\n",
      "    scores = scorer(estimator, X_test, y_test, **score_params)\n",
      "             ^^^^^^^^^^^^^^^^^^^^^^^^^^^^^^^^^^^^^^^^^^^^^^^^^\n",
      "  File \"d:\\Users\\semic\\Anaconda3\\envs\\qfi\\Lib\\site-packages\\sklearn\\utils\\_param_validation.py\", line 191, in wrapper\n",
      "    params = func_sig.bind(*args, **kwargs)\n",
      "             ^^^^^^^^^^^^^^^^^^^^^^^^^^^^^^\n",
      "  File \"d:\\Users\\semic\\Anaconda3\\envs\\qfi\\Lib\\inspect.py\", line 3267, in bind\n",
      "    return self._bind(args, kwargs)\n",
      "           ^^^^^^^^^^^^^^^^^^^^^^^^\n",
      "  File \"d:\\Users\\semic\\Anaconda3\\envs\\qfi\\Lib\\inspect.py\", line 3191, in _bind\n",
      "    raise TypeError(\n",
      "TypeError: too many positional arguments\n",
      "\n",
      "  warnings.warn(\n"
     ]
    },
    {
     "name": "stdout",
     "output_type": "stream",
     "text": [
      "[CV] END booster=gbtree, learning_rate=0.1, n_estimators=100, num_leaves=50; total time=   0.3s\n"
     ]
    },
    {
     "name": "stderr",
     "output_type": "stream",
     "text": [
      "d:\\Users\\semic\\Anaconda3\\envs\\qfi\\Lib\\site-packages\\sklearn\\model_selection\\_validation.py:982: UserWarning: Scoring failed. The score on this train-test partition for these parameters will be set to nan. Details: \n",
      "Traceback (most recent call last):\n",
      "  File \"d:\\Users\\semic\\Anaconda3\\envs\\qfi\\Lib\\site-packages\\sklearn\\model_selection\\_validation.py\", line 971, in _score\n",
      "    scores = scorer(estimator, X_test, y_test, **score_params)\n",
      "             ^^^^^^^^^^^^^^^^^^^^^^^^^^^^^^^^^^^^^^^^^^^^^^^^^\n",
      "  File \"d:\\Users\\semic\\Anaconda3\\envs\\qfi\\Lib\\site-packages\\sklearn\\utils\\_param_validation.py\", line 191, in wrapper\n",
      "    params = func_sig.bind(*args, **kwargs)\n",
      "             ^^^^^^^^^^^^^^^^^^^^^^^^^^^^^^\n",
      "  File \"d:\\Users\\semic\\Anaconda3\\envs\\qfi\\Lib\\inspect.py\", line 3267, in bind\n",
      "    return self._bind(args, kwargs)\n",
      "           ^^^^^^^^^^^^^^^^^^^^^^^^\n",
      "  File \"d:\\Users\\semic\\Anaconda3\\envs\\qfi\\Lib\\inspect.py\", line 3191, in _bind\n",
      "    raise TypeError(\n",
      "TypeError: too many positional arguments\n",
      "\n",
      "  warnings.warn(\n"
     ]
    },
    {
     "name": "stdout",
     "output_type": "stream",
     "text": [
      "[CV] END booster=gbtree, learning_rate=0.1, n_estimators=100, num_leaves=50; total time=   0.4s\n"
     ]
    },
    {
     "name": "stderr",
     "output_type": "stream",
     "text": [
      "d:\\Users\\semic\\Anaconda3\\envs\\qfi\\Lib\\site-packages\\sklearn\\model_selection\\_validation.py:982: UserWarning: Scoring failed. The score on this train-test partition for these parameters will be set to nan. Details: \n",
      "Traceback (most recent call last):\n",
      "  File \"d:\\Users\\semic\\Anaconda3\\envs\\qfi\\Lib\\site-packages\\sklearn\\model_selection\\_validation.py\", line 971, in _score\n",
      "    scores = scorer(estimator, X_test, y_test, **score_params)\n",
      "             ^^^^^^^^^^^^^^^^^^^^^^^^^^^^^^^^^^^^^^^^^^^^^^^^^\n",
      "  File \"d:\\Users\\semic\\Anaconda3\\envs\\qfi\\Lib\\site-packages\\sklearn\\utils\\_param_validation.py\", line 191, in wrapper\n",
      "    params = func_sig.bind(*args, **kwargs)\n",
      "             ^^^^^^^^^^^^^^^^^^^^^^^^^^^^^^\n",
      "  File \"d:\\Users\\semic\\Anaconda3\\envs\\qfi\\Lib\\inspect.py\", line 3267, in bind\n",
      "    return self._bind(args, kwargs)\n",
      "           ^^^^^^^^^^^^^^^^^^^^^^^^\n",
      "  File \"d:\\Users\\semic\\Anaconda3\\envs\\qfi\\Lib\\inspect.py\", line 3191, in _bind\n",
      "    raise TypeError(\n",
      "TypeError: too many positional arguments\n",
      "\n",
      "  warnings.warn(\n"
     ]
    },
    {
     "name": "stdout",
     "output_type": "stream",
     "text": [
      "[CV] END booster=gbtree, learning_rate=0.1, n_estimators=200, num_leaves=20; total time=   0.7s\n"
     ]
    },
    {
     "name": "stderr",
     "output_type": "stream",
     "text": [
      "d:\\Users\\semic\\Anaconda3\\envs\\qfi\\Lib\\site-packages\\sklearn\\model_selection\\_validation.py:982: UserWarning: Scoring failed. The score on this train-test partition for these parameters will be set to nan. Details: \n",
      "Traceback (most recent call last):\n",
      "  File \"d:\\Users\\semic\\Anaconda3\\envs\\qfi\\Lib\\site-packages\\sklearn\\model_selection\\_validation.py\", line 971, in _score\n",
      "    scores = scorer(estimator, X_test, y_test, **score_params)\n",
      "             ^^^^^^^^^^^^^^^^^^^^^^^^^^^^^^^^^^^^^^^^^^^^^^^^^\n",
      "  File \"d:\\Users\\semic\\Anaconda3\\envs\\qfi\\Lib\\site-packages\\sklearn\\utils\\_param_validation.py\", line 191, in wrapper\n",
      "    params = func_sig.bind(*args, **kwargs)\n",
      "             ^^^^^^^^^^^^^^^^^^^^^^^^^^^^^^\n",
      "  File \"d:\\Users\\semic\\Anaconda3\\envs\\qfi\\Lib\\inspect.py\", line 3267, in bind\n",
      "    return self._bind(args, kwargs)\n",
      "           ^^^^^^^^^^^^^^^^^^^^^^^^\n",
      "  File \"d:\\Users\\semic\\Anaconda3\\envs\\qfi\\Lib\\inspect.py\", line 3191, in _bind\n",
      "    raise TypeError(\n",
      "TypeError: too many positional arguments\n",
      "\n",
      "  warnings.warn(\n"
     ]
    },
    {
     "name": "stdout",
     "output_type": "stream",
     "text": [
      "[CV] END booster=gbtree, learning_rate=0.1, n_estimators=200, num_leaves=20; total time=   0.5s\n"
     ]
    },
    {
     "name": "stderr",
     "output_type": "stream",
     "text": [
      "d:\\Users\\semic\\Anaconda3\\envs\\qfi\\Lib\\site-packages\\sklearn\\model_selection\\_validation.py:982: UserWarning: Scoring failed. The score on this train-test partition for these parameters will be set to nan. Details: \n",
      "Traceback (most recent call last):\n",
      "  File \"d:\\Users\\semic\\Anaconda3\\envs\\qfi\\Lib\\site-packages\\sklearn\\model_selection\\_validation.py\", line 971, in _score\n",
      "    scores = scorer(estimator, X_test, y_test, **score_params)\n",
      "             ^^^^^^^^^^^^^^^^^^^^^^^^^^^^^^^^^^^^^^^^^^^^^^^^^\n",
      "  File \"d:\\Users\\semic\\Anaconda3\\envs\\qfi\\Lib\\site-packages\\sklearn\\utils\\_param_validation.py\", line 191, in wrapper\n",
      "    params = func_sig.bind(*args, **kwargs)\n",
      "             ^^^^^^^^^^^^^^^^^^^^^^^^^^^^^^\n",
      "  File \"d:\\Users\\semic\\Anaconda3\\envs\\qfi\\Lib\\inspect.py\", line 3267, in bind\n",
      "    return self._bind(args, kwargs)\n",
      "           ^^^^^^^^^^^^^^^^^^^^^^^^\n",
      "  File \"d:\\Users\\semic\\Anaconda3\\envs\\qfi\\Lib\\inspect.py\", line 3191, in _bind\n",
      "    raise TypeError(\n",
      "TypeError: too many positional arguments\n",
      "\n",
      "  warnings.warn(\n"
     ]
    },
    {
     "name": "stdout",
     "output_type": "stream",
     "text": [
      "[CV] END booster=gbtree, learning_rate=0.1, n_estimators=200, num_leaves=20; total time=   0.6s\n"
     ]
    },
    {
     "name": "stderr",
     "output_type": "stream",
     "text": [
      "d:\\Users\\semic\\Anaconda3\\envs\\qfi\\Lib\\site-packages\\sklearn\\model_selection\\_validation.py:982: UserWarning: Scoring failed. The score on this train-test partition for these parameters will be set to nan. Details: \n",
      "Traceback (most recent call last):\n",
      "  File \"d:\\Users\\semic\\Anaconda3\\envs\\qfi\\Lib\\site-packages\\sklearn\\model_selection\\_validation.py\", line 971, in _score\n",
      "    scores = scorer(estimator, X_test, y_test, **score_params)\n",
      "             ^^^^^^^^^^^^^^^^^^^^^^^^^^^^^^^^^^^^^^^^^^^^^^^^^\n",
      "  File \"d:\\Users\\semic\\Anaconda3\\envs\\qfi\\Lib\\site-packages\\sklearn\\utils\\_param_validation.py\", line 191, in wrapper\n",
      "    params = func_sig.bind(*args, **kwargs)\n",
      "             ^^^^^^^^^^^^^^^^^^^^^^^^^^^^^^\n",
      "  File \"d:\\Users\\semic\\Anaconda3\\envs\\qfi\\Lib\\inspect.py\", line 3267, in bind\n",
      "    return self._bind(args, kwargs)\n",
      "           ^^^^^^^^^^^^^^^^^^^^^^^^\n",
      "  File \"d:\\Users\\semic\\Anaconda3\\envs\\qfi\\Lib\\inspect.py\", line 3191, in _bind\n",
      "    raise TypeError(\n",
      "TypeError: too many positional arguments\n",
      "\n",
      "  warnings.warn(\n"
     ]
    },
    {
     "name": "stdout",
     "output_type": "stream",
     "text": [
      "[CV] END booster=gbtree, learning_rate=0.1, n_estimators=200, num_leaves=20; total time=   0.6s\n"
     ]
    },
    {
     "name": "stderr",
     "output_type": "stream",
     "text": [
      "d:\\Users\\semic\\Anaconda3\\envs\\qfi\\Lib\\site-packages\\sklearn\\model_selection\\_validation.py:982: UserWarning: Scoring failed. The score on this train-test partition for these parameters will be set to nan. Details: \n",
      "Traceback (most recent call last):\n",
      "  File \"d:\\Users\\semic\\Anaconda3\\envs\\qfi\\Lib\\site-packages\\sklearn\\model_selection\\_validation.py\", line 971, in _score\n",
      "    scores = scorer(estimator, X_test, y_test, **score_params)\n",
      "             ^^^^^^^^^^^^^^^^^^^^^^^^^^^^^^^^^^^^^^^^^^^^^^^^^\n",
      "  File \"d:\\Users\\semic\\Anaconda3\\envs\\qfi\\Lib\\site-packages\\sklearn\\utils\\_param_validation.py\", line 191, in wrapper\n",
      "    params = func_sig.bind(*args, **kwargs)\n",
      "             ^^^^^^^^^^^^^^^^^^^^^^^^^^^^^^\n",
      "  File \"d:\\Users\\semic\\Anaconda3\\envs\\qfi\\Lib\\inspect.py\", line 3267, in bind\n",
      "    return self._bind(args, kwargs)\n",
      "           ^^^^^^^^^^^^^^^^^^^^^^^^\n",
      "  File \"d:\\Users\\semic\\Anaconda3\\envs\\qfi\\Lib\\inspect.py\", line 3191, in _bind\n",
      "    raise TypeError(\n",
      "TypeError: too many positional arguments\n",
      "\n",
      "  warnings.warn(\n"
     ]
    },
    {
     "name": "stdout",
     "output_type": "stream",
     "text": [
      "[CV] END booster=gbtree, learning_rate=0.1, n_estimators=200, num_leaves=20; total time=   0.5s\n"
     ]
    },
    {
     "name": "stderr",
     "output_type": "stream",
     "text": [
      "d:\\Users\\semic\\Anaconda3\\envs\\qfi\\Lib\\site-packages\\sklearn\\model_selection\\_validation.py:982: UserWarning: Scoring failed. The score on this train-test partition for these parameters will be set to nan. Details: \n",
      "Traceback (most recent call last):\n",
      "  File \"d:\\Users\\semic\\Anaconda3\\envs\\qfi\\Lib\\site-packages\\sklearn\\model_selection\\_validation.py\", line 971, in _score\n",
      "    scores = scorer(estimator, X_test, y_test, **score_params)\n",
      "             ^^^^^^^^^^^^^^^^^^^^^^^^^^^^^^^^^^^^^^^^^^^^^^^^^\n",
      "  File \"d:\\Users\\semic\\Anaconda3\\envs\\qfi\\Lib\\site-packages\\sklearn\\utils\\_param_validation.py\", line 191, in wrapper\n",
      "    params = func_sig.bind(*args, **kwargs)\n",
      "             ^^^^^^^^^^^^^^^^^^^^^^^^^^^^^^\n",
      "  File \"d:\\Users\\semic\\Anaconda3\\envs\\qfi\\Lib\\inspect.py\", line 3267, in bind\n",
      "    return self._bind(args, kwargs)\n",
      "           ^^^^^^^^^^^^^^^^^^^^^^^^\n",
      "  File \"d:\\Users\\semic\\Anaconda3\\envs\\qfi\\Lib\\inspect.py\", line 3191, in _bind\n",
      "    raise TypeError(\n",
      "TypeError: too many positional arguments\n",
      "\n",
      "  warnings.warn(\n"
     ]
    },
    {
     "name": "stdout",
     "output_type": "stream",
     "text": [
      "[CV] END booster=gbtree, learning_rate=0.1, n_estimators=200, num_leaves=31; total time=   0.5s\n"
     ]
    },
    {
     "name": "stderr",
     "output_type": "stream",
     "text": [
      "d:\\Users\\semic\\Anaconda3\\envs\\qfi\\Lib\\site-packages\\sklearn\\model_selection\\_validation.py:982: UserWarning: Scoring failed. The score on this train-test partition for these parameters will be set to nan. Details: \n",
      "Traceback (most recent call last):\n",
      "  File \"d:\\Users\\semic\\Anaconda3\\envs\\qfi\\Lib\\site-packages\\sklearn\\model_selection\\_validation.py\", line 971, in _score\n",
      "    scores = scorer(estimator, X_test, y_test, **score_params)\n",
      "             ^^^^^^^^^^^^^^^^^^^^^^^^^^^^^^^^^^^^^^^^^^^^^^^^^\n",
      "  File \"d:\\Users\\semic\\Anaconda3\\envs\\qfi\\Lib\\site-packages\\sklearn\\utils\\_param_validation.py\", line 191, in wrapper\n",
      "    params = func_sig.bind(*args, **kwargs)\n",
      "             ^^^^^^^^^^^^^^^^^^^^^^^^^^^^^^\n",
      "  File \"d:\\Users\\semic\\Anaconda3\\envs\\qfi\\Lib\\inspect.py\", line 3267, in bind\n",
      "    return self._bind(args, kwargs)\n",
      "           ^^^^^^^^^^^^^^^^^^^^^^^^\n",
      "  File \"d:\\Users\\semic\\Anaconda3\\envs\\qfi\\Lib\\inspect.py\", line 3191, in _bind\n",
      "    raise TypeError(\n",
      "TypeError: too many positional arguments\n",
      "\n",
      "  warnings.warn(\n"
     ]
    },
    {
     "name": "stdout",
     "output_type": "stream",
     "text": [
      "[CV] END booster=gbtree, learning_rate=0.1, n_estimators=200, num_leaves=31; total time=   0.6s\n"
     ]
    },
    {
     "name": "stderr",
     "output_type": "stream",
     "text": [
      "d:\\Users\\semic\\Anaconda3\\envs\\qfi\\Lib\\site-packages\\sklearn\\model_selection\\_validation.py:982: UserWarning: Scoring failed. The score on this train-test partition for these parameters will be set to nan. Details: \n",
      "Traceback (most recent call last):\n",
      "  File \"d:\\Users\\semic\\Anaconda3\\envs\\qfi\\Lib\\site-packages\\sklearn\\model_selection\\_validation.py\", line 971, in _score\n",
      "    scores = scorer(estimator, X_test, y_test, **score_params)\n",
      "             ^^^^^^^^^^^^^^^^^^^^^^^^^^^^^^^^^^^^^^^^^^^^^^^^^\n",
      "  File \"d:\\Users\\semic\\Anaconda3\\envs\\qfi\\Lib\\site-packages\\sklearn\\utils\\_param_validation.py\", line 191, in wrapper\n",
      "    params = func_sig.bind(*args, **kwargs)\n",
      "             ^^^^^^^^^^^^^^^^^^^^^^^^^^^^^^\n",
      "  File \"d:\\Users\\semic\\Anaconda3\\envs\\qfi\\Lib\\inspect.py\", line 3267, in bind\n",
      "    return self._bind(args, kwargs)\n",
      "           ^^^^^^^^^^^^^^^^^^^^^^^^\n",
      "  File \"d:\\Users\\semic\\Anaconda3\\envs\\qfi\\Lib\\inspect.py\", line 3191, in _bind\n",
      "    raise TypeError(\n",
      "TypeError: too many positional arguments\n",
      "\n",
      "  warnings.warn(\n"
     ]
    },
    {
     "name": "stdout",
     "output_type": "stream",
     "text": [
      "[CV] END booster=gbtree, learning_rate=0.1, n_estimators=200, num_leaves=31; total time=   0.6s\n"
     ]
    },
    {
     "name": "stderr",
     "output_type": "stream",
     "text": [
      "d:\\Users\\semic\\Anaconda3\\envs\\qfi\\Lib\\site-packages\\sklearn\\model_selection\\_validation.py:982: UserWarning: Scoring failed. The score on this train-test partition for these parameters will be set to nan. Details: \n",
      "Traceback (most recent call last):\n",
      "  File \"d:\\Users\\semic\\Anaconda3\\envs\\qfi\\Lib\\site-packages\\sklearn\\model_selection\\_validation.py\", line 971, in _score\n",
      "    scores = scorer(estimator, X_test, y_test, **score_params)\n",
      "             ^^^^^^^^^^^^^^^^^^^^^^^^^^^^^^^^^^^^^^^^^^^^^^^^^\n",
      "  File \"d:\\Users\\semic\\Anaconda3\\envs\\qfi\\Lib\\site-packages\\sklearn\\utils\\_param_validation.py\", line 191, in wrapper\n",
      "    params = func_sig.bind(*args, **kwargs)\n",
      "             ^^^^^^^^^^^^^^^^^^^^^^^^^^^^^^\n",
      "  File \"d:\\Users\\semic\\Anaconda3\\envs\\qfi\\Lib\\inspect.py\", line 3267, in bind\n",
      "    return self._bind(args, kwargs)\n",
      "           ^^^^^^^^^^^^^^^^^^^^^^^^\n",
      "  File \"d:\\Users\\semic\\Anaconda3\\envs\\qfi\\Lib\\inspect.py\", line 3191, in _bind\n",
      "    raise TypeError(\n",
      "TypeError: too many positional arguments\n",
      "\n",
      "  warnings.warn(\n"
     ]
    },
    {
     "name": "stdout",
     "output_type": "stream",
     "text": [
      "[CV] END booster=gbtree, learning_rate=0.1, n_estimators=200, num_leaves=31; total time=   0.7s\n"
     ]
    },
    {
     "name": "stderr",
     "output_type": "stream",
     "text": [
      "d:\\Users\\semic\\Anaconda3\\envs\\qfi\\Lib\\site-packages\\sklearn\\model_selection\\_validation.py:982: UserWarning: Scoring failed. The score on this train-test partition for these parameters will be set to nan. Details: \n",
      "Traceback (most recent call last):\n",
      "  File \"d:\\Users\\semic\\Anaconda3\\envs\\qfi\\Lib\\site-packages\\sklearn\\model_selection\\_validation.py\", line 971, in _score\n",
      "    scores = scorer(estimator, X_test, y_test, **score_params)\n",
      "             ^^^^^^^^^^^^^^^^^^^^^^^^^^^^^^^^^^^^^^^^^^^^^^^^^\n",
      "  File \"d:\\Users\\semic\\Anaconda3\\envs\\qfi\\Lib\\site-packages\\sklearn\\utils\\_param_validation.py\", line 191, in wrapper\n",
      "    params = func_sig.bind(*args, **kwargs)\n",
      "             ^^^^^^^^^^^^^^^^^^^^^^^^^^^^^^\n",
      "  File \"d:\\Users\\semic\\Anaconda3\\envs\\qfi\\Lib\\inspect.py\", line 3267, in bind\n",
      "    return self._bind(args, kwargs)\n",
      "           ^^^^^^^^^^^^^^^^^^^^^^^^\n",
      "  File \"d:\\Users\\semic\\Anaconda3\\envs\\qfi\\Lib\\inspect.py\", line 3191, in _bind\n",
      "    raise TypeError(\n",
      "TypeError: too many positional arguments\n",
      "\n",
      "  warnings.warn(\n"
     ]
    },
    {
     "name": "stdout",
     "output_type": "stream",
     "text": [
      "[CV] END booster=gbtree, learning_rate=0.1, n_estimators=200, num_leaves=31; total time=   0.6s\n"
     ]
    },
    {
     "name": "stderr",
     "output_type": "stream",
     "text": [
      "d:\\Users\\semic\\Anaconda3\\envs\\qfi\\Lib\\site-packages\\sklearn\\model_selection\\_validation.py:982: UserWarning: Scoring failed. The score on this train-test partition for these parameters will be set to nan. Details: \n",
      "Traceback (most recent call last):\n",
      "  File \"d:\\Users\\semic\\Anaconda3\\envs\\qfi\\Lib\\site-packages\\sklearn\\model_selection\\_validation.py\", line 971, in _score\n",
      "    scores = scorer(estimator, X_test, y_test, **score_params)\n",
      "             ^^^^^^^^^^^^^^^^^^^^^^^^^^^^^^^^^^^^^^^^^^^^^^^^^\n",
      "  File \"d:\\Users\\semic\\Anaconda3\\envs\\qfi\\Lib\\site-packages\\sklearn\\utils\\_param_validation.py\", line 191, in wrapper\n",
      "    params = func_sig.bind(*args, **kwargs)\n",
      "             ^^^^^^^^^^^^^^^^^^^^^^^^^^^^^^\n",
      "  File \"d:\\Users\\semic\\Anaconda3\\envs\\qfi\\Lib\\inspect.py\", line 3267, in bind\n",
      "    return self._bind(args, kwargs)\n",
      "           ^^^^^^^^^^^^^^^^^^^^^^^^\n",
      "  File \"d:\\Users\\semic\\Anaconda3\\envs\\qfi\\Lib\\inspect.py\", line 3191, in _bind\n",
      "    raise TypeError(\n",
      "TypeError: too many positional arguments\n",
      "\n",
      "  warnings.warn(\n"
     ]
    },
    {
     "name": "stdout",
     "output_type": "stream",
     "text": [
      "[CV] END booster=gbtree, learning_rate=0.1, n_estimators=200, num_leaves=50; total time=   0.6s\n"
     ]
    },
    {
     "name": "stderr",
     "output_type": "stream",
     "text": [
      "d:\\Users\\semic\\Anaconda3\\envs\\qfi\\Lib\\site-packages\\sklearn\\model_selection\\_validation.py:982: UserWarning: Scoring failed. The score on this train-test partition for these parameters will be set to nan. Details: \n",
      "Traceback (most recent call last):\n",
      "  File \"d:\\Users\\semic\\Anaconda3\\envs\\qfi\\Lib\\site-packages\\sklearn\\model_selection\\_validation.py\", line 971, in _score\n",
      "    scores = scorer(estimator, X_test, y_test, **score_params)\n",
      "             ^^^^^^^^^^^^^^^^^^^^^^^^^^^^^^^^^^^^^^^^^^^^^^^^^\n",
      "  File \"d:\\Users\\semic\\Anaconda3\\envs\\qfi\\Lib\\site-packages\\sklearn\\utils\\_param_validation.py\", line 191, in wrapper\n",
      "    params = func_sig.bind(*args, **kwargs)\n",
      "             ^^^^^^^^^^^^^^^^^^^^^^^^^^^^^^\n",
      "  File \"d:\\Users\\semic\\Anaconda3\\envs\\qfi\\Lib\\inspect.py\", line 3267, in bind\n",
      "    return self._bind(args, kwargs)\n",
      "           ^^^^^^^^^^^^^^^^^^^^^^^^\n",
      "  File \"d:\\Users\\semic\\Anaconda3\\envs\\qfi\\Lib\\inspect.py\", line 3191, in _bind\n",
      "    raise TypeError(\n",
      "TypeError: too many positional arguments\n",
      "\n",
      "  warnings.warn(\n"
     ]
    },
    {
     "name": "stdout",
     "output_type": "stream",
     "text": [
      "[CV] END booster=gbtree, learning_rate=0.1, n_estimators=200, num_leaves=50; total time=   0.6s\n"
     ]
    },
    {
     "name": "stderr",
     "output_type": "stream",
     "text": [
      "d:\\Users\\semic\\Anaconda3\\envs\\qfi\\Lib\\site-packages\\sklearn\\model_selection\\_validation.py:982: UserWarning: Scoring failed. The score on this train-test partition for these parameters will be set to nan. Details: \n",
      "Traceback (most recent call last):\n",
      "  File \"d:\\Users\\semic\\Anaconda3\\envs\\qfi\\Lib\\site-packages\\sklearn\\model_selection\\_validation.py\", line 971, in _score\n",
      "    scores = scorer(estimator, X_test, y_test, **score_params)\n",
      "             ^^^^^^^^^^^^^^^^^^^^^^^^^^^^^^^^^^^^^^^^^^^^^^^^^\n",
      "  File \"d:\\Users\\semic\\Anaconda3\\envs\\qfi\\Lib\\site-packages\\sklearn\\utils\\_param_validation.py\", line 191, in wrapper\n",
      "    params = func_sig.bind(*args, **kwargs)\n",
      "             ^^^^^^^^^^^^^^^^^^^^^^^^^^^^^^\n",
      "  File \"d:\\Users\\semic\\Anaconda3\\envs\\qfi\\Lib\\inspect.py\", line 3267, in bind\n",
      "    return self._bind(args, kwargs)\n",
      "           ^^^^^^^^^^^^^^^^^^^^^^^^\n",
      "  File \"d:\\Users\\semic\\Anaconda3\\envs\\qfi\\Lib\\inspect.py\", line 3191, in _bind\n",
      "    raise TypeError(\n",
      "TypeError: too many positional arguments\n",
      "\n",
      "  warnings.warn(\n"
     ]
    },
    {
     "name": "stdout",
     "output_type": "stream",
     "text": [
      "[CV] END booster=gbtree, learning_rate=0.1, n_estimators=200, num_leaves=50; total time=   0.7s\n"
     ]
    },
    {
     "name": "stderr",
     "output_type": "stream",
     "text": [
      "d:\\Users\\semic\\Anaconda3\\envs\\qfi\\Lib\\site-packages\\sklearn\\model_selection\\_validation.py:982: UserWarning: Scoring failed. The score on this train-test partition for these parameters will be set to nan. Details: \n",
      "Traceback (most recent call last):\n",
      "  File \"d:\\Users\\semic\\Anaconda3\\envs\\qfi\\Lib\\site-packages\\sklearn\\model_selection\\_validation.py\", line 971, in _score\n",
      "    scores = scorer(estimator, X_test, y_test, **score_params)\n",
      "             ^^^^^^^^^^^^^^^^^^^^^^^^^^^^^^^^^^^^^^^^^^^^^^^^^\n",
      "  File \"d:\\Users\\semic\\Anaconda3\\envs\\qfi\\Lib\\site-packages\\sklearn\\utils\\_param_validation.py\", line 191, in wrapper\n",
      "    params = func_sig.bind(*args, **kwargs)\n",
      "             ^^^^^^^^^^^^^^^^^^^^^^^^^^^^^^\n",
      "  File \"d:\\Users\\semic\\Anaconda3\\envs\\qfi\\Lib\\inspect.py\", line 3267, in bind\n",
      "    return self._bind(args, kwargs)\n",
      "           ^^^^^^^^^^^^^^^^^^^^^^^^\n",
      "  File \"d:\\Users\\semic\\Anaconda3\\envs\\qfi\\Lib\\inspect.py\", line 3191, in _bind\n",
      "    raise TypeError(\n",
      "TypeError: too many positional arguments\n",
      "\n",
      "  warnings.warn(\n"
     ]
    },
    {
     "name": "stdout",
     "output_type": "stream",
     "text": [
      "[CV] END booster=gbtree, learning_rate=0.1, n_estimators=200, num_leaves=50; total time=   0.7s\n"
     ]
    },
    {
     "name": "stderr",
     "output_type": "stream",
     "text": [
      "d:\\Users\\semic\\Anaconda3\\envs\\qfi\\Lib\\site-packages\\sklearn\\model_selection\\_validation.py:982: UserWarning: Scoring failed. The score on this train-test partition for these parameters will be set to nan. Details: \n",
      "Traceback (most recent call last):\n",
      "  File \"d:\\Users\\semic\\Anaconda3\\envs\\qfi\\Lib\\site-packages\\sklearn\\model_selection\\_validation.py\", line 971, in _score\n",
      "    scores = scorer(estimator, X_test, y_test, **score_params)\n",
      "             ^^^^^^^^^^^^^^^^^^^^^^^^^^^^^^^^^^^^^^^^^^^^^^^^^\n",
      "  File \"d:\\Users\\semic\\Anaconda3\\envs\\qfi\\Lib\\site-packages\\sklearn\\utils\\_param_validation.py\", line 191, in wrapper\n",
      "    params = func_sig.bind(*args, **kwargs)\n",
      "             ^^^^^^^^^^^^^^^^^^^^^^^^^^^^^^\n",
      "  File \"d:\\Users\\semic\\Anaconda3\\envs\\qfi\\Lib\\inspect.py\", line 3267, in bind\n",
      "    return self._bind(args, kwargs)\n",
      "           ^^^^^^^^^^^^^^^^^^^^^^^^\n",
      "  File \"d:\\Users\\semic\\Anaconda3\\envs\\qfi\\Lib\\inspect.py\", line 3191, in _bind\n",
      "    raise TypeError(\n",
      "TypeError: too many positional arguments\n",
      "\n",
      "  warnings.warn(\n"
     ]
    },
    {
     "name": "stdout",
     "output_type": "stream",
     "text": [
      "[CV] END booster=gbtree, learning_rate=0.1, n_estimators=200, num_leaves=50; total time=   0.7s\n"
     ]
    },
    {
     "name": "stderr",
     "output_type": "stream",
     "text": [
      "d:\\Users\\semic\\Anaconda3\\envs\\qfi\\Lib\\site-packages\\sklearn\\model_selection\\_validation.py:982: UserWarning: Scoring failed. The score on this train-test partition for these parameters will be set to nan. Details: \n",
      "Traceback (most recent call last):\n",
      "  File \"d:\\Users\\semic\\Anaconda3\\envs\\qfi\\Lib\\site-packages\\sklearn\\model_selection\\_validation.py\", line 971, in _score\n",
      "    scores = scorer(estimator, X_test, y_test, **score_params)\n",
      "             ^^^^^^^^^^^^^^^^^^^^^^^^^^^^^^^^^^^^^^^^^^^^^^^^^\n",
      "  File \"d:\\Users\\semic\\Anaconda3\\envs\\qfi\\Lib\\site-packages\\sklearn\\utils\\_param_validation.py\", line 191, in wrapper\n",
      "    params = func_sig.bind(*args, **kwargs)\n",
      "             ^^^^^^^^^^^^^^^^^^^^^^^^^^^^^^\n",
      "  File \"d:\\Users\\semic\\Anaconda3\\envs\\qfi\\Lib\\inspect.py\", line 3267, in bind\n",
      "    return self._bind(args, kwargs)\n",
      "           ^^^^^^^^^^^^^^^^^^^^^^^^\n",
      "  File \"d:\\Users\\semic\\Anaconda3\\envs\\qfi\\Lib\\inspect.py\", line 3191, in _bind\n",
      "    raise TypeError(\n",
      "TypeError: too many positional arguments\n",
      "\n",
      "  warnings.warn(\n"
     ]
    },
    {
     "name": "stdout",
     "output_type": "stream",
     "text": [
      "[CV] END booster=gbtree, learning_rate=0.1, n_estimators=500, num_leaves=20; total time=   1.5s\n"
     ]
    },
    {
     "name": "stderr",
     "output_type": "stream",
     "text": [
      "d:\\Users\\semic\\Anaconda3\\envs\\qfi\\Lib\\site-packages\\sklearn\\model_selection\\_validation.py:982: UserWarning: Scoring failed. The score on this train-test partition for these parameters will be set to nan. Details: \n",
      "Traceback (most recent call last):\n",
      "  File \"d:\\Users\\semic\\Anaconda3\\envs\\qfi\\Lib\\site-packages\\sklearn\\model_selection\\_validation.py\", line 971, in _score\n",
      "    scores = scorer(estimator, X_test, y_test, **score_params)\n",
      "             ^^^^^^^^^^^^^^^^^^^^^^^^^^^^^^^^^^^^^^^^^^^^^^^^^\n",
      "  File \"d:\\Users\\semic\\Anaconda3\\envs\\qfi\\Lib\\site-packages\\sklearn\\utils\\_param_validation.py\", line 191, in wrapper\n",
      "    params = func_sig.bind(*args, **kwargs)\n",
      "             ^^^^^^^^^^^^^^^^^^^^^^^^^^^^^^\n",
      "  File \"d:\\Users\\semic\\Anaconda3\\envs\\qfi\\Lib\\inspect.py\", line 3267, in bind\n",
      "    return self._bind(args, kwargs)\n",
      "           ^^^^^^^^^^^^^^^^^^^^^^^^\n",
      "  File \"d:\\Users\\semic\\Anaconda3\\envs\\qfi\\Lib\\inspect.py\", line 3191, in _bind\n",
      "    raise TypeError(\n",
      "TypeError: too many positional arguments\n",
      "\n",
      "  warnings.warn(\n"
     ]
    },
    {
     "name": "stdout",
     "output_type": "stream",
     "text": [
      "[CV] END booster=gbtree, learning_rate=0.1, n_estimators=500, num_leaves=20; total time=   1.6s\n"
     ]
    },
    {
     "name": "stderr",
     "output_type": "stream",
     "text": [
      "d:\\Users\\semic\\Anaconda3\\envs\\qfi\\Lib\\site-packages\\sklearn\\model_selection\\_validation.py:982: UserWarning: Scoring failed. The score on this train-test partition for these parameters will be set to nan. Details: \n",
      "Traceback (most recent call last):\n",
      "  File \"d:\\Users\\semic\\Anaconda3\\envs\\qfi\\Lib\\site-packages\\sklearn\\model_selection\\_validation.py\", line 971, in _score\n",
      "    scores = scorer(estimator, X_test, y_test, **score_params)\n",
      "             ^^^^^^^^^^^^^^^^^^^^^^^^^^^^^^^^^^^^^^^^^^^^^^^^^\n",
      "  File \"d:\\Users\\semic\\Anaconda3\\envs\\qfi\\Lib\\site-packages\\sklearn\\utils\\_param_validation.py\", line 191, in wrapper\n",
      "    params = func_sig.bind(*args, **kwargs)\n",
      "             ^^^^^^^^^^^^^^^^^^^^^^^^^^^^^^\n",
      "  File \"d:\\Users\\semic\\Anaconda3\\envs\\qfi\\Lib\\inspect.py\", line 3267, in bind\n",
      "    return self._bind(args, kwargs)\n",
      "           ^^^^^^^^^^^^^^^^^^^^^^^^\n",
      "  File \"d:\\Users\\semic\\Anaconda3\\envs\\qfi\\Lib\\inspect.py\", line 3191, in _bind\n",
      "    raise TypeError(\n",
      "TypeError: too many positional arguments\n",
      "\n",
      "  warnings.warn(\n"
     ]
    },
    {
     "name": "stdout",
     "output_type": "stream",
     "text": [
      "[CV] END booster=gbtree, learning_rate=0.1, n_estimators=500, num_leaves=20; total time=   1.5s\n"
     ]
    },
    {
     "name": "stderr",
     "output_type": "stream",
     "text": [
      "d:\\Users\\semic\\Anaconda3\\envs\\qfi\\Lib\\site-packages\\sklearn\\model_selection\\_validation.py:982: UserWarning: Scoring failed. The score on this train-test partition for these parameters will be set to nan. Details: \n",
      "Traceback (most recent call last):\n",
      "  File \"d:\\Users\\semic\\Anaconda3\\envs\\qfi\\Lib\\site-packages\\sklearn\\model_selection\\_validation.py\", line 971, in _score\n",
      "    scores = scorer(estimator, X_test, y_test, **score_params)\n",
      "             ^^^^^^^^^^^^^^^^^^^^^^^^^^^^^^^^^^^^^^^^^^^^^^^^^\n",
      "  File \"d:\\Users\\semic\\Anaconda3\\envs\\qfi\\Lib\\site-packages\\sklearn\\utils\\_param_validation.py\", line 191, in wrapper\n",
      "    params = func_sig.bind(*args, **kwargs)\n",
      "             ^^^^^^^^^^^^^^^^^^^^^^^^^^^^^^\n",
      "  File \"d:\\Users\\semic\\Anaconda3\\envs\\qfi\\Lib\\inspect.py\", line 3267, in bind\n",
      "    return self._bind(args, kwargs)\n",
      "           ^^^^^^^^^^^^^^^^^^^^^^^^\n",
      "  File \"d:\\Users\\semic\\Anaconda3\\envs\\qfi\\Lib\\inspect.py\", line 3191, in _bind\n",
      "    raise TypeError(\n",
      "TypeError: too many positional arguments\n",
      "\n",
      "  warnings.warn(\n"
     ]
    },
    {
     "name": "stdout",
     "output_type": "stream",
     "text": [
      "[CV] END booster=gbtree, learning_rate=0.1, n_estimators=500, num_leaves=20; total time=   1.4s\n"
     ]
    },
    {
     "name": "stderr",
     "output_type": "stream",
     "text": [
      "d:\\Users\\semic\\Anaconda3\\envs\\qfi\\Lib\\site-packages\\sklearn\\model_selection\\_validation.py:982: UserWarning: Scoring failed. The score on this train-test partition for these parameters will be set to nan. Details: \n",
      "Traceback (most recent call last):\n",
      "  File \"d:\\Users\\semic\\Anaconda3\\envs\\qfi\\Lib\\site-packages\\sklearn\\model_selection\\_validation.py\", line 971, in _score\n",
      "    scores = scorer(estimator, X_test, y_test, **score_params)\n",
      "             ^^^^^^^^^^^^^^^^^^^^^^^^^^^^^^^^^^^^^^^^^^^^^^^^^\n",
      "  File \"d:\\Users\\semic\\Anaconda3\\envs\\qfi\\Lib\\site-packages\\sklearn\\utils\\_param_validation.py\", line 191, in wrapper\n",
      "    params = func_sig.bind(*args, **kwargs)\n",
      "             ^^^^^^^^^^^^^^^^^^^^^^^^^^^^^^\n",
      "  File \"d:\\Users\\semic\\Anaconda3\\envs\\qfi\\Lib\\inspect.py\", line 3267, in bind\n",
      "    return self._bind(args, kwargs)\n",
      "           ^^^^^^^^^^^^^^^^^^^^^^^^\n",
      "  File \"d:\\Users\\semic\\Anaconda3\\envs\\qfi\\Lib\\inspect.py\", line 3191, in _bind\n",
      "    raise TypeError(\n",
      "TypeError: too many positional arguments\n",
      "\n",
      "  warnings.warn(\n"
     ]
    },
    {
     "name": "stdout",
     "output_type": "stream",
     "text": [
      "[CV] END booster=gbtree, learning_rate=0.1, n_estimators=500, num_leaves=20; total time=   1.3s\n"
     ]
    },
    {
     "name": "stderr",
     "output_type": "stream",
     "text": [
      "d:\\Users\\semic\\Anaconda3\\envs\\qfi\\Lib\\site-packages\\sklearn\\model_selection\\_validation.py:982: UserWarning: Scoring failed. The score on this train-test partition for these parameters will be set to nan. Details: \n",
      "Traceback (most recent call last):\n",
      "  File \"d:\\Users\\semic\\Anaconda3\\envs\\qfi\\Lib\\site-packages\\sklearn\\model_selection\\_validation.py\", line 971, in _score\n",
      "    scores = scorer(estimator, X_test, y_test, **score_params)\n",
      "             ^^^^^^^^^^^^^^^^^^^^^^^^^^^^^^^^^^^^^^^^^^^^^^^^^\n",
      "  File \"d:\\Users\\semic\\Anaconda3\\envs\\qfi\\Lib\\site-packages\\sklearn\\utils\\_param_validation.py\", line 191, in wrapper\n",
      "    params = func_sig.bind(*args, **kwargs)\n",
      "             ^^^^^^^^^^^^^^^^^^^^^^^^^^^^^^\n",
      "  File \"d:\\Users\\semic\\Anaconda3\\envs\\qfi\\Lib\\inspect.py\", line 3267, in bind\n",
      "    return self._bind(args, kwargs)\n",
      "           ^^^^^^^^^^^^^^^^^^^^^^^^\n",
      "  File \"d:\\Users\\semic\\Anaconda3\\envs\\qfi\\Lib\\inspect.py\", line 3191, in _bind\n",
      "    raise TypeError(\n",
      "TypeError: too many positional arguments\n",
      "\n",
      "  warnings.warn(\n"
     ]
    },
    {
     "name": "stdout",
     "output_type": "stream",
     "text": [
      "[CV] END booster=gbtree, learning_rate=0.1, n_estimators=500, num_leaves=31; total time=   1.4s\n"
     ]
    },
    {
     "name": "stderr",
     "output_type": "stream",
     "text": [
      "d:\\Users\\semic\\Anaconda3\\envs\\qfi\\Lib\\site-packages\\sklearn\\model_selection\\_validation.py:982: UserWarning: Scoring failed. The score on this train-test partition for these parameters will be set to nan. Details: \n",
      "Traceback (most recent call last):\n",
      "  File \"d:\\Users\\semic\\Anaconda3\\envs\\qfi\\Lib\\site-packages\\sklearn\\model_selection\\_validation.py\", line 971, in _score\n",
      "    scores = scorer(estimator, X_test, y_test, **score_params)\n",
      "             ^^^^^^^^^^^^^^^^^^^^^^^^^^^^^^^^^^^^^^^^^^^^^^^^^\n",
      "  File \"d:\\Users\\semic\\Anaconda3\\envs\\qfi\\Lib\\site-packages\\sklearn\\utils\\_param_validation.py\", line 191, in wrapper\n",
      "    params = func_sig.bind(*args, **kwargs)\n",
      "             ^^^^^^^^^^^^^^^^^^^^^^^^^^^^^^\n",
      "  File \"d:\\Users\\semic\\Anaconda3\\envs\\qfi\\Lib\\inspect.py\", line 3267, in bind\n",
      "    return self._bind(args, kwargs)\n",
      "           ^^^^^^^^^^^^^^^^^^^^^^^^\n",
      "  File \"d:\\Users\\semic\\Anaconda3\\envs\\qfi\\Lib\\inspect.py\", line 3191, in _bind\n",
      "    raise TypeError(\n",
      "TypeError: too many positional arguments\n",
      "\n",
      "  warnings.warn(\n"
     ]
    },
    {
     "name": "stdout",
     "output_type": "stream",
     "text": [
      "[CV] END booster=gbtree, learning_rate=0.1, n_estimators=500, num_leaves=31; total time=   1.7s\n"
     ]
    },
    {
     "name": "stderr",
     "output_type": "stream",
     "text": [
      "d:\\Users\\semic\\Anaconda3\\envs\\qfi\\Lib\\site-packages\\sklearn\\model_selection\\_validation.py:982: UserWarning: Scoring failed. The score on this train-test partition for these parameters will be set to nan. Details: \n",
      "Traceback (most recent call last):\n",
      "  File \"d:\\Users\\semic\\Anaconda3\\envs\\qfi\\Lib\\site-packages\\sklearn\\model_selection\\_validation.py\", line 971, in _score\n",
      "    scores = scorer(estimator, X_test, y_test, **score_params)\n",
      "             ^^^^^^^^^^^^^^^^^^^^^^^^^^^^^^^^^^^^^^^^^^^^^^^^^\n",
      "  File \"d:\\Users\\semic\\Anaconda3\\envs\\qfi\\Lib\\site-packages\\sklearn\\utils\\_param_validation.py\", line 191, in wrapper\n",
      "    params = func_sig.bind(*args, **kwargs)\n",
      "             ^^^^^^^^^^^^^^^^^^^^^^^^^^^^^^\n",
      "  File \"d:\\Users\\semic\\Anaconda3\\envs\\qfi\\Lib\\inspect.py\", line 3267, in bind\n",
      "    return self._bind(args, kwargs)\n",
      "           ^^^^^^^^^^^^^^^^^^^^^^^^\n",
      "  File \"d:\\Users\\semic\\Anaconda3\\envs\\qfi\\Lib\\inspect.py\", line 3191, in _bind\n",
      "    raise TypeError(\n",
      "TypeError: too many positional arguments\n",
      "\n",
      "  warnings.warn(\n"
     ]
    },
    {
     "name": "stdout",
     "output_type": "stream",
     "text": [
      "[CV] END booster=gbtree, learning_rate=0.1, n_estimators=500, num_leaves=31; total time=   1.7s\n"
     ]
    },
    {
     "name": "stderr",
     "output_type": "stream",
     "text": [
      "d:\\Users\\semic\\Anaconda3\\envs\\qfi\\Lib\\site-packages\\sklearn\\model_selection\\_validation.py:982: UserWarning: Scoring failed. The score on this train-test partition for these parameters will be set to nan. Details: \n",
      "Traceback (most recent call last):\n",
      "  File \"d:\\Users\\semic\\Anaconda3\\envs\\qfi\\Lib\\site-packages\\sklearn\\model_selection\\_validation.py\", line 971, in _score\n",
      "    scores = scorer(estimator, X_test, y_test, **score_params)\n",
      "             ^^^^^^^^^^^^^^^^^^^^^^^^^^^^^^^^^^^^^^^^^^^^^^^^^\n",
      "  File \"d:\\Users\\semic\\Anaconda3\\envs\\qfi\\Lib\\site-packages\\sklearn\\utils\\_param_validation.py\", line 191, in wrapper\n",
      "    params = func_sig.bind(*args, **kwargs)\n",
      "             ^^^^^^^^^^^^^^^^^^^^^^^^^^^^^^\n",
      "  File \"d:\\Users\\semic\\Anaconda3\\envs\\qfi\\Lib\\inspect.py\", line 3267, in bind\n",
      "    return self._bind(args, kwargs)\n",
      "           ^^^^^^^^^^^^^^^^^^^^^^^^\n",
      "  File \"d:\\Users\\semic\\Anaconda3\\envs\\qfi\\Lib\\inspect.py\", line 3191, in _bind\n",
      "    raise TypeError(\n",
      "TypeError: too many positional arguments\n",
      "\n",
      "  warnings.warn(\n"
     ]
    },
    {
     "name": "stdout",
     "output_type": "stream",
     "text": [
      "[CV] END booster=gbtree, learning_rate=0.1, n_estimators=500, num_leaves=31; total time=   1.5s\n"
     ]
    },
    {
     "name": "stderr",
     "output_type": "stream",
     "text": [
      "d:\\Users\\semic\\Anaconda3\\envs\\qfi\\Lib\\site-packages\\sklearn\\model_selection\\_validation.py:982: UserWarning: Scoring failed. The score on this train-test partition for these parameters will be set to nan. Details: \n",
      "Traceback (most recent call last):\n",
      "  File \"d:\\Users\\semic\\Anaconda3\\envs\\qfi\\Lib\\site-packages\\sklearn\\model_selection\\_validation.py\", line 971, in _score\n",
      "    scores = scorer(estimator, X_test, y_test, **score_params)\n",
      "             ^^^^^^^^^^^^^^^^^^^^^^^^^^^^^^^^^^^^^^^^^^^^^^^^^\n",
      "  File \"d:\\Users\\semic\\Anaconda3\\envs\\qfi\\Lib\\site-packages\\sklearn\\utils\\_param_validation.py\", line 191, in wrapper\n",
      "    params = func_sig.bind(*args, **kwargs)\n",
      "             ^^^^^^^^^^^^^^^^^^^^^^^^^^^^^^\n",
      "  File \"d:\\Users\\semic\\Anaconda3\\envs\\qfi\\Lib\\inspect.py\", line 3267, in bind\n",
      "    return self._bind(args, kwargs)\n",
      "           ^^^^^^^^^^^^^^^^^^^^^^^^\n",
      "  File \"d:\\Users\\semic\\Anaconda3\\envs\\qfi\\Lib\\inspect.py\", line 3191, in _bind\n",
      "    raise TypeError(\n",
      "TypeError: too many positional arguments\n",
      "\n",
      "  warnings.warn(\n"
     ]
    },
    {
     "name": "stdout",
     "output_type": "stream",
     "text": [
      "[CV] END booster=gbtree, learning_rate=0.1, n_estimators=500, num_leaves=31; total time=   1.4s\n"
     ]
    },
    {
     "name": "stderr",
     "output_type": "stream",
     "text": [
      "d:\\Users\\semic\\Anaconda3\\envs\\qfi\\Lib\\site-packages\\sklearn\\model_selection\\_validation.py:982: UserWarning: Scoring failed. The score on this train-test partition for these parameters will be set to nan. Details: \n",
      "Traceback (most recent call last):\n",
      "  File \"d:\\Users\\semic\\Anaconda3\\envs\\qfi\\Lib\\site-packages\\sklearn\\model_selection\\_validation.py\", line 971, in _score\n",
      "    scores = scorer(estimator, X_test, y_test, **score_params)\n",
      "             ^^^^^^^^^^^^^^^^^^^^^^^^^^^^^^^^^^^^^^^^^^^^^^^^^\n",
      "  File \"d:\\Users\\semic\\Anaconda3\\envs\\qfi\\Lib\\site-packages\\sklearn\\utils\\_param_validation.py\", line 191, in wrapper\n",
      "    params = func_sig.bind(*args, **kwargs)\n",
      "             ^^^^^^^^^^^^^^^^^^^^^^^^^^^^^^\n",
      "  File \"d:\\Users\\semic\\Anaconda3\\envs\\qfi\\Lib\\inspect.py\", line 3267, in bind\n",
      "    return self._bind(args, kwargs)\n",
      "           ^^^^^^^^^^^^^^^^^^^^^^^^\n",
      "  File \"d:\\Users\\semic\\Anaconda3\\envs\\qfi\\Lib\\inspect.py\", line 3191, in _bind\n",
      "    raise TypeError(\n",
      "TypeError: too many positional arguments\n",
      "\n",
      "  warnings.warn(\n"
     ]
    },
    {
     "name": "stdout",
     "output_type": "stream",
     "text": [
      "[CV] END booster=gbtree, learning_rate=0.1, n_estimators=500, num_leaves=50; total time=   1.4s\n"
     ]
    },
    {
     "name": "stderr",
     "output_type": "stream",
     "text": [
      "d:\\Users\\semic\\Anaconda3\\envs\\qfi\\Lib\\site-packages\\sklearn\\model_selection\\_validation.py:982: UserWarning: Scoring failed. The score on this train-test partition for these parameters will be set to nan. Details: \n",
      "Traceback (most recent call last):\n",
      "  File \"d:\\Users\\semic\\Anaconda3\\envs\\qfi\\Lib\\site-packages\\sklearn\\model_selection\\_validation.py\", line 971, in _score\n",
      "    scores = scorer(estimator, X_test, y_test, **score_params)\n",
      "             ^^^^^^^^^^^^^^^^^^^^^^^^^^^^^^^^^^^^^^^^^^^^^^^^^\n",
      "  File \"d:\\Users\\semic\\Anaconda3\\envs\\qfi\\Lib\\site-packages\\sklearn\\utils\\_param_validation.py\", line 191, in wrapper\n",
      "    params = func_sig.bind(*args, **kwargs)\n",
      "             ^^^^^^^^^^^^^^^^^^^^^^^^^^^^^^\n",
      "  File \"d:\\Users\\semic\\Anaconda3\\envs\\qfi\\Lib\\inspect.py\", line 3267, in bind\n",
      "    return self._bind(args, kwargs)\n",
      "           ^^^^^^^^^^^^^^^^^^^^^^^^\n",
      "  File \"d:\\Users\\semic\\Anaconda3\\envs\\qfi\\Lib\\inspect.py\", line 3191, in _bind\n",
      "    raise TypeError(\n",
      "TypeError: too many positional arguments\n",
      "\n",
      "  warnings.warn(\n"
     ]
    },
    {
     "name": "stdout",
     "output_type": "stream",
     "text": [
      "[CV] END booster=gbtree, learning_rate=0.1, n_estimators=500, num_leaves=50; total time=   1.4s\n"
     ]
    },
    {
     "name": "stderr",
     "output_type": "stream",
     "text": [
      "d:\\Users\\semic\\Anaconda3\\envs\\qfi\\Lib\\site-packages\\sklearn\\model_selection\\_validation.py:982: UserWarning: Scoring failed. The score on this train-test partition for these parameters will be set to nan. Details: \n",
      "Traceback (most recent call last):\n",
      "  File \"d:\\Users\\semic\\Anaconda3\\envs\\qfi\\Lib\\site-packages\\sklearn\\model_selection\\_validation.py\", line 971, in _score\n",
      "    scores = scorer(estimator, X_test, y_test, **score_params)\n",
      "             ^^^^^^^^^^^^^^^^^^^^^^^^^^^^^^^^^^^^^^^^^^^^^^^^^\n",
      "  File \"d:\\Users\\semic\\Anaconda3\\envs\\qfi\\Lib\\site-packages\\sklearn\\utils\\_param_validation.py\", line 191, in wrapper\n",
      "    params = func_sig.bind(*args, **kwargs)\n",
      "             ^^^^^^^^^^^^^^^^^^^^^^^^^^^^^^\n",
      "  File \"d:\\Users\\semic\\Anaconda3\\envs\\qfi\\Lib\\inspect.py\", line 3267, in bind\n",
      "    return self._bind(args, kwargs)\n",
      "           ^^^^^^^^^^^^^^^^^^^^^^^^\n",
      "  File \"d:\\Users\\semic\\Anaconda3\\envs\\qfi\\Lib\\inspect.py\", line 3191, in _bind\n",
      "    raise TypeError(\n",
      "TypeError: too many positional arguments\n",
      "\n",
      "  warnings.warn(\n"
     ]
    },
    {
     "name": "stdout",
     "output_type": "stream",
     "text": [
      "[CV] END booster=gbtree, learning_rate=0.1, n_estimators=500, num_leaves=50; total time=   1.3s\n"
     ]
    },
    {
     "name": "stderr",
     "output_type": "stream",
     "text": [
      "d:\\Users\\semic\\Anaconda3\\envs\\qfi\\Lib\\site-packages\\sklearn\\model_selection\\_validation.py:982: UserWarning: Scoring failed. The score on this train-test partition for these parameters will be set to nan. Details: \n",
      "Traceback (most recent call last):\n",
      "  File \"d:\\Users\\semic\\Anaconda3\\envs\\qfi\\Lib\\site-packages\\sklearn\\model_selection\\_validation.py\", line 971, in _score\n",
      "    scores = scorer(estimator, X_test, y_test, **score_params)\n",
      "             ^^^^^^^^^^^^^^^^^^^^^^^^^^^^^^^^^^^^^^^^^^^^^^^^^\n",
      "  File \"d:\\Users\\semic\\Anaconda3\\envs\\qfi\\Lib\\site-packages\\sklearn\\utils\\_param_validation.py\", line 191, in wrapper\n",
      "    params = func_sig.bind(*args, **kwargs)\n",
      "             ^^^^^^^^^^^^^^^^^^^^^^^^^^^^^^\n",
      "  File \"d:\\Users\\semic\\Anaconda3\\envs\\qfi\\Lib\\inspect.py\", line 3267, in bind\n",
      "    return self._bind(args, kwargs)\n",
      "           ^^^^^^^^^^^^^^^^^^^^^^^^\n",
      "  File \"d:\\Users\\semic\\Anaconda3\\envs\\qfi\\Lib\\inspect.py\", line 3191, in _bind\n",
      "    raise TypeError(\n",
      "TypeError: too many positional arguments\n",
      "\n",
      "  warnings.warn(\n"
     ]
    },
    {
     "name": "stdout",
     "output_type": "stream",
     "text": [
      "[CV] END booster=gbtree, learning_rate=0.1, n_estimators=500, num_leaves=50; total time=   1.7s\n"
     ]
    },
    {
     "name": "stderr",
     "output_type": "stream",
     "text": [
      "d:\\Users\\semic\\Anaconda3\\envs\\qfi\\Lib\\site-packages\\sklearn\\model_selection\\_validation.py:982: UserWarning: Scoring failed. The score on this train-test partition for these parameters will be set to nan. Details: \n",
      "Traceback (most recent call last):\n",
      "  File \"d:\\Users\\semic\\Anaconda3\\envs\\qfi\\Lib\\site-packages\\sklearn\\model_selection\\_validation.py\", line 971, in _score\n",
      "    scores = scorer(estimator, X_test, y_test, **score_params)\n",
      "             ^^^^^^^^^^^^^^^^^^^^^^^^^^^^^^^^^^^^^^^^^^^^^^^^^\n",
      "  File \"d:\\Users\\semic\\Anaconda3\\envs\\qfi\\Lib\\site-packages\\sklearn\\utils\\_param_validation.py\", line 191, in wrapper\n",
      "    params = func_sig.bind(*args, **kwargs)\n",
      "             ^^^^^^^^^^^^^^^^^^^^^^^^^^^^^^\n",
      "  File \"d:\\Users\\semic\\Anaconda3\\envs\\qfi\\Lib\\inspect.py\", line 3267, in bind\n",
      "    return self._bind(args, kwargs)\n",
      "           ^^^^^^^^^^^^^^^^^^^^^^^^\n",
      "  File \"d:\\Users\\semic\\Anaconda3\\envs\\qfi\\Lib\\inspect.py\", line 3191, in _bind\n",
      "    raise TypeError(\n",
      "TypeError: too many positional arguments\n",
      "\n",
      "  warnings.warn(\n",
      "d:\\Users\\semic\\Anaconda3\\envs\\qfi\\Lib\\site-packages\\sklearn\\model_selection\\_search.py:1102: UserWarning: One or more of the test scores are non-finite: [nan nan nan nan nan nan nan nan nan nan nan nan nan nan nan nan nan nan\n",
      " nan nan nan nan nan nan nan nan nan]\n",
      "  warnings.warn(\n"
     ]
    },
    {
     "name": "stdout",
     "output_type": "stream",
     "text": [
      "[CV] END booster=gbtree, learning_rate=0.1, n_estimators=500, num_leaves=50; total time=   1.8s\n"
     ]
    },
    {
     "data": {
      "text/html": [
       "<style>#sk-container-id-4 {\n",
       "  /* Definition of color scheme common for light and dark mode */\n",
       "  --sklearn-color-text: black;\n",
       "  --sklearn-color-line: gray;\n",
       "  /* Definition of color scheme for unfitted estimators */\n",
       "  --sklearn-color-unfitted-level-0: #fff5e6;\n",
       "  --sklearn-color-unfitted-level-1: #f6e4d2;\n",
       "  --sklearn-color-unfitted-level-2: #ffe0b3;\n",
       "  --sklearn-color-unfitted-level-3: chocolate;\n",
       "  /* Definition of color scheme for fitted estimators */\n",
       "  --sklearn-color-fitted-level-0: #f0f8ff;\n",
       "  --sklearn-color-fitted-level-1: #d4ebff;\n",
       "  --sklearn-color-fitted-level-2: #b3dbfd;\n",
       "  --sklearn-color-fitted-level-3: cornflowerblue;\n",
       "\n",
       "  /* Specific color for light theme */\n",
       "  --sklearn-color-text-on-default-background: var(--sg-text-color, var(--theme-code-foreground, var(--jp-content-font-color1, black)));\n",
       "  --sklearn-color-background: var(--sg-background-color, var(--theme-background, var(--jp-layout-color0, white)));\n",
       "  --sklearn-color-border-box: var(--sg-text-color, var(--theme-code-foreground, var(--jp-content-font-color1, black)));\n",
       "  --sklearn-color-icon: #696969;\n",
       "\n",
       "  @media (prefers-color-scheme: dark) {\n",
       "    /* Redefinition of color scheme for dark theme */\n",
       "    --sklearn-color-text-on-default-background: var(--sg-text-color, var(--theme-code-foreground, var(--jp-content-font-color1, white)));\n",
       "    --sklearn-color-background: var(--sg-background-color, var(--theme-background, var(--jp-layout-color0, #111)));\n",
       "    --sklearn-color-border-box: var(--sg-text-color, var(--theme-code-foreground, var(--jp-content-font-color1, white)));\n",
       "    --sklearn-color-icon: #878787;\n",
       "  }\n",
       "}\n",
       "\n",
       "#sk-container-id-4 {\n",
       "  color: var(--sklearn-color-text);\n",
       "}\n",
       "\n",
       "#sk-container-id-4 pre {\n",
       "  padding: 0;\n",
       "}\n",
       "\n",
       "#sk-container-id-4 input.sk-hidden--visually {\n",
       "  border: 0;\n",
       "  clip: rect(1px 1px 1px 1px);\n",
       "  clip: rect(1px, 1px, 1px, 1px);\n",
       "  height: 1px;\n",
       "  margin: -1px;\n",
       "  overflow: hidden;\n",
       "  padding: 0;\n",
       "  position: absolute;\n",
       "  width: 1px;\n",
       "}\n",
       "\n",
       "#sk-container-id-4 div.sk-dashed-wrapped {\n",
       "  border: 1px dashed var(--sklearn-color-line);\n",
       "  margin: 0 0.4em 0.5em 0.4em;\n",
       "  box-sizing: border-box;\n",
       "  padding-bottom: 0.4em;\n",
       "  background-color: var(--sklearn-color-background);\n",
       "}\n",
       "\n",
       "#sk-container-id-4 div.sk-container {\n",
       "  /* jupyter's `normalize.less` sets `[hidden] { display: none; }`\n",
       "     but bootstrap.min.css set `[hidden] { display: none !important; }`\n",
       "     so we also need the `!important` here to be able to override the\n",
       "     default hidden behavior on the sphinx rendered scikit-learn.org.\n",
       "     See: https://github.com/scikit-learn/scikit-learn/issues/21755 */\n",
       "  display: inline-block !important;\n",
       "  position: relative;\n",
       "}\n",
       "\n",
       "#sk-container-id-4 div.sk-text-repr-fallback {\n",
       "  display: none;\n",
       "}\n",
       "\n",
       "div.sk-parallel-item,\n",
       "div.sk-serial,\n",
       "div.sk-item {\n",
       "  /* draw centered vertical line to link estimators */\n",
       "  background-image: linear-gradient(var(--sklearn-color-text-on-default-background), var(--sklearn-color-text-on-default-background));\n",
       "  background-size: 2px 100%;\n",
       "  background-repeat: no-repeat;\n",
       "  background-position: center center;\n",
       "}\n",
       "\n",
       "/* Parallel-specific style estimator block */\n",
       "\n",
       "#sk-container-id-4 div.sk-parallel-item::after {\n",
       "  content: \"\";\n",
       "  width: 100%;\n",
       "  border-bottom: 2px solid var(--sklearn-color-text-on-default-background);\n",
       "  flex-grow: 1;\n",
       "}\n",
       "\n",
       "#sk-container-id-4 div.sk-parallel {\n",
       "  display: flex;\n",
       "  align-items: stretch;\n",
       "  justify-content: center;\n",
       "  background-color: var(--sklearn-color-background);\n",
       "  position: relative;\n",
       "}\n",
       "\n",
       "#sk-container-id-4 div.sk-parallel-item {\n",
       "  display: flex;\n",
       "  flex-direction: column;\n",
       "}\n",
       "\n",
       "#sk-container-id-4 div.sk-parallel-item:first-child::after {\n",
       "  align-self: flex-end;\n",
       "  width: 50%;\n",
       "}\n",
       "\n",
       "#sk-container-id-4 div.sk-parallel-item:last-child::after {\n",
       "  align-self: flex-start;\n",
       "  width: 50%;\n",
       "}\n",
       "\n",
       "#sk-container-id-4 div.sk-parallel-item:only-child::after {\n",
       "  width: 0;\n",
       "}\n",
       "\n",
       "/* Serial-specific style estimator block */\n",
       "\n",
       "#sk-container-id-4 div.sk-serial {\n",
       "  display: flex;\n",
       "  flex-direction: column;\n",
       "  align-items: center;\n",
       "  background-color: var(--sklearn-color-background);\n",
       "  padding-right: 1em;\n",
       "  padding-left: 1em;\n",
       "}\n",
       "\n",
       "\n",
       "/* Toggleable style: style used for estimator/Pipeline/ColumnTransformer box that is\n",
       "clickable and can be expanded/collapsed.\n",
       "- Pipeline and ColumnTransformer use this feature and define the default style\n",
       "- Estimators will overwrite some part of the style using the `sk-estimator` class\n",
       "*/\n",
       "\n",
       "/* Pipeline and ColumnTransformer style (default) */\n",
       "\n",
       "#sk-container-id-4 div.sk-toggleable {\n",
       "  /* Default theme specific background. It is overwritten whether we have a\n",
       "  specific estimator or a Pipeline/ColumnTransformer */\n",
       "  background-color: var(--sklearn-color-background);\n",
       "}\n",
       "\n",
       "/* Toggleable label */\n",
       "#sk-container-id-4 label.sk-toggleable__label {\n",
       "  cursor: pointer;\n",
       "  display: block;\n",
       "  width: 100%;\n",
       "  margin-bottom: 0;\n",
       "  padding: 0.5em;\n",
       "  box-sizing: border-box;\n",
       "  text-align: center;\n",
       "}\n",
       "\n",
       "#sk-container-id-4 label.sk-toggleable__label-arrow:before {\n",
       "  /* Arrow on the left of the label */\n",
       "  content: \"▸\";\n",
       "  float: left;\n",
       "  margin-right: 0.25em;\n",
       "  color: var(--sklearn-color-icon);\n",
       "}\n",
       "\n",
       "#sk-container-id-4 label.sk-toggleable__label-arrow:hover:before {\n",
       "  color: var(--sklearn-color-text);\n",
       "}\n",
       "\n",
       "/* Toggleable content - dropdown */\n",
       "\n",
       "#sk-container-id-4 div.sk-toggleable__content {\n",
       "  max-height: 0;\n",
       "  max-width: 0;\n",
       "  overflow: hidden;\n",
       "  text-align: left;\n",
       "  /* unfitted */\n",
       "  background-color: var(--sklearn-color-unfitted-level-0);\n",
       "}\n",
       "\n",
       "#sk-container-id-4 div.sk-toggleable__content.fitted {\n",
       "  /* fitted */\n",
       "  background-color: var(--sklearn-color-fitted-level-0);\n",
       "}\n",
       "\n",
       "#sk-container-id-4 div.sk-toggleable__content pre {\n",
       "  margin: 0.2em;\n",
       "  border-radius: 0.25em;\n",
       "  color: var(--sklearn-color-text);\n",
       "  /* unfitted */\n",
       "  background-color: var(--sklearn-color-unfitted-level-0);\n",
       "}\n",
       "\n",
       "#sk-container-id-4 div.sk-toggleable__content.fitted pre {\n",
       "  /* unfitted */\n",
       "  background-color: var(--sklearn-color-fitted-level-0);\n",
       "}\n",
       "\n",
       "#sk-container-id-4 input.sk-toggleable__control:checked~div.sk-toggleable__content {\n",
       "  /* Expand drop-down */\n",
       "  max-height: 200px;\n",
       "  max-width: 100%;\n",
       "  overflow: auto;\n",
       "}\n",
       "\n",
       "#sk-container-id-4 input.sk-toggleable__control:checked~label.sk-toggleable__label-arrow:before {\n",
       "  content: \"▾\";\n",
       "}\n",
       "\n",
       "/* Pipeline/ColumnTransformer-specific style */\n",
       "\n",
       "#sk-container-id-4 div.sk-label input.sk-toggleable__control:checked~label.sk-toggleable__label {\n",
       "  color: var(--sklearn-color-text);\n",
       "  background-color: var(--sklearn-color-unfitted-level-2);\n",
       "}\n",
       "\n",
       "#sk-container-id-4 div.sk-label.fitted input.sk-toggleable__control:checked~label.sk-toggleable__label {\n",
       "  background-color: var(--sklearn-color-fitted-level-2);\n",
       "}\n",
       "\n",
       "/* Estimator-specific style */\n",
       "\n",
       "/* Colorize estimator box */\n",
       "#sk-container-id-4 div.sk-estimator input.sk-toggleable__control:checked~label.sk-toggleable__label {\n",
       "  /* unfitted */\n",
       "  background-color: var(--sklearn-color-unfitted-level-2);\n",
       "}\n",
       "\n",
       "#sk-container-id-4 div.sk-estimator.fitted input.sk-toggleable__control:checked~label.sk-toggleable__label {\n",
       "  /* fitted */\n",
       "  background-color: var(--sklearn-color-fitted-level-2);\n",
       "}\n",
       "\n",
       "#sk-container-id-4 div.sk-label label.sk-toggleable__label,\n",
       "#sk-container-id-4 div.sk-label label {\n",
       "  /* The background is the default theme color */\n",
       "  color: var(--sklearn-color-text-on-default-background);\n",
       "}\n",
       "\n",
       "/* On hover, darken the color of the background */\n",
       "#sk-container-id-4 div.sk-label:hover label.sk-toggleable__label {\n",
       "  color: var(--sklearn-color-text);\n",
       "  background-color: var(--sklearn-color-unfitted-level-2);\n",
       "}\n",
       "\n",
       "/* Label box, darken color on hover, fitted */\n",
       "#sk-container-id-4 div.sk-label.fitted:hover label.sk-toggleable__label.fitted {\n",
       "  color: var(--sklearn-color-text);\n",
       "  background-color: var(--sklearn-color-fitted-level-2);\n",
       "}\n",
       "\n",
       "/* Estimator label */\n",
       "\n",
       "#sk-container-id-4 div.sk-label label {\n",
       "  font-family: monospace;\n",
       "  font-weight: bold;\n",
       "  display: inline-block;\n",
       "  line-height: 1.2em;\n",
       "}\n",
       "\n",
       "#sk-container-id-4 div.sk-label-container {\n",
       "  text-align: center;\n",
       "}\n",
       "\n",
       "/* Estimator-specific */\n",
       "#sk-container-id-4 div.sk-estimator {\n",
       "  font-family: monospace;\n",
       "  border: 1px dotted var(--sklearn-color-border-box);\n",
       "  border-radius: 0.25em;\n",
       "  box-sizing: border-box;\n",
       "  margin-bottom: 0.5em;\n",
       "  /* unfitted */\n",
       "  background-color: var(--sklearn-color-unfitted-level-0);\n",
       "}\n",
       "\n",
       "#sk-container-id-4 div.sk-estimator.fitted {\n",
       "  /* fitted */\n",
       "  background-color: var(--sklearn-color-fitted-level-0);\n",
       "}\n",
       "\n",
       "/* on hover */\n",
       "#sk-container-id-4 div.sk-estimator:hover {\n",
       "  /* unfitted */\n",
       "  background-color: var(--sklearn-color-unfitted-level-2);\n",
       "}\n",
       "\n",
       "#sk-container-id-4 div.sk-estimator.fitted:hover {\n",
       "  /* fitted */\n",
       "  background-color: var(--sklearn-color-fitted-level-2);\n",
       "}\n",
       "\n",
       "/* Specification for estimator info (e.g. \"i\" and \"?\") */\n",
       "\n",
       "/* Common style for \"i\" and \"?\" */\n",
       "\n",
       ".sk-estimator-doc-link,\n",
       "a:link.sk-estimator-doc-link,\n",
       "a:visited.sk-estimator-doc-link {\n",
       "  float: right;\n",
       "  font-size: smaller;\n",
       "  line-height: 1em;\n",
       "  font-family: monospace;\n",
       "  background-color: var(--sklearn-color-background);\n",
       "  border-radius: 1em;\n",
       "  height: 1em;\n",
       "  width: 1em;\n",
       "  text-decoration: none !important;\n",
       "  margin-left: 1ex;\n",
       "  /* unfitted */\n",
       "  border: var(--sklearn-color-unfitted-level-1) 1pt solid;\n",
       "  color: var(--sklearn-color-unfitted-level-1);\n",
       "}\n",
       "\n",
       ".sk-estimator-doc-link.fitted,\n",
       "a:link.sk-estimator-doc-link.fitted,\n",
       "a:visited.sk-estimator-doc-link.fitted {\n",
       "  /* fitted */\n",
       "  border: var(--sklearn-color-fitted-level-1) 1pt solid;\n",
       "  color: var(--sklearn-color-fitted-level-1);\n",
       "}\n",
       "\n",
       "/* On hover */\n",
       "div.sk-estimator:hover .sk-estimator-doc-link:hover,\n",
       ".sk-estimator-doc-link:hover,\n",
       "div.sk-label-container:hover .sk-estimator-doc-link:hover,\n",
       ".sk-estimator-doc-link:hover {\n",
       "  /* unfitted */\n",
       "  background-color: var(--sklearn-color-unfitted-level-3);\n",
       "  color: var(--sklearn-color-background);\n",
       "  text-decoration: none;\n",
       "}\n",
       "\n",
       "div.sk-estimator.fitted:hover .sk-estimator-doc-link.fitted:hover,\n",
       ".sk-estimator-doc-link.fitted:hover,\n",
       "div.sk-label-container:hover .sk-estimator-doc-link.fitted:hover,\n",
       ".sk-estimator-doc-link.fitted:hover {\n",
       "  /* fitted */\n",
       "  background-color: var(--sklearn-color-fitted-level-3);\n",
       "  color: var(--sklearn-color-background);\n",
       "  text-decoration: none;\n",
       "}\n",
       "\n",
       "/* Span, style for the box shown on hovering the info icon */\n",
       ".sk-estimator-doc-link span {\n",
       "  display: none;\n",
       "  z-index: 9999;\n",
       "  position: relative;\n",
       "  font-weight: normal;\n",
       "  right: .2ex;\n",
       "  padding: .5ex;\n",
       "  margin: .5ex;\n",
       "  width: min-content;\n",
       "  min-width: 20ex;\n",
       "  max-width: 50ex;\n",
       "  color: var(--sklearn-color-text);\n",
       "  box-shadow: 2pt 2pt 4pt #999;\n",
       "  /* unfitted */\n",
       "  background: var(--sklearn-color-unfitted-level-0);\n",
       "  border: .5pt solid var(--sklearn-color-unfitted-level-3);\n",
       "}\n",
       "\n",
       ".sk-estimator-doc-link.fitted span {\n",
       "  /* fitted */\n",
       "  background: var(--sklearn-color-fitted-level-0);\n",
       "  border: var(--sklearn-color-fitted-level-3);\n",
       "}\n",
       "\n",
       ".sk-estimator-doc-link:hover span {\n",
       "  display: block;\n",
       "}\n",
       "\n",
       "/* \"?\"-specific style due to the `<a>` HTML tag */\n",
       "\n",
       "#sk-container-id-4 a.estimator_doc_link {\n",
       "  float: right;\n",
       "  font-size: 1rem;\n",
       "  line-height: 1em;\n",
       "  font-family: monospace;\n",
       "  background-color: var(--sklearn-color-background);\n",
       "  border-radius: 1rem;\n",
       "  height: 1rem;\n",
       "  width: 1rem;\n",
       "  text-decoration: none;\n",
       "  /* unfitted */\n",
       "  color: var(--sklearn-color-unfitted-level-1);\n",
       "  border: var(--sklearn-color-unfitted-level-1) 1pt solid;\n",
       "}\n",
       "\n",
       "#sk-container-id-4 a.estimator_doc_link.fitted {\n",
       "  /* fitted */\n",
       "  border: var(--sklearn-color-fitted-level-1) 1pt solid;\n",
       "  color: var(--sklearn-color-fitted-level-1);\n",
       "}\n",
       "\n",
       "/* On hover */\n",
       "#sk-container-id-4 a.estimator_doc_link:hover {\n",
       "  /* unfitted */\n",
       "  background-color: var(--sklearn-color-unfitted-level-3);\n",
       "  color: var(--sklearn-color-background);\n",
       "  text-decoration: none;\n",
       "}\n",
       "\n",
       "#sk-container-id-4 a.estimator_doc_link.fitted:hover {\n",
       "  /* fitted */\n",
       "  background-color: var(--sklearn-color-fitted-level-3);\n",
       "}\n",
       "</style><div id=\"sk-container-id-4\" class=\"sk-top-container\"><div class=\"sk-text-repr-fallback\"><pre>RandomizedSearchCV(cv=5,\n",
       "                   estimator=XGBRegressor(base_score=None, booster=None,\n",
       "                                          callbacks=None,\n",
       "                                          colsample_bylevel=None,\n",
       "                                          colsample_bynode=None,\n",
       "                                          colsample_bytree=None, device=None,\n",
       "                                          early_stopping_rounds=None,\n",
       "                                          enable_categorical=False,\n",
       "                                          eval_metric=None, feature_types=None,\n",
       "                                          gamma=None, grow_policy=None,\n",
       "                                          importance_type=None,\n",
       "                                          interaction_constraints=None,\n",
       "                                          learning_rate=...\n",
       "                                          monotone_constraints=None,\n",
       "                                          multi_strategy=None,\n",
       "                                          n_estimators=None, n_jobs=None,\n",
       "                                          num_parallel_tree=None,\n",
       "                                          random_state=None, ...),\n",
       "                   n_iter=50,\n",
       "                   param_distributions={&#x27;booster&#x27;: [&#x27;gbtree&#x27;],\n",
       "                                        &#x27;learning_rate&#x27;: [0.01, 0.05, 0.1],\n",
       "                                        &#x27;n_estimators&#x27;: [100, 200, 500],\n",
       "                                        &#x27;num_leaves&#x27;: [20, 31, 50]},\n",
       "                   random_state=42,\n",
       "                   scoring=&lt;function mean_absolute_percentage_error at 0x0000020EEC4E9D00&gt;,\n",
       "                   verbose=2)</pre><b>In a Jupyter environment, please rerun this cell to show the HTML representation or trust the notebook. <br />On GitHub, the HTML representation is unable to render, please try loading this page with nbviewer.org.</b></div><div class=\"sk-container\" hidden><div class=\"sk-item sk-dashed-wrapped\"><div class=\"sk-label-container\"><div class=\"sk-label fitted sk-toggleable\"><input class=\"sk-toggleable__control sk-hidden--visually\" id=\"sk-estimator-id-6\" type=\"checkbox\" ><label for=\"sk-estimator-id-6\" class=\"sk-toggleable__label fitted sk-toggleable__label-arrow fitted\">&nbsp;&nbsp;RandomizedSearchCV<a class=\"sk-estimator-doc-link fitted\" rel=\"noreferrer\" target=\"_blank\" href=\"https://scikit-learn.org/1.5/modules/generated/sklearn.model_selection.RandomizedSearchCV.html\">?<span>Documentation for RandomizedSearchCV</span></a><span class=\"sk-estimator-doc-link fitted\">i<span>Fitted</span></span></label><div class=\"sk-toggleable__content fitted\"><pre>RandomizedSearchCV(cv=5,\n",
       "                   estimator=XGBRegressor(base_score=None, booster=None,\n",
       "                                          callbacks=None,\n",
       "                                          colsample_bylevel=None,\n",
       "                                          colsample_bynode=None,\n",
       "                                          colsample_bytree=None, device=None,\n",
       "                                          early_stopping_rounds=None,\n",
       "                                          enable_categorical=False,\n",
       "                                          eval_metric=None, feature_types=None,\n",
       "                                          gamma=None, grow_policy=None,\n",
       "                                          importance_type=None,\n",
       "                                          interaction_constraints=None,\n",
       "                                          learning_rate=...\n",
       "                                          monotone_constraints=None,\n",
       "                                          multi_strategy=None,\n",
       "                                          n_estimators=None, n_jobs=None,\n",
       "                                          num_parallel_tree=None,\n",
       "                                          random_state=None, ...),\n",
       "                   n_iter=50,\n",
       "                   param_distributions={&#x27;booster&#x27;: [&#x27;gbtree&#x27;],\n",
       "                                        &#x27;learning_rate&#x27;: [0.01, 0.05, 0.1],\n",
       "                                        &#x27;n_estimators&#x27;: [100, 200, 500],\n",
       "                                        &#x27;num_leaves&#x27;: [20, 31, 50]},\n",
       "                   random_state=42,\n",
       "                   scoring=&lt;function mean_absolute_percentage_error at 0x0000020EEC4E9D00&gt;,\n",
       "                   verbose=2)</pre></div> </div></div><div class=\"sk-parallel\"><div class=\"sk-parallel-item\"><div class=\"sk-item\"><div class=\"sk-label-container\"><div class=\"sk-label fitted sk-toggleable\"><input class=\"sk-toggleable__control sk-hidden--visually\" id=\"sk-estimator-id-7\" type=\"checkbox\" ><label for=\"sk-estimator-id-7\" class=\"sk-toggleable__label fitted sk-toggleable__label-arrow fitted\">best_estimator_: XGBRegressor</label><div class=\"sk-toggleable__content fitted\"><pre>XGBRegressor(base_score=None, booster=&#x27;gbtree&#x27;, callbacks=None,\n",
       "             colsample_bylevel=None, colsample_bynode=None,\n",
       "             colsample_bytree=None, device=None, early_stopping_rounds=None,\n",
       "             enable_categorical=False, eval_metric=None, feature_types=None,\n",
       "             gamma=None, grow_policy=None, importance_type=None,\n",
       "             interaction_constraints=None, learning_rate=0.01, max_bin=None,\n",
       "             max_cat_threshold=None, max_cat_to_onehot=None,\n",
       "             max_delta_step=None, max_depth=None, max_leaves=None,\n",
       "             min_child_weight=None, missing=nan, monotone_constraints=None,\n",
       "             multi_strategy=None, n_estimators=100, n_jobs=None, num_leaves=20,\n",
       "             num_parallel_tree=None, ...)</pre></div> </div></div><div class=\"sk-serial\"><div class=\"sk-item\"><div class=\"sk-estimator fitted sk-toggleable\"><input class=\"sk-toggleable__control sk-hidden--visually\" id=\"sk-estimator-id-8\" type=\"checkbox\" ><label for=\"sk-estimator-id-8\" class=\"sk-toggleable__label fitted sk-toggleable__label-arrow fitted\">XGBRegressor</label><div class=\"sk-toggleable__content fitted\"><pre>XGBRegressor(base_score=None, booster=&#x27;gbtree&#x27;, callbacks=None,\n",
       "             colsample_bylevel=None, colsample_bynode=None,\n",
       "             colsample_bytree=None, device=None, early_stopping_rounds=None,\n",
       "             enable_categorical=False, eval_metric=None, feature_types=None,\n",
       "             gamma=None, grow_policy=None, importance_type=None,\n",
       "             interaction_constraints=None, learning_rate=0.01, max_bin=None,\n",
       "             max_cat_threshold=None, max_cat_to_onehot=None,\n",
       "             max_delta_step=None, max_depth=None, max_leaves=None,\n",
       "             min_child_weight=None, missing=nan, monotone_constraints=None,\n",
       "             multi_strategy=None, n_estimators=100, n_jobs=None, num_leaves=20,\n",
       "             num_parallel_tree=None, ...)</pre></div> </div></div></div></div></div></div></div></div></div>"
      ],
      "text/plain": [
       "RandomizedSearchCV(cv=5,\n",
       "                   estimator=XGBRegressor(base_score=None, booster=None,\n",
       "                                          callbacks=None,\n",
       "                                          colsample_bylevel=None,\n",
       "                                          colsample_bynode=None,\n",
       "                                          colsample_bytree=None, device=None,\n",
       "                                          early_stopping_rounds=None,\n",
       "                                          enable_categorical=False,\n",
       "                                          eval_metric=None, feature_types=None,\n",
       "                                          gamma=None, grow_policy=None,\n",
       "                                          importance_type=None,\n",
       "                                          interaction_constraints=None,\n",
       "                                          learning_rate=...\n",
       "                                          monotone_constraints=None,\n",
       "                                          multi_strategy=None,\n",
       "                                          n_estimators=None, n_jobs=None,\n",
       "                                          num_parallel_tree=None,\n",
       "                                          random_state=None, ...),\n",
       "                   n_iter=50,\n",
       "                   param_distributions={'booster': ['gbtree'],\n",
       "                                        'learning_rate': [0.01, 0.05, 0.1],\n",
       "                                        'n_estimators': [100, 200, 500],\n",
       "                                        'num_leaves': [20, 31, 50]},\n",
       "                   random_state=42,\n",
       "                   scoring=<function mean_absolute_percentage_error at 0x0000020EEC4E9D00>,\n",
       "                   verbose=2)"
      ]
     },
     "execution_count": 21,
     "metadata": {},
     "output_type": "execute_result"
    }
   ],
   "source": [
    "random_search.fit(X_train, y_train)"
   ]
  },
  {
   "cell_type": "code",
   "execution_count": 22,
   "metadata": {},
   "outputs": [
    {
     "data": {
      "text/html": [
       "<style>#sk-container-id-5 {\n",
       "  /* Definition of color scheme common for light and dark mode */\n",
       "  --sklearn-color-text: black;\n",
       "  --sklearn-color-line: gray;\n",
       "  /* Definition of color scheme for unfitted estimators */\n",
       "  --sklearn-color-unfitted-level-0: #fff5e6;\n",
       "  --sklearn-color-unfitted-level-1: #f6e4d2;\n",
       "  --sklearn-color-unfitted-level-2: #ffe0b3;\n",
       "  --sklearn-color-unfitted-level-3: chocolate;\n",
       "  /* Definition of color scheme for fitted estimators */\n",
       "  --sklearn-color-fitted-level-0: #f0f8ff;\n",
       "  --sklearn-color-fitted-level-1: #d4ebff;\n",
       "  --sklearn-color-fitted-level-2: #b3dbfd;\n",
       "  --sklearn-color-fitted-level-3: cornflowerblue;\n",
       "\n",
       "  /* Specific color for light theme */\n",
       "  --sklearn-color-text-on-default-background: var(--sg-text-color, var(--theme-code-foreground, var(--jp-content-font-color1, black)));\n",
       "  --sklearn-color-background: var(--sg-background-color, var(--theme-background, var(--jp-layout-color0, white)));\n",
       "  --sklearn-color-border-box: var(--sg-text-color, var(--theme-code-foreground, var(--jp-content-font-color1, black)));\n",
       "  --sklearn-color-icon: #696969;\n",
       "\n",
       "  @media (prefers-color-scheme: dark) {\n",
       "    /* Redefinition of color scheme for dark theme */\n",
       "    --sklearn-color-text-on-default-background: var(--sg-text-color, var(--theme-code-foreground, var(--jp-content-font-color1, white)));\n",
       "    --sklearn-color-background: var(--sg-background-color, var(--theme-background, var(--jp-layout-color0, #111)));\n",
       "    --sklearn-color-border-box: var(--sg-text-color, var(--theme-code-foreground, var(--jp-content-font-color1, white)));\n",
       "    --sklearn-color-icon: #878787;\n",
       "  }\n",
       "}\n",
       "\n",
       "#sk-container-id-5 {\n",
       "  color: var(--sklearn-color-text);\n",
       "}\n",
       "\n",
       "#sk-container-id-5 pre {\n",
       "  padding: 0;\n",
       "}\n",
       "\n",
       "#sk-container-id-5 input.sk-hidden--visually {\n",
       "  border: 0;\n",
       "  clip: rect(1px 1px 1px 1px);\n",
       "  clip: rect(1px, 1px, 1px, 1px);\n",
       "  height: 1px;\n",
       "  margin: -1px;\n",
       "  overflow: hidden;\n",
       "  padding: 0;\n",
       "  position: absolute;\n",
       "  width: 1px;\n",
       "}\n",
       "\n",
       "#sk-container-id-5 div.sk-dashed-wrapped {\n",
       "  border: 1px dashed var(--sklearn-color-line);\n",
       "  margin: 0 0.4em 0.5em 0.4em;\n",
       "  box-sizing: border-box;\n",
       "  padding-bottom: 0.4em;\n",
       "  background-color: var(--sklearn-color-background);\n",
       "}\n",
       "\n",
       "#sk-container-id-5 div.sk-container {\n",
       "  /* jupyter's `normalize.less` sets `[hidden] { display: none; }`\n",
       "     but bootstrap.min.css set `[hidden] { display: none !important; }`\n",
       "     so we also need the `!important` here to be able to override the\n",
       "     default hidden behavior on the sphinx rendered scikit-learn.org.\n",
       "     See: https://github.com/scikit-learn/scikit-learn/issues/21755 */\n",
       "  display: inline-block !important;\n",
       "  position: relative;\n",
       "}\n",
       "\n",
       "#sk-container-id-5 div.sk-text-repr-fallback {\n",
       "  display: none;\n",
       "}\n",
       "\n",
       "div.sk-parallel-item,\n",
       "div.sk-serial,\n",
       "div.sk-item {\n",
       "  /* draw centered vertical line to link estimators */\n",
       "  background-image: linear-gradient(var(--sklearn-color-text-on-default-background), var(--sklearn-color-text-on-default-background));\n",
       "  background-size: 2px 100%;\n",
       "  background-repeat: no-repeat;\n",
       "  background-position: center center;\n",
       "}\n",
       "\n",
       "/* Parallel-specific style estimator block */\n",
       "\n",
       "#sk-container-id-5 div.sk-parallel-item::after {\n",
       "  content: \"\";\n",
       "  width: 100%;\n",
       "  border-bottom: 2px solid var(--sklearn-color-text-on-default-background);\n",
       "  flex-grow: 1;\n",
       "}\n",
       "\n",
       "#sk-container-id-5 div.sk-parallel {\n",
       "  display: flex;\n",
       "  align-items: stretch;\n",
       "  justify-content: center;\n",
       "  background-color: var(--sklearn-color-background);\n",
       "  position: relative;\n",
       "}\n",
       "\n",
       "#sk-container-id-5 div.sk-parallel-item {\n",
       "  display: flex;\n",
       "  flex-direction: column;\n",
       "}\n",
       "\n",
       "#sk-container-id-5 div.sk-parallel-item:first-child::after {\n",
       "  align-self: flex-end;\n",
       "  width: 50%;\n",
       "}\n",
       "\n",
       "#sk-container-id-5 div.sk-parallel-item:last-child::after {\n",
       "  align-self: flex-start;\n",
       "  width: 50%;\n",
       "}\n",
       "\n",
       "#sk-container-id-5 div.sk-parallel-item:only-child::after {\n",
       "  width: 0;\n",
       "}\n",
       "\n",
       "/* Serial-specific style estimator block */\n",
       "\n",
       "#sk-container-id-5 div.sk-serial {\n",
       "  display: flex;\n",
       "  flex-direction: column;\n",
       "  align-items: center;\n",
       "  background-color: var(--sklearn-color-background);\n",
       "  padding-right: 1em;\n",
       "  padding-left: 1em;\n",
       "}\n",
       "\n",
       "\n",
       "/* Toggleable style: style used for estimator/Pipeline/ColumnTransformer box that is\n",
       "clickable and can be expanded/collapsed.\n",
       "- Pipeline and ColumnTransformer use this feature and define the default style\n",
       "- Estimators will overwrite some part of the style using the `sk-estimator` class\n",
       "*/\n",
       "\n",
       "/* Pipeline and ColumnTransformer style (default) */\n",
       "\n",
       "#sk-container-id-5 div.sk-toggleable {\n",
       "  /* Default theme specific background. It is overwritten whether we have a\n",
       "  specific estimator or a Pipeline/ColumnTransformer */\n",
       "  background-color: var(--sklearn-color-background);\n",
       "}\n",
       "\n",
       "/* Toggleable label */\n",
       "#sk-container-id-5 label.sk-toggleable__label {\n",
       "  cursor: pointer;\n",
       "  display: block;\n",
       "  width: 100%;\n",
       "  margin-bottom: 0;\n",
       "  padding: 0.5em;\n",
       "  box-sizing: border-box;\n",
       "  text-align: center;\n",
       "}\n",
       "\n",
       "#sk-container-id-5 label.sk-toggleable__label-arrow:before {\n",
       "  /* Arrow on the left of the label */\n",
       "  content: \"▸\";\n",
       "  float: left;\n",
       "  margin-right: 0.25em;\n",
       "  color: var(--sklearn-color-icon);\n",
       "}\n",
       "\n",
       "#sk-container-id-5 label.sk-toggleable__label-arrow:hover:before {\n",
       "  color: var(--sklearn-color-text);\n",
       "}\n",
       "\n",
       "/* Toggleable content - dropdown */\n",
       "\n",
       "#sk-container-id-5 div.sk-toggleable__content {\n",
       "  max-height: 0;\n",
       "  max-width: 0;\n",
       "  overflow: hidden;\n",
       "  text-align: left;\n",
       "  /* unfitted */\n",
       "  background-color: var(--sklearn-color-unfitted-level-0);\n",
       "}\n",
       "\n",
       "#sk-container-id-5 div.sk-toggleable__content.fitted {\n",
       "  /* fitted */\n",
       "  background-color: var(--sklearn-color-fitted-level-0);\n",
       "}\n",
       "\n",
       "#sk-container-id-5 div.sk-toggleable__content pre {\n",
       "  margin: 0.2em;\n",
       "  border-radius: 0.25em;\n",
       "  color: var(--sklearn-color-text);\n",
       "  /* unfitted */\n",
       "  background-color: var(--sklearn-color-unfitted-level-0);\n",
       "}\n",
       "\n",
       "#sk-container-id-5 div.sk-toggleable__content.fitted pre {\n",
       "  /* unfitted */\n",
       "  background-color: var(--sklearn-color-fitted-level-0);\n",
       "}\n",
       "\n",
       "#sk-container-id-5 input.sk-toggleable__control:checked~div.sk-toggleable__content {\n",
       "  /* Expand drop-down */\n",
       "  max-height: 200px;\n",
       "  max-width: 100%;\n",
       "  overflow: auto;\n",
       "}\n",
       "\n",
       "#sk-container-id-5 input.sk-toggleable__control:checked~label.sk-toggleable__label-arrow:before {\n",
       "  content: \"▾\";\n",
       "}\n",
       "\n",
       "/* Pipeline/ColumnTransformer-specific style */\n",
       "\n",
       "#sk-container-id-5 div.sk-label input.sk-toggleable__control:checked~label.sk-toggleable__label {\n",
       "  color: var(--sklearn-color-text);\n",
       "  background-color: var(--sklearn-color-unfitted-level-2);\n",
       "}\n",
       "\n",
       "#sk-container-id-5 div.sk-label.fitted input.sk-toggleable__control:checked~label.sk-toggleable__label {\n",
       "  background-color: var(--sklearn-color-fitted-level-2);\n",
       "}\n",
       "\n",
       "/* Estimator-specific style */\n",
       "\n",
       "/* Colorize estimator box */\n",
       "#sk-container-id-5 div.sk-estimator input.sk-toggleable__control:checked~label.sk-toggleable__label {\n",
       "  /* unfitted */\n",
       "  background-color: var(--sklearn-color-unfitted-level-2);\n",
       "}\n",
       "\n",
       "#sk-container-id-5 div.sk-estimator.fitted input.sk-toggleable__control:checked~label.sk-toggleable__label {\n",
       "  /* fitted */\n",
       "  background-color: var(--sklearn-color-fitted-level-2);\n",
       "}\n",
       "\n",
       "#sk-container-id-5 div.sk-label label.sk-toggleable__label,\n",
       "#sk-container-id-5 div.sk-label label {\n",
       "  /* The background is the default theme color */\n",
       "  color: var(--sklearn-color-text-on-default-background);\n",
       "}\n",
       "\n",
       "/* On hover, darken the color of the background */\n",
       "#sk-container-id-5 div.sk-label:hover label.sk-toggleable__label {\n",
       "  color: var(--sklearn-color-text);\n",
       "  background-color: var(--sklearn-color-unfitted-level-2);\n",
       "}\n",
       "\n",
       "/* Label box, darken color on hover, fitted */\n",
       "#sk-container-id-5 div.sk-label.fitted:hover label.sk-toggleable__label.fitted {\n",
       "  color: var(--sklearn-color-text);\n",
       "  background-color: var(--sklearn-color-fitted-level-2);\n",
       "}\n",
       "\n",
       "/* Estimator label */\n",
       "\n",
       "#sk-container-id-5 div.sk-label label {\n",
       "  font-family: monospace;\n",
       "  font-weight: bold;\n",
       "  display: inline-block;\n",
       "  line-height: 1.2em;\n",
       "}\n",
       "\n",
       "#sk-container-id-5 div.sk-label-container {\n",
       "  text-align: center;\n",
       "}\n",
       "\n",
       "/* Estimator-specific */\n",
       "#sk-container-id-5 div.sk-estimator {\n",
       "  font-family: monospace;\n",
       "  border: 1px dotted var(--sklearn-color-border-box);\n",
       "  border-radius: 0.25em;\n",
       "  box-sizing: border-box;\n",
       "  margin-bottom: 0.5em;\n",
       "  /* unfitted */\n",
       "  background-color: var(--sklearn-color-unfitted-level-0);\n",
       "}\n",
       "\n",
       "#sk-container-id-5 div.sk-estimator.fitted {\n",
       "  /* fitted */\n",
       "  background-color: var(--sklearn-color-fitted-level-0);\n",
       "}\n",
       "\n",
       "/* on hover */\n",
       "#sk-container-id-5 div.sk-estimator:hover {\n",
       "  /* unfitted */\n",
       "  background-color: var(--sklearn-color-unfitted-level-2);\n",
       "}\n",
       "\n",
       "#sk-container-id-5 div.sk-estimator.fitted:hover {\n",
       "  /* fitted */\n",
       "  background-color: var(--sklearn-color-fitted-level-2);\n",
       "}\n",
       "\n",
       "/* Specification for estimator info (e.g. \"i\" and \"?\") */\n",
       "\n",
       "/* Common style for \"i\" and \"?\" */\n",
       "\n",
       ".sk-estimator-doc-link,\n",
       "a:link.sk-estimator-doc-link,\n",
       "a:visited.sk-estimator-doc-link {\n",
       "  float: right;\n",
       "  font-size: smaller;\n",
       "  line-height: 1em;\n",
       "  font-family: monospace;\n",
       "  background-color: var(--sklearn-color-background);\n",
       "  border-radius: 1em;\n",
       "  height: 1em;\n",
       "  width: 1em;\n",
       "  text-decoration: none !important;\n",
       "  margin-left: 1ex;\n",
       "  /* unfitted */\n",
       "  border: var(--sklearn-color-unfitted-level-1) 1pt solid;\n",
       "  color: var(--sklearn-color-unfitted-level-1);\n",
       "}\n",
       "\n",
       ".sk-estimator-doc-link.fitted,\n",
       "a:link.sk-estimator-doc-link.fitted,\n",
       "a:visited.sk-estimator-doc-link.fitted {\n",
       "  /* fitted */\n",
       "  border: var(--sklearn-color-fitted-level-1) 1pt solid;\n",
       "  color: var(--sklearn-color-fitted-level-1);\n",
       "}\n",
       "\n",
       "/* On hover */\n",
       "div.sk-estimator:hover .sk-estimator-doc-link:hover,\n",
       ".sk-estimator-doc-link:hover,\n",
       "div.sk-label-container:hover .sk-estimator-doc-link:hover,\n",
       ".sk-estimator-doc-link:hover {\n",
       "  /* unfitted */\n",
       "  background-color: var(--sklearn-color-unfitted-level-3);\n",
       "  color: var(--sklearn-color-background);\n",
       "  text-decoration: none;\n",
       "}\n",
       "\n",
       "div.sk-estimator.fitted:hover .sk-estimator-doc-link.fitted:hover,\n",
       ".sk-estimator-doc-link.fitted:hover,\n",
       "div.sk-label-container:hover .sk-estimator-doc-link.fitted:hover,\n",
       ".sk-estimator-doc-link.fitted:hover {\n",
       "  /* fitted */\n",
       "  background-color: var(--sklearn-color-fitted-level-3);\n",
       "  color: var(--sklearn-color-background);\n",
       "  text-decoration: none;\n",
       "}\n",
       "\n",
       "/* Span, style for the box shown on hovering the info icon */\n",
       ".sk-estimator-doc-link span {\n",
       "  display: none;\n",
       "  z-index: 9999;\n",
       "  position: relative;\n",
       "  font-weight: normal;\n",
       "  right: .2ex;\n",
       "  padding: .5ex;\n",
       "  margin: .5ex;\n",
       "  width: min-content;\n",
       "  min-width: 20ex;\n",
       "  max-width: 50ex;\n",
       "  color: var(--sklearn-color-text);\n",
       "  box-shadow: 2pt 2pt 4pt #999;\n",
       "  /* unfitted */\n",
       "  background: var(--sklearn-color-unfitted-level-0);\n",
       "  border: .5pt solid var(--sklearn-color-unfitted-level-3);\n",
       "}\n",
       "\n",
       ".sk-estimator-doc-link.fitted span {\n",
       "  /* fitted */\n",
       "  background: var(--sklearn-color-fitted-level-0);\n",
       "  border: var(--sklearn-color-fitted-level-3);\n",
       "}\n",
       "\n",
       ".sk-estimator-doc-link:hover span {\n",
       "  display: block;\n",
       "}\n",
       "\n",
       "/* \"?\"-specific style due to the `<a>` HTML tag */\n",
       "\n",
       "#sk-container-id-5 a.estimator_doc_link {\n",
       "  float: right;\n",
       "  font-size: 1rem;\n",
       "  line-height: 1em;\n",
       "  font-family: monospace;\n",
       "  background-color: var(--sklearn-color-background);\n",
       "  border-radius: 1rem;\n",
       "  height: 1rem;\n",
       "  width: 1rem;\n",
       "  text-decoration: none;\n",
       "  /* unfitted */\n",
       "  color: var(--sklearn-color-unfitted-level-1);\n",
       "  border: var(--sklearn-color-unfitted-level-1) 1pt solid;\n",
       "}\n",
       "\n",
       "#sk-container-id-5 a.estimator_doc_link.fitted {\n",
       "  /* fitted */\n",
       "  border: var(--sklearn-color-fitted-level-1) 1pt solid;\n",
       "  color: var(--sklearn-color-fitted-level-1);\n",
       "}\n",
       "\n",
       "/* On hover */\n",
       "#sk-container-id-5 a.estimator_doc_link:hover {\n",
       "  /* unfitted */\n",
       "  background-color: var(--sklearn-color-unfitted-level-3);\n",
       "  color: var(--sklearn-color-background);\n",
       "  text-decoration: none;\n",
       "}\n",
       "\n",
       "#sk-container-id-5 a.estimator_doc_link.fitted:hover {\n",
       "  /* fitted */\n",
       "  background-color: var(--sklearn-color-fitted-level-3);\n",
       "}\n",
       "</style><div id=\"sk-container-id-5\" class=\"sk-top-container\"><div class=\"sk-text-repr-fallback\"><pre>XGBRegressor(base_score=None, booster=&#x27;gbtree&#x27;, callbacks=None,\n",
       "             colsample_bylevel=None, colsample_bynode=None,\n",
       "             colsample_bytree=None, device=None, early_stopping_rounds=None,\n",
       "             enable_categorical=False, eval_metric=None, feature_types=None,\n",
       "             gamma=None, grow_policy=None, importance_type=None,\n",
       "             interaction_constraints=None, learning_rate=0.01, max_bin=None,\n",
       "             max_cat_threshold=None, max_cat_to_onehot=None,\n",
       "             max_delta_step=None, max_depth=None, max_leaves=None,\n",
       "             min_child_weight=None, missing=nan, monotone_constraints=None,\n",
       "             multi_strategy=None, n_estimators=100, n_jobs=None, num_leaves=20,\n",
       "             num_parallel_tree=None, ...)</pre><b>In a Jupyter environment, please rerun this cell to show the HTML representation or trust the notebook. <br />On GitHub, the HTML representation is unable to render, please try loading this page with nbviewer.org.</b></div><div class=\"sk-container\" hidden><div class=\"sk-item\"><div class=\"sk-estimator fitted sk-toggleable\"><input class=\"sk-toggleable__control sk-hidden--visually\" id=\"sk-estimator-id-9\" type=\"checkbox\" checked><label for=\"sk-estimator-id-9\" class=\"sk-toggleable__label fitted sk-toggleable__label-arrow fitted\">&nbsp;XGBRegressor<span class=\"sk-estimator-doc-link fitted\">i<span>Fitted</span></span></label><div class=\"sk-toggleable__content fitted\"><pre>XGBRegressor(base_score=None, booster=&#x27;gbtree&#x27;, callbacks=None,\n",
       "             colsample_bylevel=None, colsample_bynode=None,\n",
       "             colsample_bytree=None, device=None, early_stopping_rounds=None,\n",
       "             enable_categorical=False, eval_metric=None, feature_types=None,\n",
       "             gamma=None, grow_policy=None, importance_type=None,\n",
       "             interaction_constraints=None, learning_rate=0.01, max_bin=None,\n",
       "             max_cat_threshold=None, max_cat_to_onehot=None,\n",
       "             max_delta_step=None, max_depth=None, max_leaves=None,\n",
       "             min_child_weight=None, missing=nan, monotone_constraints=None,\n",
       "             multi_strategy=None, n_estimators=100, n_jobs=None, num_leaves=20,\n",
       "             num_parallel_tree=None, ...)</pre></div> </div></div></div></div>"
      ],
      "text/plain": [
       "XGBRegressor(base_score=None, booster='gbtree', callbacks=None,\n",
       "             colsample_bylevel=None, colsample_bynode=None,\n",
       "             colsample_bytree=None, device=None, early_stopping_rounds=None,\n",
       "             enable_categorical=False, eval_metric=None, feature_types=None,\n",
       "             gamma=None, grow_policy=None, importance_type=None,\n",
       "             interaction_constraints=None, learning_rate=0.01, max_bin=None,\n",
       "             max_cat_threshold=None, max_cat_to_onehot=None,\n",
       "             max_delta_step=None, max_depth=None, max_leaves=None,\n",
       "             min_child_weight=None, missing=nan, monotone_constraints=None,\n",
       "             multi_strategy=None, n_estimators=100, n_jobs=None, num_leaves=20,\n",
       "             num_parallel_tree=None, ...)"
      ]
     },
     "execution_count": 22,
     "metadata": {},
     "output_type": "execute_result"
    }
   ],
   "source": [
    "random_search.best_estimator_"
   ]
  },
  {
   "cell_type": "code",
   "execution_count": 23,
   "metadata": {},
   "outputs": [
    {
     "data": {
      "text/plain": [
       "array([6.8284907, 6.8284907, 6.3294835, ..., 5.857947 , 6.358173 ,\n",
       "       5.667872 ], dtype=float32)"
      ]
     },
     "execution_count": 23,
     "metadata": {},
     "output_type": "execute_result"
    }
   ],
   "source": [
    "y_pred = random_search.predict(X_test)\n",
    "y_pred"
   ]
  },
  {
   "cell_type": "code",
   "execution_count": 24,
   "metadata": {},
   "outputs": [
    {
     "data": {
      "text/plain": [
       "0.4569082514596171"
      ]
     },
     "execution_count": 24,
     "metadata": {},
     "output_type": "execute_result"
    }
   ],
   "source": [
    "mape(np.exp(y_pred), y_test)"
   ]
  },
  {
   "cell_type": "code",
   "execution_count": 25,
   "metadata": {},
   "outputs": [
    {
     "data": {
      "text/plain": [
       "array([923.7955 , 923.7955 , 560.8668 , ..., 350.00482, 577.1908 ,\n",
       "       289.418  ], dtype=float32)"
      ]
     },
     "execution_count": 25,
     "metadata": {},
     "output_type": "execute_result"
    }
   ],
   "source": [
    "np.exp(y_pred)"
   ]
  },
  {
   "cell_type": "code",
   "execution_count": 14,
   "metadata": {},
   "outputs": [
    {
     "data": {
      "text/plain": [
       "6         1837.0\n",
       "11        2212.0\n",
       "16         926.0\n",
       "17         774.0\n",
       "19         450.0\n",
       "           ...  \n",
       "230105     474.0\n",
       "230106    2767.0\n",
       "230118     556.0\n",
       "230123    1052.0\n",
       "230125     466.0\n",
       "Name: num_sold, Length: 44252, dtype: float64"
      ]
     },
     "execution_count": 14,
     "metadata": {},
     "output_type": "execute_result"
    }
   ],
   "source": []
  }
 ],
 "metadata": {
  "kernelspec": {
   "display_name": "qfi",
   "language": "python",
   "name": "python3"
  },
  "language_info": {
   "codemirror_mode": {
    "name": "ipython",
    "version": 3
   },
   "file_extension": ".py",
   "mimetype": "text/x-python",
   "name": "python",
   "nbconvert_exporter": "python",
   "pygments_lexer": "ipython3",
   "version": "3.12.4"
  }
 },
 "nbformat": 4,
 "nbformat_minor": 2
}

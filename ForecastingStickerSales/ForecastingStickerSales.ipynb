{
 "cells": [
  {
   "cell_type": "code",
   "execution_count": 61,
   "metadata": {},
   "outputs": [],
   "source": [
    "import pandas as pd\n",
    "import numpy as np\n",
    "import matplotlib.pyplot as plt\n",
    "import seaborn as sns\n",
    "from datetime import datetime"
   ]
  },
  {
   "cell_type": "code",
   "execution_count": 62,
   "metadata": {},
   "outputs": [
    {
     "data": {
      "text/html": [
       "<div>\n",
       "<style scoped>\n",
       "    .dataframe tbody tr th:only-of-type {\n",
       "        vertical-align: middle;\n",
       "    }\n",
       "\n",
       "    .dataframe tbody tr th {\n",
       "        vertical-align: top;\n",
       "    }\n",
       "\n",
       "    .dataframe thead th {\n",
       "        text-align: right;\n",
       "    }\n",
       "</style>\n",
       "<table border=\"1\" class=\"dataframe\">\n",
       "  <thead>\n",
       "    <tr style=\"text-align: right;\">\n",
       "      <th></th>\n",
       "      <th>id</th>\n",
       "      <th>date</th>\n",
       "      <th>country</th>\n",
       "      <th>store</th>\n",
       "      <th>product</th>\n",
       "      <th>num_sold</th>\n",
       "    </tr>\n",
       "  </thead>\n",
       "  <tbody>\n",
       "    <tr>\n",
       "      <th>0</th>\n",
       "      <td>0</td>\n",
       "      <td>2010-01-01</td>\n",
       "      <td>Canada</td>\n",
       "      <td>Discount Stickers</td>\n",
       "      <td>Holographic Goose</td>\n",
       "      <td>NaN</td>\n",
       "    </tr>\n",
       "    <tr>\n",
       "      <th>1</th>\n",
       "      <td>1</td>\n",
       "      <td>2010-01-01</td>\n",
       "      <td>Canada</td>\n",
       "      <td>Discount Stickers</td>\n",
       "      <td>Kaggle</td>\n",
       "      <td>973.0</td>\n",
       "    </tr>\n",
       "  </tbody>\n",
       "</table>\n",
       "</div>"
      ],
      "text/plain": [
       "   id       date country              store            product  num_sold\n",
       "0   0 2010-01-01  Canada  Discount Stickers  Holographic Goose       NaN\n",
       "1   1 2010-01-01  Canada  Discount Stickers             Kaggle     973.0"
      ]
     },
     "execution_count": 62,
     "metadata": {},
     "output_type": "execute_result"
    }
   ],
   "source": [
    "df = pd.read_csv(\"train.csv\", parse_dates=[\"date\"])\n",
    "df.head(2)"
   ]
  },
  {
   "cell_type": "code",
   "execution_count": 63,
   "metadata": {},
   "outputs": [],
   "source": [
    "df = df[df[\"num_sold\"].notna()]\n",
    "df = pd.get_dummies(df, dtype=int)\n",
    "df[\"date\"] = (df[\"date\"] - df[\"date\"].min()).dt.days"
   ]
  },
  {
   "cell_type": "code",
   "execution_count": 65,
   "metadata": {},
   "outputs": [],
   "source": [
    "# train test split\n",
    "train = df.sample(frac=0.8, random_state=42)\n",
    "test = df.drop(train.index)\n",
    "X_train, y_train = train.drop('num_sold', axis=1), train['num_sold']\n",
    "X_test, y_test = test.drop('num_sold', axis=1), test['num_sold']"
   ]
  },
  {
   "cell_type": "code",
   "execution_count": null,
   "metadata": {},
   "outputs": [
    {
     "name": "stdout",
     "output_type": "stream",
     "text": [
      "Fitting 4 folds for each of 5 candidates, totalling 20 fits\n"
     ]
    }
   ],
   "source": [
    "# lasso pipeline\n",
    "from sklearn.pipeline import Pipeline\n",
    "from sklearn.model_selection import GridSearchCV\n",
    "from sklearn.preprocessing import StandardScaler, FunctionTransformer\n",
    "from sklearn.linear_model import LinearRegression, Lasso, Ridge\n",
    "\n",
    "param_grid = {\n",
    "    \"model__alpha\": np.logspace(-2, 1, num=5)\n",
    "}\n",
    "\n",
    "sqrt_transform = FunctionTransformer(np.sqrt, inverse_func=np.square)\n",
    "\n",
    "lasso_pipe = Pipeline([\n",
    "    (\"shift\", sqrt_transform),\n",
    "    (\"scaler\", StandardScaler()),\n",
    "    (\"model\", Lasso())\n",
    "])\n",
    "\n",
    "lasso_search = GridSearchCV(lasso_pipe, param_grid, cv=4, scoring=\"neg_mean_squared_error\", verbose=1)\n",
    "lasso_search.fit(X_train, y_train)\n",
    "lasso_rmse = np.sqrt(-lasso_search.best_score_)\n",
    "lasso_rmse"
   ]
  },
  {
   "cell_type": "code",
   "execution_count": null,
   "metadata": {},
   "outputs": [],
   "source": [
    "ridge_pipe = Pipeline([\n",
    "    (\"shift\", sqrt_transform),\n",
    "    (\"scaler\", StandardScaler()),\n",
    "    (\"model\", Ridge())\n",
    "])\n",
    "\n",
    "ridge_search = GridSearchCV(ridge_pipe, param_grid, cv=4, scoring=\"neg_mean_squared_error\", verbose=1)\n",
    "ridge_search.fit(X_train, y_train)\n",
    "ridge_rmse = np.sqrt(-ridge_search.best_score_)\n",
    "ridge_rmse"
   ]
  }
 ],
 "metadata": {
  "kernelspec": {
   "display_name": "qfi",
   "language": "python",
   "name": "python3"
  },
  "language_info": {
   "codemirror_mode": {
    "name": "ipython",
    "version": 3
   },
   "file_extension": ".py",
   "mimetype": "text/x-python",
   "name": "python",
   "nbconvert_exporter": "python",
   "pygments_lexer": "ipython3",
   "version": "3.12.4"
  }
 },
 "nbformat": 4,
 "nbformat_minor": 2
}
